{
 "cells": [
  {
   "cell_type": "markdown",
   "id": "26d163ce-39ea-4adb-95c6-cf01d2fe56b8",
   "metadata": {
    "tags": []
   },
   "source": [
    "# Pan-barley transcriptome data wrangling\n",
    "## 1. Subset 1:1x20 Orthogroups\n",
    "## 2. Create metatable for all accessions\n",
    "## 3. Divide TPM table into accession-sets"
   ]
  },
  {
   "cell_type": "code",
   "execution_count": 2,
   "id": "132a4b10-6f13-4940-9bb7-87188d05e7d1",
   "metadata": {
    "tags": []
   },
   "outputs": [
    {
     "data": {
      "text/html": [
       "<table class=\"dataframe\">\n",
       "<caption>A data.frame: 2 × 297</caption>\n",
       "<thead>\n",
       "\t<tr><th></th><th scope=col>Akashinriki_Ca1</th><th scope=col>Akashinriki_Ca2</th><th scope=col>Akashinriki_Ca3</th><th scope=col>Akashinriki_Co1</th><th scope=col>Akashinriki_Co2</th><th scope=col>Akashinriki_Co3</th><th scope=col>Akashinriki_In1</th><th scope=col>Akashinriki_In2</th><th scope=col>Akashinriki_In3</th><th scope=col>Akashinriki_Ro1</th><th scope=col>⋯</th><th scope=col>RGTPlanet_Co3</th><th scope=col>RGTPlanet_In1</th><th scope=col>RGTPlanet_In2</th><th scope=col>RGTPlanet_In3</th><th scope=col>RGTPlanet_Ro1</th><th scope=col>RGTPlanet_Ro2</th><th scope=col>RGTPlanet_Ro3</th><th scope=col>RGTPlanet_Sh1</th><th scope=col>RGTPlanet_Sh2</th><th scope=col>RGTPlanet_Sh3</th></tr>\n",
       "\t<tr><th></th><th scope=col>&lt;dbl&gt;</th><th scope=col>&lt;dbl&gt;</th><th scope=col>&lt;dbl&gt;</th><th scope=col>&lt;dbl&gt;</th><th scope=col>&lt;dbl&gt;</th><th scope=col>&lt;dbl&gt;</th><th scope=col>&lt;dbl&gt;</th><th scope=col>&lt;dbl&gt;</th><th scope=col>&lt;dbl&gt;</th><th scope=col>&lt;dbl&gt;</th><th scope=col>⋯</th><th scope=col>&lt;dbl&gt;</th><th scope=col>&lt;dbl&gt;</th><th scope=col>&lt;dbl&gt;</th><th scope=col>&lt;dbl&gt;</th><th scope=col>&lt;dbl&gt;</th><th scope=col>&lt;dbl&gt;</th><th scope=col>&lt;dbl&gt;</th><th scope=col>&lt;dbl&gt;</th><th scope=col>&lt;dbl&gt;</th><th scope=col>&lt;dbl&gt;</th></tr>\n",
       "</thead>\n",
       "<tbody>\n",
       "\t<tr><th scope=row>chr1H00001</th><td>  4.007573</td><td> 3.927487</td><td>  3.833363</td><td> 19.69449</td><td> 26.30955</td><td> 25.0926</td><td>  4.080795</td><td> 3.197684</td><td>  6.416916</td><td> 0.550499</td><td>⋯</td><td> 18.30323</td><td>  4.690004</td><td>  4.166625</td><td>  5.417613</td><td> 1.272258</td><td> 1.170904</td><td> 1.360069</td><td> 30.31152</td><td> 27.36412</td><td> 26.2589</td></tr>\n",
       "\t<tr><th scope=row>chr1H00002</th><td>130.423413</td><td>95.909839</td><td>127.868675</td><td>606.02149</td><td>665.34842</td><td>636.3792</td><td>116.085727</td><td>77.322687</td><td>175.883190</td><td>16.129595</td><td>⋯</td><td>455.50814</td><td>101.854365</td><td>101.949697</td><td>130.543577</td><td>34.625894</td><td>32.760388</td><td>36.347136</td><td>888.63900</td><td>716.14744</td><td>670.2170</td></tr>\n",
       "</tbody>\n",
       "</table>\n"
      ],
      "text/latex": [
       "A data.frame: 2 × 297\n",
       "\\begin{tabular}{r|lllllllllllllllllllll}\n",
       "  & Akashinriki\\_Ca1 & Akashinriki\\_Ca2 & Akashinriki\\_Ca3 & Akashinriki\\_Co1 & Akashinriki\\_Co2 & Akashinriki\\_Co3 & Akashinriki\\_In1 & Akashinriki\\_In2 & Akashinriki\\_In3 & Akashinriki\\_Ro1 & ⋯ & RGTPlanet\\_Co3 & RGTPlanet\\_In1 & RGTPlanet\\_In2 & RGTPlanet\\_In3 & RGTPlanet\\_Ro1 & RGTPlanet\\_Ro2 & RGTPlanet\\_Ro3 & RGTPlanet\\_Sh1 & RGTPlanet\\_Sh2 & RGTPlanet\\_Sh3\\\\\n",
       "  & <dbl> & <dbl> & <dbl> & <dbl> & <dbl> & <dbl> & <dbl> & <dbl> & <dbl> & <dbl> & ⋯ & <dbl> & <dbl> & <dbl> & <dbl> & <dbl> & <dbl> & <dbl> & <dbl> & <dbl> & <dbl>\\\\\n",
       "\\hline\n",
       "\tchr1H00001 &   4.007573 &  3.927487 &   3.833363 &  19.69449 &  26.30955 &  25.0926 &   4.080795 &  3.197684 &   6.416916 &  0.550499 & ⋯ &  18.30323 &   4.690004 &   4.166625 &   5.417613 &  1.272258 &  1.170904 &  1.360069 &  30.31152 &  27.36412 &  26.2589\\\\\n",
       "\tchr1H00002 & 130.423413 & 95.909839 & 127.868675 & 606.02149 & 665.34842 & 636.3792 & 116.085727 & 77.322687 & 175.883190 & 16.129595 & ⋯ & 455.50814 & 101.854365 & 101.949697 & 130.543577 & 34.625894 & 32.760388 & 36.347136 & 888.63900 & 716.14744 & 670.2170\\\\\n",
       "\\end{tabular}\n"
      ],
      "text/markdown": [
       "\n",
       "A data.frame: 2 × 297\n",
       "\n",
       "| <!--/--> | Akashinriki_Ca1 &lt;dbl&gt; | Akashinriki_Ca2 &lt;dbl&gt; | Akashinriki_Ca3 &lt;dbl&gt; | Akashinriki_Co1 &lt;dbl&gt; | Akashinriki_Co2 &lt;dbl&gt; | Akashinriki_Co3 &lt;dbl&gt; | Akashinriki_In1 &lt;dbl&gt; | Akashinriki_In2 &lt;dbl&gt; | Akashinriki_In3 &lt;dbl&gt; | Akashinriki_Ro1 &lt;dbl&gt; | ⋯ ⋯ | RGTPlanet_Co3 &lt;dbl&gt; | RGTPlanet_In1 &lt;dbl&gt; | RGTPlanet_In2 &lt;dbl&gt; | RGTPlanet_In3 &lt;dbl&gt; | RGTPlanet_Ro1 &lt;dbl&gt; | RGTPlanet_Ro2 &lt;dbl&gt; | RGTPlanet_Ro3 &lt;dbl&gt; | RGTPlanet_Sh1 &lt;dbl&gt; | RGTPlanet_Sh2 &lt;dbl&gt; | RGTPlanet_Sh3 &lt;dbl&gt; |\n",
       "|---|---|---|---|---|---|---|---|---|---|---|---|---|---|---|---|---|---|---|---|---|---|\n",
       "| chr1H00001 |   4.007573 |  3.927487 |   3.833363 |  19.69449 |  26.30955 |  25.0926 |   4.080795 |  3.197684 |   6.416916 |  0.550499 | ⋯ |  18.30323 |   4.690004 |   4.166625 |   5.417613 |  1.272258 |  1.170904 |  1.360069 |  30.31152 |  27.36412 |  26.2589 |\n",
       "| chr1H00002 | 130.423413 | 95.909839 | 127.868675 | 606.02149 | 665.34842 | 636.3792 | 116.085727 | 77.322687 | 175.883190 | 16.129595 | ⋯ | 455.50814 | 101.854365 | 101.949697 | 130.543577 | 34.625894 | 32.760388 | 36.347136 | 888.63900 | 716.14744 | 670.2170 |\n",
       "\n"
      ],
      "text/plain": [
       "           Akashinriki_Ca1 Akashinriki_Ca2 Akashinriki_Ca3 Akashinriki_Co1\n",
       "chr1H00001   4.007573       3.927487         3.833363       19.69449      \n",
       "chr1H00002 130.423413      95.909839       127.868675      606.02149      \n",
       "           Akashinriki_Co2 Akashinriki_Co3 Akashinriki_In1 Akashinriki_In2\n",
       "chr1H00001  26.30955        25.0926          4.080795       3.197684      \n",
       "chr1H00002 665.34842       636.3792        116.085727      77.322687      \n",
       "           Akashinriki_In3 Akashinriki_Ro1 ⋯ RGTPlanet_Co3 RGTPlanet_In1\n",
       "chr1H00001   6.416916       0.550499       ⋯  18.30323       4.690004   \n",
       "chr1H00002 175.883190      16.129595       ⋯ 455.50814     101.854365   \n",
       "           RGTPlanet_In2 RGTPlanet_In3 RGTPlanet_Ro1 RGTPlanet_Ro2\n",
       "chr1H00001   4.166625      5.417613     1.272258      1.170904    \n",
       "chr1H00002 101.949697    130.543577    34.625894     32.760388    \n",
       "           RGTPlanet_Ro3 RGTPlanet_Sh1 RGTPlanet_Sh2 RGTPlanet_Sh3\n",
       "chr1H00001  1.360069      30.31152      27.36412      26.2589     \n",
       "chr1H00002 36.347136     888.63900     716.14744     670.2170     "
      ]
     },
     "metadata": {},
     "output_type": "display_data"
    },
    {
     "data": {
      "text/html": [
       "<style>\n",
       ".list-inline {list-style: none; margin:0; padding: 0}\n",
       ".list-inline>li {display: inline-block}\n",
       ".list-inline>li:not(:last-child)::after {content: \"\\00b7\"; padding: 0 .5ex}\n",
       "</style>\n",
       "<ol class=list-inline><li>79580</li><li>297</li></ol>\n"
      ],
      "text/latex": [
       "\\begin{enumerate*}\n",
       "\\item 79580\n",
       "\\item 297\n",
       "\\end{enumerate*}\n"
      ],
      "text/markdown": [
       "1. 79580\n",
       "2. 297\n",
       "\n",
       "\n"
      ],
      "text/plain": [
       "[1] 79580   297"
      ]
     },
     "metadata": {},
     "output_type": "display_data"
    },
    {
     "data": {
      "text/html": [
       "<style>\n",
       ".list-inline {list-style: none; margin:0; padding: 0}\n",
       ".list-inline>li {display: inline-block}\n",
       ".list-inline>li:not(:last-child)::after {content: \"\\00b7\"; padding: 0 .5ex}\n",
       "</style>\n",
       "<ol class=list-inline><li>2275093</li><li>9</li></ol>\n"
      ],
      "text/latex": [
       "\\begin{enumerate*}\n",
       "\\item 2275093\n",
       "\\item 9\n",
       "\\end{enumerate*}\n"
      ],
      "text/markdown": [
       "1. 2275093\n",
       "2. 9\n",
       "\n",
       "\n"
      ],
      "text/plain": [
       "[1] 2275093       9"
      ]
     },
     "metadata": {},
     "output_type": "display_data"
    },
    {
     "data": {
      "text/html": [
       "<table class=\"dataframe\">\n",
       "<caption>A data.frame: 2 × 9</caption>\n",
       "<thead>\n",
       "\t<tr><th></th><th scope=col>PanBaRT20_gene_id</th><th scope=col>PanBaRT20_transcript_id</th><th scope=col>PSVCP20_pos_strand</th><th scope=col>GsRTD_gene_id</th><th scope=col>GsRTD_transcript_id</th><th scope=col>Source_data</th><th scope=col>Genotype</th><th scope=col>Pan_category</th><th scope=col>PanBaRT20_DE_tissue</th></tr>\n",
       "\t<tr><th></th><th scope=col>&lt;fct&gt;</th><th scope=col>&lt;fct&gt;</th><th scope=col>&lt;fct&gt;</th><th scope=col>&lt;fct&gt;</th><th scope=col>&lt;fct&gt;</th><th scope=col>&lt;fct&gt;</th><th scope=col>&lt;fct&gt;</th><th scope=col>&lt;fct&gt;</th><th scope=col>&lt;fct&gt;</th></tr>\n",
       "</thead>\n",
       "<tbody>\n",
       "\t<tr><th scope=row>1</th><td>chr1H00001</td><td>chr1H00001.1</td><td>chr1H:49468-50716:-</td><td>HOR13942_chr1HG04824</td><td>HOR13942_chr1HG04824.1</td><td>RNA</td><td>HOR13942</td><td>shell;single</td><td>Co;In</td></tr>\n",
       "\t<tr><th scope=row>2</th><td>chr1H00001</td><td>chr1H00001.1</td><td>chr1H:49468-50716:-</td><td>Barke_chr1HG02204   </td><td>Barke_chr1HG02204.1   </td><td>RNA</td><td>Barke   </td><td>shell;single</td><td>Co;In</td></tr>\n",
       "</tbody>\n",
       "</table>\n"
      ],
      "text/latex": [
       "A data.frame: 2 × 9\n",
       "\\begin{tabular}{r|lllllllll}\n",
       "  & PanBaRT20\\_gene\\_id & PanBaRT20\\_transcript\\_id & PSVCP20\\_pos\\_strand & GsRTD\\_gene\\_id & GsRTD\\_transcript\\_id & Source\\_data & Genotype & Pan\\_category & PanBaRT20\\_DE\\_tissue\\\\\n",
       "  & <fct> & <fct> & <fct> & <fct> & <fct> & <fct> & <fct> & <fct> & <fct>\\\\\n",
       "\\hline\n",
       "\t1 & chr1H00001 & chr1H00001.1 & chr1H:49468-50716:- & HOR13942\\_chr1HG04824 & HOR13942\\_chr1HG04824.1 & RNA & HOR13942 & shell;single & Co;In\\\\\n",
       "\t2 & chr1H00001 & chr1H00001.1 & chr1H:49468-50716:- & Barke\\_chr1HG02204    & Barke\\_chr1HG02204.1    & RNA & Barke    & shell;single & Co;In\\\\\n",
       "\\end{tabular}\n"
      ],
      "text/markdown": [
       "\n",
       "A data.frame: 2 × 9\n",
       "\n",
       "| <!--/--> | PanBaRT20_gene_id &lt;fct&gt; | PanBaRT20_transcript_id &lt;fct&gt; | PSVCP20_pos_strand &lt;fct&gt; | GsRTD_gene_id &lt;fct&gt; | GsRTD_transcript_id &lt;fct&gt; | Source_data &lt;fct&gt; | Genotype &lt;fct&gt; | Pan_category &lt;fct&gt; | PanBaRT20_DE_tissue &lt;fct&gt; |\n",
       "|---|---|---|---|---|---|---|---|---|---|\n",
       "| 1 | chr1H00001 | chr1H00001.1 | chr1H:49468-50716:- | HOR13942_chr1HG04824 | HOR13942_chr1HG04824.1 | RNA | HOR13942 | shell;single | Co;In |\n",
       "| 2 | chr1H00001 | chr1H00001.1 | chr1H:49468-50716:- | Barke_chr1HG02204    | Barke_chr1HG02204.1    | RNA | Barke    | shell;single | Co;In |\n",
       "\n"
      ],
      "text/plain": [
       "  PanBaRT20_gene_id PanBaRT20_transcript_id PSVCP20_pos_strand \n",
       "1 chr1H00001        chr1H00001.1            chr1H:49468-50716:-\n",
       "2 chr1H00001        chr1H00001.1            chr1H:49468-50716:-\n",
       "  GsRTD_gene_id        GsRTD_transcript_id    Source_data Genotype Pan_category\n",
       "1 HOR13942_chr1HG04824 HOR13942_chr1HG04824.1 RNA         HOR13942 shell;single\n",
       "2 Barke_chr1HG02204    Barke_chr1HG02204.1    RNA         Barke    shell;single\n",
       "  PanBaRT20_DE_tissue\n",
       "1 Co;In              \n",
       "2 Co;In              "
      ]
     },
     "metadata": {},
     "output_type": "display_data"
    }
   ],
   "source": [
    "library(tidyverse)\n",
    "# import tables \n",
    "getwd()\n",
    "tpm <- read.table(\"PanBaRT20_tpm_genes.csv\", sep = \",\", row.names = 1, header = TRUE, stringsAsFactors = TRUE)\n",
    "hogs <- read.table(\"GsRTD_and_PanBaRT20_match.tsv\", sep = \"\\t\", header = TRUE, stringsAsFactors = TRUE)\n",
    "head(tpm, 2)\n",
    "dim(tpm)\n",
    "dim(hogs)\n",
    "head(hogs, 2)"
   ]
  },
  {
   "cell_type": "markdown",
   "id": "3d47bcd9-1378-492a-a92c-323ef5aa3c17",
   "metadata": {},
   "source": [
    "## 1. Subset 1:1x20 Orthogroups"
   ]
  },
  {
   "cell_type": "code",
   "execution_count": 3,
   "id": "94c10a55-de53-447d-8d77-47e97c76dc42",
   "metadata": {
    "tags": []
   },
   "outputs": [
    {
     "name": "stdout",
     "output_type": "stream",
     "text": [
      "Rows: 1,046,822\n",
      "Columns: 4\n",
      "$ PanBaRT20_gene_id       \u001b[3m\u001b[90m<fct>\u001b[39m\u001b[23m chr1H00008, chr1H00008, chr1H00008, chr1H00008…\n",
      "$ PanBaRT20_transcript_id \u001b[3m\u001b[90m<fct>\u001b[39m\u001b[23m chr1H00008.1, chr1H00008.2, chr1H00008.2, chr1…\n",
      "$ GsRTD_gene_id           \u001b[3m\u001b[90m<fct>\u001b[39m\u001b[23m GoldenPromise_chr1HG04348, HOR10350_chr1HG0430…\n",
      "$ Genotype                \u001b[3m\u001b[90m<fct>\u001b[39m\u001b[23m GoldenPromise, HOR10350, B1K-04-12, Igri, Hock…\n",
      "Rows: 13,680\n",
      "Columns: 1\n",
      "$ PanBaRT20_gene_id \u001b[3m\u001b[90m<fct>\u001b[39m\u001b[23m chr1H00008, chr1H00009, chr1H00015, chr1H00045, chr1…\n"
     ]
    }
   ],
   "source": [
    "orts <- hogs %>% filter(Pan_category == \"core;single\") %>% \n",
    "                 select(PanBaRT20_gene_id, PanBaRT20_transcript_id, GsRTD_gene_id, Genotype) %>% \n",
    "                 distinct()\n",
    "glimpse(orts)\n",
    "singlecopy <- orts %>% select(PanBaRT20_gene_id) %>% distinct()\n",
    "glimpse(singlecopy)\n",
    "# Save\n",
    "getwd()\n",
    "write.csv(singlecopy, file = \"Singlecopy_PanBaRT20gene_all.csv\", row.names = FALSE)"
   ]
  },
  {
   "cell_type": "code",
   "execution_count": 4,
   "id": "55fbc6d5-33a9-4d73-8933-d95fbfe8d993",
   "metadata": {
    "tags": []
   },
   "outputs": [
    {
     "data": {
      "text/html": [
       "<style>\n",
       ".list-inline {list-style: none; margin:0; padding: 0}\n",
       ".list-inline>li {display: inline-block}\n",
       ".list-inline>li:not(:last-child)::after {content: \"\\00b7\"; padding: 0 .5ex}\n",
       "</style>\n",
       "<ol class=list-inline><li>13680</li><li>297</li></ol>\n"
      ],
      "text/latex": [
       "\\begin{enumerate*}\n",
       "\\item 13680\n",
       "\\item 297\n",
       "\\end{enumerate*}\n"
      ],
      "text/markdown": [
       "1. 13680\n",
       "2. 297\n",
       "\n",
       "\n"
      ],
      "text/plain": [
       "[1] 13680   297"
      ]
     },
     "metadata": {},
     "output_type": "display_data"
    },
    {
     "data": {
      "text/html": [
       "<table class=\"dataframe\">\n",
       "<caption>A data.frame: 2 × 297</caption>\n",
       "<thead>\n",
       "\t<tr><th></th><th scope=col>Akashinriki_Ca1</th><th scope=col>Akashinriki_Ca2</th><th scope=col>Akashinriki_Ca3</th><th scope=col>Akashinriki_Co1</th><th scope=col>Akashinriki_Co2</th><th scope=col>Akashinriki_Co3</th><th scope=col>Akashinriki_In1</th><th scope=col>Akashinriki_In2</th><th scope=col>Akashinriki_In3</th><th scope=col>Akashinriki_Ro1</th><th scope=col>⋯</th><th scope=col>RGTPlanet_Co3</th><th scope=col>RGTPlanet_In1</th><th scope=col>RGTPlanet_In2</th><th scope=col>RGTPlanet_In3</th><th scope=col>RGTPlanet_Ro1</th><th scope=col>RGTPlanet_Ro2</th><th scope=col>RGTPlanet_Ro3</th><th scope=col>RGTPlanet_Sh1</th><th scope=col>RGTPlanet_Sh2</th><th scope=col>RGTPlanet_Sh3</th></tr>\n",
       "\t<tr><th></th><th scope=col>&lt;dbl&gt;</th><th scope=col>&lt;dbl&gt;</th><th scope=col>&lt;dbl&gt;</th><th scope=col>&lt;dbl&gt;</th><th scope=col>&lt;dbl&gt;</th><th scope=col>&lt;dbl&gt;</th><th scope=col>&lt;dbl&gt;</th><th scope=col>&lt;dbl&gt;</th><th scope=col>&lt;dbl&gt;</th><th scope=col>&lt;dbl&gt;</th><th scope=col>⋯</th><th scope=col>&lt;dbl&gt;</th><th scope=col>&lt;dbl&gt;</th><th scope=col>&lt;dbl&gt;</th><th scope=col>&lt;dbl&gt;</th><th scope=col>&lt;dbl&gt;</th><th scope=col>&lt;dbl&gt;</th><th scope=col>&lt;dbl&gt;</th><th scope=col>&lt;dbl&gt;</th><th scope=col>&lt;dbl&gt;</th><th scope=col>&lt;dbl&gt;</th></tr>\n",
       "</thead>\n",
       "<tbody>\n",
       "\t<tr><th scope=row>chr1H00008</th><td>25.032419</td><td>24.800915</td><td>22.762422</td><td>18.038997</td><td>20.022145</td><td>16.312609</td><td>35.54198</td><td>26.42026</td><td>46.36280</td><td>22.75497</td><td>⋯</td><td>20.71802</td><td>39.13962</td><td>34.75701</td><td>40.04513</td><td>31.46420</td><td>33.54113</td><td>32.56900</td><td>19.69352</td><td>22.09276</td><td>21.90693</td></tr>\n",
       "\t<tr><th scope=row>chr1H00009</th><td> 8.906746</td><td> 7.228023</td><td> 7.626372</td><td> 9.318535</td><td> 8.712761</td><td> 7.861657</td><td>37.56954</td><td>31.57817</td><td>28.24304</td><td>12.39945</td><td>⋯</td><td>10.85052</td><td>41.86304</td><td>36.21400</td><td>34.64365</td><td>15.11164</td><td>15.19396</td><td>14.78536</td><td>16.97324</td><td>16.66048</td><td>18.16478</td></tr>\n",
       "</tbody>\n",
       "</table>\n"
      ],
      "text/latex": [
       "A data.frame: 2 × 297\n",
       "\\begin{tabular}{r|lllllllllllllllllllll}\n",
       "  & Akashinriki\\_Ca1 & Akashinriki\\_Ca2 & Akashinriki\\_Ca3 & Akashinriki\\_Co1 & Akashinriki\\_Co2 & Akashinriki\\_Co3 & Akashinriki\\_In1 & Akashinriki\\_In2 & Akashinriki\\_In3 & Akashinriki\\_Ro1 & ⋯ & RGTPlanet\\_Co3 & RGTPlanet\\_In1 & RGTPlanet\\_In2 & RGTPlanet\\_In3 & RGTPlanet\\_Ro1 & RGTPlanet\\_Ro2 & RGTPlanet\\_Ro3 & RGTPlanet\\_Sh1 & RGTPlanet\\_Sh2 & RGTPlanet\\_Sh3\\\\\n",
       "  & <dbl> & <dbl> & <dbl> & <dbl> & <dbl> & <dbl> & <dbl> & <dbl> & <dbl> & <dbl> & ⋯ & <dbl> & <dbl> & <dbl> & <dbl> & <dbl> & <dbl> & <dbl> & <dbl> & <dbl> & <dbl>\\\\\n",
       "\\hline\n",
       "\tchr1H00008 & 25.032419 & 24.800915 & 22.762422 & 18.038997 & 20.022145 & 16.312609 & 35.54198 & 26.42026 & 46.36280 & 22.75497 & ⋯ & 20.71802 & 39.13962 & 34.75701 & 40.04513 & 31.46420 & 33.54113 & 32.56900 & 19.69352 & 22.09276 & 21.90693\\\\\n",
       "\tchr1H00009 &  8.906746 &  7.228023 &  7.626372 &  9.318535 &  8.712761 &  7.861657 & 37.56954 & 31.57817 & 28.24304 & 12.39945 & ⋯ & 10.85052 & 41.86304 & 36.21400 & 34.64365 & 15.11164 & 15.19396 & 14.78536 & 16.97324 & 16.66048 & 18.16478\\\\\n",
       "\\end{tabular}\n"
      ],
      "text/markdown": [
       "\n",
       "A data.frame: 2 × 297\n",
       "\n",
       "| <!--/--> | Akashinriki_Ca1 &lt;dbl&gt; | Akashinriki_Ca2 &lt;dbl&gt; | Akashinriki_Ca3 &lt;dbl&gt; | Akashinriki_Co1 &lt;dbl&gt; | Akashinriki_Co2 &lt;dbl&gt; | Akashinriki_Co3 &lt;dbl&gt; | Akashinriki_In1 &lt;dbl&gt; | Akashinriki_In2 &lt;dbl&gt; | Akashinriki_In3 &lt;dbl&gt; | Akashinriki_Ro1 &lt;dbl&gt; | ⋯ ⋯ | RGTPlanet_Co3 &lt;dbl&gt; | RGTPlanet_In1 &lt;dbl&gt; | RGTPlanet_In2 &lt;dbl&gt; | RGTPlanet_In3 &lt;dbl&gt; | RGTPlanet_Ro1 &lt;dbl&gt; | RGTPlanet_Ro2 &lt;dbl&gt; | RGTPlanet_Ro3 &lt;dbl&gt; | RGTPlanet_Sh1 &lt;dbl&gt; | RGTPlanet_Sh2 &lt;dbl&gt; | RGTPlanet_Sh3 &lt;dbl&gt; |\n",
       "|---|---|---|---|---|---|---|---|---|---|---|---|---|---|---|---|---|---|---|---|---|---|\n",
       "| chr1H00008 | 25.032419 | 24.800915 | 22.762422 | 18.038997 | 20.022145 | 16.312609 | 35.54198 | 26.42026 | 46.36280 | 22.75497 | ⋯ | 20.71802 | 39.13962 | 34.75701 | 40.04513 | 31.46420 | 33.54113 | 32.56900 | 19.69352 | 22.09276 | 21.90693 |\n",
       "| chr1H00009 |  8.906746 |  7.228023 |  7.626372 |  9.318535 |  8.712761 |  7.861657 | 37.56954 | 31.57817 | 28.24304 | 12.39945 | ⋯ | 10.85052 | 41.86304 | 36.21400 | 34.64365 | 15.11164 | 15.19396 | 14.78536 | 16.97324 | 16.66048 | 18.16478 |\n",
       "\n"
      ],
      "text/plain": [
       "           Akashinriki_Ca1 Akashinriki_Ca2 Akashinriki_Ca3 Akashinriki_Co1\n",
       "chr1H00008 25.032419       24.800915       22.762422       18.038997      \n",
       "chr1H00009  8.906746        7.228023        7.626372        9.318535      \n",
       "           Akashinriki_Co2 Akashinriki_Co3 Akashinriki_In1 Akashinriki_In2\n",
       "chr1H00008 20.022145       16.312609       35.54198        26.42026       \n",
       "chr1H00009  8.712761        7.861657       37.56954        31.57817       \n",
       "           Akashinriki_In3 Akashinriki_Ro1 ⋯ RGTPlanet_Co3 RGTPlanet_In1\n",
       "chr1H00008 46.36280        22.75497        ⋯ 20.71802      39.13962     \n",
       "chr1H00009 28.24304        12.39945        ⋯ 10.85052      41.86304     \n",
       "           RGTPlanet_In2 RGTPlanet_In3 RGTPlanet_Ro1 RGTPlanet_Ro2\n",
       "chr1H00008 34.75701      40.04513      31.46420      33.54113     \n",
       "chr1H00009 36.21400      34.64365      15.11164      15.19396     \n",
       "           RGTPlanet_Ro3 RGTPlanet_Sh1 RGTPlanet_Sh2 RGTPlanet_Sh3\n",
       "chr1H00008 32.56900      19.69352      22.09276      21.90693     \n",
       "chr1H00009 14.78536      16.97324      16.66048      18.16478     "
      ]
     },
     "metadata": {},
     "output_type": "display_data"
    }
   ],
   "source": [
    "# Subset tpm table with 20let-HOGs translated to PanBaRT20_gene_id-s\n",
    "tpm_geneID <- tpm %>% rownames_to_column(\"PanBaRT20_gene_id\")\n",
    "tpm_filt <- inner_join(singlecopy, tpm_geneID, by = \"PanBaRT20_gene_id\") %>% \n",
    "            column_to_rownames(\"PanBaRT20_gene_id\")\n",
    "dim(tpm_filt)\n",
    "head(tpm_filt, 2)"
   ]
  },
  {
   "cell_type": "code",
   "execution_count": 5,
   "id": "9731babf-592e-43fe-b5b1-6af45482505a",
   "metadata": {},
   "outputs": [
    {
     "data": {
      "text/html": [
       "<table class=\"dataframe\">\n",
       "<caption>A data.frame: 2 × 79580</caption>\n",
       "<thead>\n",
       "\t<tr><th></th><th scope=col>chr1H00001</th><th scope=col>chr1H00002</th><th scope=col>chr1H00003</th><th scope=col>chr1H00004</th><th scope=col>chr1H00005</th><th scope=col>chr1H00006</th><th scope=col>chr1H00007</th><th scope=col>chr1H00008</th><th scope=col>chr1H00009</th><th scope=col>chr1H00010</th><th scope=col>⋯</th><th scope=col>chr7H79571</th><th scope=col>chr7H79572</th><th scope=col>chr7H79573</th><th scope=col>chr7H79574</th><th scope=col>chr7H79575</th><th scope=col>chr7H79576</th><th scope=col>chr7H79577</th><th scope=col>chr7H79578</th><th scope=col>chr7H79579</th><th scope=col>chr7H79580</th></tr>\n",
       "\t<tr><th></th><th scope=col>&lt;dbl&gt;</th><th scope=col>&lt;dbl&gt;</th><th scope=col>&lt;dbl&gt;</th><th scope=col>&lt;dbl&gt;</th><th scope=col>&lt;dbl&gt;</th><th scope=col>&lt;dbl&gt;</th><th scope=col>&lt;dbl&gt;</th><th scope=col>&lt;dbl&gt;</th><th scope=col>&lt;dbl&gt;</th><th scope=col>&lt;dbl&gt;</th><th scope=col>⋯</th><th scope=col>&lt;dbl&gt;</th><th scope=col>&lt;dbl&gt;</th><th scope=col>&lt;dbl&gt;</th><th scope=col>&lt;dbl&gt;</th><th scope=col>&lt;dbl&gt;</th><th scope=col>&lt;dbl&gt;</th><th scope=col>&lt;dbl&gt;</th><th scope=col>&lt;dbl&gt;</th><th scope=col>&lt;dbl&gt;</th><th scope=col>&lt;dbl&gt;</th></tr>\n",
       "</thead>\n",
       "<tbody>\n",
       "\t<tr><th scope=row>Akashinriki_Ca1</th><td>4.007573</td><td>130.42341</td><td>0</td><td>0</td><td>1.808930</td><td>5.673198</td><td>27.76783</td><td>25.03242</td><td>8.906746</td><td>214.8217</td><td>⋯</td><td>2.001052</td><td>0.713503</td><td>1.853821</td><td>0.475589</td><td>0</td><td>10.898248</td><td>25.31995</td><td>2.112613</td><td>0.058038</td><td>0</td></tr>\n",
       "\t<tr><th scope=row>Akashinriki_Ca2</th><td>3.927487</td><td> 95.90984</td><td>0</td><td>0</td><td>1.464428</td><td>5.194460</td><td>21.77769</td><td>24.80091</td><td>7.228023</td><td>195.0607</td><td>⋯</td><td>1.397187</td><td>0.264392</td><td>1.566389</td><td>0.209979</td><td>0</td><td> 8.656334</td><td>20.34395</td><td>1.324194</td><td>0.289481</td><td>0</td></tr>\n",
       "</tbody>\n",
       "</table>\n"
      ],
      "text/latex": [
       "A data.frame: 2 × 79580\n",
       "\\begin{tabular}{r|lllllllllllllllllllll}\n",
       "  & chr1H00001 & chr1H00002 & chr1H00003 & chr1H00004 & chr1H00005 & chr1H00006 & chr1H00007 & chr1H00008 & chr1H00009 & chr1H00010 & ⋯ & chr7H79571 & chr7H79572 & chr7H79573 & chr7H79574 & chr7H79575 & chr7H79576 & chr7H79577 & chr7H79578 & chr7H79579 & chr7H79580\\\\\n",
       "  & <dbl> & <dbl> & <dbl> & <dbl> & <dbl> & <dbl> & <dbl> & <dbl> & <dbl> & <dbl> & ⋯ & <dbl> & <dbl> & <dbl> & <dbl> & <dbl> & <dbl> & <dbl> & <dbl> & <dbl> & <dbl>\\\\\n",
       "\\hline\n",
       "\tAkashinriki\\_Ca1 & 4.007573 & 130.42341 & 0 & 0 & 1.808930 & 5.673198 & 27.76783 & 25.03242 & 8.906746 & 214.8217 & ⋯ & 2.001052 & 0.713503 & 1.853821 & 0.475589 & 0 & 10.898248 & 25.31995 & 2.112613 & 0.058038 & 0\\\\\n",
       "\tAkashinriki\\_Ca2 & 3.927487 &  95.90984 & 0 & 0 & 1.464428 & 5.194460 & 21.77769 & 24.80091 & 7.228023 & 195.0607 & ⋯ & 1.397187 & 0.264392 & 1.566389 & 0.209979 & 0 &  8.656334 & 20.34395 & 1.324194 & 0.289481 & 0\\\\\n",
       "\\end{tabular}\n"
      ],
      "text/markdown": [
       "\n",
       "A data.frame: 2 × 79580\n",
       "\n",
       "| <!--/--> | chr1H00001 &lt;dbl&gt; | chr1H00002 &lt;dbl&gt; | chr1H00003 &lt;dbl&gt; | chr1H00004 &lt;dbl&gt; | chr1H00005 &lt;dbl&gt; | chr1H00006 &lt;dbl&gt; | chr1H00007 &lt;dbl&gt; | chr1H00008 &lt;dbl&gt; | chr1H00009 &lt;dbl&gt; | chr1H00010 &lt;dbl&gt; | ⋯ ⋯ | chr7H79571 &lt;dbl&gt; | chr7H79572 &lt;dbl&gt; | chr7H79573 &lt;dbl&gt; | chr7H79574 &lt;dbl&gt; | chr7H79575 &lt;dbl&gt; | chr7H79576 &lt;dbl&gt; | chr7H79577 &lt;dbl&gt; | chr7H79578 &lt;dbl&gt; | chr7H79579 &lt;dbl&gt; | chr7H79580 &lt;dbl&gt; |\n",
       "|---|---|---|---|---|---|---|---|---|---|---|---|---|---|---|---|---|---|---|---|---|---|\n",
       "| Akashinriki_Ca1 | 4.007573 | 130.42341 | 0 | 0 | 1.808930 | 5.673198 | 27.76783 | 25.03242 | 8.906746 | 214.8217 | ⋯ | 2.001052 | 0.713503 | 1.853821 | 0.475589 | 0 | 10.898248 | 25.31995 | 2.112613 | 0.058038 | 0 |\n",
       "| Akashinriki_Ca2 | 3.927487 |  95.90984 | 0 | 0 | 1.464428 | 5.194460 | 21.77769 | 24.80091 | 7.228023 | 195.0607 | ⋯ | 1.397187 | 0.264392 | 1.566389 | 0.209979 | 0 |  8.656334 | 20.34395 | 1.324194 | 0.289481 | 0 |\n",
       "\n"
      ],
      "text/plain": [
       "                chr1H00001 chr1H00002 chr1H00003 chr1H00004 chr1H00005\n",
       "Akashinriki_Ca1 4.007573   130.42341  0          0          1.808930  \n",
       "Akashinriki_Ca2 3.927487    95.90984  0          0          1.464428  \n",
       "                chr1H00006 chr1H00007 chr1H00008 chr1H00009 chr1H00010 ⋯\n",
       "Akashinriki_Ca1 5.673198   27.76783   25.03242   8.906746   214.8217   ⋯\n",
       "Akashinriki_Ca2 5.194460   21.77769   24.80091   7.228023   195.0607   ⋯\n",
       "                chr7H79571 chr7H79572 chr7H79573 chr7H79574 chr7H79575\n",
       "Akashinriki_Ca1 2.001052   0.713503   1.853821   0.475589   0         \n",
       "Akashinriki_Ca2 1.397187   0.264392   1.566389   0.209979   0         \n",
       "                chr7H79576 chr7H79577 chr7H79578 chr7H79579 chr7H79580\n",
       "Akashinriki_Ca1 10.898248  25.31995   2.112613   0.058038   0         \n",
       "Akashinriki_Ca2  8.656334  20.34395   1.324194   0.289481   0         "
      ]
     },
     "metadata": {},
     "output_type": "display_data"
    }
   ],
   "source": [
    "trans_tpm <- as.data.frame(t(tpm))\n",
    "head(trans_tpm, 2)"
   ]
  },
  {
   "cell_type": "markdown",
   "id": "4d2d5778-21f2-4f46-af98-61ae184213b5",
   "metadata": {},
   "source": [
    "## 2. Create metatable for all accessions"
   ]
  },
  {
   "cell_type": "code",
   "execution_count": 6,
   "id": "9e9f9b4f-30cb-40d9-b8bc-8ee91a75fd3f",
   "metadata": {
    "tags": []
   },
   "outputs": [
    {
     "data": {
      "text/html": [
       "<table class=\"dataframe\">\n",
       "<caption>A data.frame: 2 × 4</caption>\n",
       "<thead>\n",
       "\t<tr><th></th><th scope=col>ID</th><th scope=col>Accession</th><th scope=col>Tissue</th><th scope=col>Batch</th></tr>\n",
       "\t<tr><th></th><th scope=col>&lt;chr&gt;</th><th scope=col>&lt;chr&gt;</th><th scope=col>&lt;chr&gt;</th><th scope=col>&lt;int&gt;</th></tr>\n",
       "</thead>\n",
       "<tbody>\n",
       "\t<tr><th scope=row>1</th><td>Akashinriki_Ca1</td><td>Akashinriki</td><td>Caryopsis</td><td>1</td></tr>\n",
       "\t<tr><th scope=row>2</th><td>Akashinriki_Ca2</td><td>Akashinriki</td><td>Caryopsis</td><td>2</td></tr>\n",
       "</tbody>\n",
       "</table>\n"
      ],
      "text/latex": [
       "A data.frame: 2 × 4\n",
       "\\begin{tabular}{r|llll}\n",
       "  & ID & Accession & Tissue & Batch\\\\\n",
       "  & <chr> & <chr> & <chr> & <int>\\\\\n",
       "\\hline\n",
       "\t1 & Akashinriki\\_Ca1 & Akashinriki & Caryopsis & 1\\\\\n",
       "\t2 & Akashinriki\\_Ca2 & Akashinriki & Caryopsis & 2\\\\\n",
       "\\end{tabular}\n"
      ],
      "text/markdown": [
       "\n",
       "A data.frame: 2 × 4\n",
       "\n",
       "| <!--/--> | ID &lt;chr&gt; | Accession &lt;chr&gt; | Tissue &lt;chr&gt; | Batch &lt;int&gt; |\n",
       "|---|---|---|---|---|\n",
       "| 1 | Akashinriki_Ca1 | Akashinriki | Caryopsis | 1 |\n",
       "| 2 | Akashinriki_Ca2 | Akashinriki | Caryopsis | 2 |\n",
       "\n"
      ],
      "text/plain": [
       "  ID              Accession   Tissue    Batch\n",
       "1 Akashinriki_Ca1 Akashinriki Caryopsis 1    \n",
       "2 Akashinriki_Ca2 Akashinriki Caryopsis 2    "
      ]
     },
     "metadata": {},
     "output_type": "display_data"
    },
    {
     "name": "stdout",
     "output_type": "stream",
     "text": [
      "Rows: 297\n",
      "Columns: 4\n",
      "$ ID        \u001b[3m\u001b[90m<chr>\u001b[39m\u001b[23m \"Akashinriki_Ca1\", \"Akashinriki_Ca2\", \"Akashinriki_Ca3\", \"Ak…\n",
      "$ Accession \u001b[3m\u001b[90m<chr>\u001b[39m\u001b[23m \"Akashinriki\", \"Akashinriki\", \"Akashinriki\", \"Akashinriki\", …\n",
      "$ Tissue    \u001b[3m\u001b[90m<chr>\u001b[39m\u001b[23m \"Caryopsis\", \"Caryopsis\", \"Caryopsis\", \"Coleoptiles\", \"Coleo…\n",
      "$ Batch     \u001b[3m\u001b[90m<int>\u001b[39m\u001b[23m 1, 2, 3, 1, 2, 3, 1, 2, 3, 1, 2, 3, 1, 2, 3, 1, 2, 3, 1, 2, …\n"
     ]
    },
    {
     "data": {
      "text/html": [
       "<style>\n",
       ".list-inline {list-style: none; margin:0; padding: 0}\n",
       ".list-inline>li {display: inline-block}\n",
       ".list-inline>li:not(:last-child)::after {content: \"\\00b7\"; padding: 0 .5ex}\n",
       "</style>\n",
       "<ol class=list-inline><li>20</li><li>1</li></ol>\n"
      ],
      "text/latex": [
       "\\begin{enumerate*}\n",
       "\\item 20\n",
       "\\item 1\n",
       "\\end{enumerate*}\n"
      ],
      "text/markdown": [
       "1. 20\n",
       "2. 1\n",
       "\n",
       "\n"
      ],
      "text/plain": [
       "[1] 20  1"
      ]
     },
     "metadata": {},
     "output_type": "display_data"
    }
   ],
   "source": [
    "# Create metatable\n",
    "##################\n",
    "meta <- trans_tpm %>% rownames_to_column(\"ID\") %>%\n",
    "                        select(ID) %>%\n",
    "                        mutate(Accession = str_extract(ID, regex(\"[a-z0-9]+\", ignore_case = TRUE))) %>%\n",
    "                        mutate(Tissue = str_sub(str_extract(ID, regex(\"_[a-z]+\", ignore_case = TRUE)), -2)) %>%\n",
    "                        mutate(Batch = as.integer(str_extract(ID, \"(?<=_\\\\w{2})\\\\d$\"))) %>%\n",
    "                        mutate(Tissue = case_when(Tissue == \"Ca\" ~ \"Caryopsis\",\n",
    "                                                  Tissue == \"Co\" ~ \"Coleoptiles\",\n",
    "                                                  Tissue == \"Sh\" ~ \"Shoot\",\n",
    "                                                  Tissue == \"Ro\" ~ \"Root\",\n",
    "                                                  Tissue == \"In\" ~ \"Inflorescence\"))\n",
    "head(meta, 2)\n",
    "glimpse(meta)\n",
    "\n",
    "# save joined metatable for all accessions together\n",
    "getwd()\n",
    "write.csv(meta, file = \"PanBaRT20_geneTPM_meta.csv\", row.names = FALSE)\n",
    "\n",
    "# save project table with each accession mentioned once\n",
    "meta_acc <- meta %>% select(Accession) %>% distinct()\n",
    "dim(meta_acc)\n",
    "write.table(meta_acc, file = \"PanBaRT20_project_table.txt\", row.names = FALSE)\n",
    "\n",
    "# save accession-wise metatable\n",
    "acc <- unique(meta$Accession)\n",
    "for (ac in acc) {\n",
    "    # For the special case of ZDM01467: filter out In2 sample\n",
    "    if (ac == \"ZDM01467\") {\n",
    "        subset_meta <- meta %>% \n",
    "            filter(ID != \"ZDM01467_In2\") %>% \n",
    "            filter(Accession == ac)\n",
    "    } else {\n",
    "        subset_meta <- meta %>% filter(Accession == ac)\n",
    "    }\n",
    "    filename <- paste0(ac, \"_meta.csv\")\n",
    "    write.csv(subset_meta, file = filename, row.names = FALSE)\n",
    "}"
   ]
  },
  {
   "cell_type": "markdown",
   "id": "7a37f8a5-2e23-4af5-9649-63c29bc4ebb6",
   "metadata": {},
   "source": [
    "## 3. Divide TPM table into accession-sets"
   ]
  },
  {
   "cell_type": "code",
   "execution_count": 12,
   "id": "36291db6-eeba-460a-b236-931912ee1118",
   "metadata": {
    "tags": []
   },
   "outputs": [
    {
     "data": {
      "text/html": [
       "<style>\n",
       ".list-inline {list-style: none; margin:0; padding: 0}\n",
       ".list-inline>li {display: inline-block}\n",
       ".list-inline>li:not(:last-child)::after {content: \"\\00b7\"; padding: 0 .5ex}\n",
       "</style>\n",
       "<ol class=list-inline><li>'Akashinriki'</li><li>'Barke'</li><li>'ZDM02064'</li><li>'ZDM01467'</li><li>'B1K'</li><li>'GoldenPromise'</li><li>'Hockett'</li><li>'HOR10350'</li><li>'HOR13821'</li><li>'HOR13942'</li><li>'HOR21599'</li><li>'HOR3081'</li><li>'HOR3365'</li><li>'HOR7552'</li><li>'HOR8148'</li><li>'HOR9043'</li><li>'Igri'</li><li>'Morex'</li><li>'OUN333'</li><li>'RGTPlanet'</li></ol>\n"
      ],
      "text/latex": [
       "\\begin{enumerate*}\n",
       "\\item 'Akashinriki'\n",
       "\\item 'Barke'\n",
       "\\item 'ZDM02064'\n",
       "\\item 'ZDM01467'\n",
       "\\item 'B1K'\n",
       "\\item 'GoldenPromise'\n",
       "\\item 'Hockett'\n",
       "\\item 'HOR10350'\n",
       "\\item 'HOR13821'\n",
       "\\item 'HOR13942'\n",
       "\\item 'HOR21599'\n",
       "\\item 'HOR3081'\n",
       "\\item 'HOR3365'\n",
       "\\item 'HOR7552'\n",
       "\\item 'HOR8148'\n",
       "\\item 'HOR9043'\n",
       "\\item 'Igri'\n",
       "\\item 'Morex'\n",
       "\\item 'OUN333'\n",
       "\\item 'RGTPlanet'\n",
       "\\end{enumerate*}\n"
      ],
      "text/markdown": [
       "1. 'Akashinriki'\n",
       "2. 'Barke'\n",
       "3. 'ZDM02064'\n",
       "4. 'ZDM01467'\n",
       "5. 'B1K'\n",
       "6. 'GoldenPromise'\n",
       "7. 'Hockett'\n",
       "8. 'HOR10350'\n",
       "9. 'HOR13821'\n",
       "10. 'HOR13942'\n",
       "11. 'HOR21599'\n",
       "12. 'HOR3081'\n",
       "13. 'HOR3365'\n",
       "14. 'HOR7552'\n",
       "15. 'HOR8148'\n",
       "16. 'HOR9043'\n",
       "17. 'Igri'\n",
       "18. 'Morex'\n",
       "19. 'OUN333'\n",
       "20. 'RGTPlanet'\n",
       "\n",
       "\n"
      ],
      "text/plain": [
       " [1] \"Akashinriki\"   \"Barke\"         \"ZDM02064\"      \"ZDM01467\"     \n",
       " [5] \"B1K\"           \"GoldenPromise\" \"Hockett\"       \"HOR10350\"     \n",
       " [9] \"HOR13821\"      \"HOR13942\"      \"HOR21599\"      \"HOR3081\"      \n",
       "[13] \"HOR3365\"       \"HOR7552\"       \"HOR8148\"       \"HOR9043\"      \n",
       "[17] \"Igri\"          \"Morex\"         \"OUN333\"        \"RGTPlanet\"    "
      ]
     },
     "metadata": {},
     "output_type": "display_data"
    },
    {
     "name": "stdout",
     "output_type": "stream",
     "text": [
      "Rows: 1,046,107\n",
      "Columns: 3\n",
      "$ PanBaRT20_gene_id       \u001b[3m\u001b[90m<chr>\u001b[39m\u001b[23m \"chr1H00008\", \"chr1H00008\", \"chr1H00008\", \"chr…\n",
      "$ PanBaRT20_transcript_id \u001b[3m\u001b[90m<fct>\u001b[39m\u001b[23m chr1H00008.1, chr1H00008.2, chr1H00008.2, chr1…\n",
      "$ Genotype                \u001b[3m\u001b[90m<fct>\u001b[39m\u001b[23m GoldenPromise, HOR10350, B1K-04-12, Igri, Hock…\n",
      "[1] \"Akashinriki filtered genes with >0.5 for min 2 samples across all samples:13652\"\n",
      "[2] \"Akashinriki filtered genes with >0.5 for min 2 samples across all samples:15\"   \n",
      "[1] \"Barke filtered genes with >0.5 for min 2 samples across all samples:13652\"\n",
      "[2] \"Barke filtered genes with >0.5 for min 2 samples across all samples:15\"   \n",
      "[1] \"ZDM02064 filtered genes with >0.5 for min 2 samples across all samples:13652\"\n",
      "[2] \"ZDM02064 filtered genes with >0.5 for min 2 samples across all samples:15\"   \n",
      "[1] \"ZDM01467 filtered genes with >0.5 for min 2 samples across all samples:13652\"\n",
      "[2] \"ZDM01467 filtered genes with >0.5 for min 2 samples across all samples:14\"   \n",
      "[1] \"B1K filtered genes with >0.5 for min 2 samples across all samples:13652\"\n",
      "[2] \"B1K filtered genes with >0.5 for min 2 samples across all samples:15\"   \n",
      "[1] \"GoldenPromise filtered genes with >0.5 for min 2 samples across all samples:13652\"\n",
      "[2] \"GoldenPromise filtered genes with >0.5 for min 2 samples across all samples:15\"   \n",
      "[1] \"Hockett filtered genes with >0.5 for min 2 samples across all samples:13652\"\n",
      "[2] \"Hockett filtered genes with >0.5 for min 2 samples across all samples:15\"   \n",
      "[1] \"HOR10350 filtered genes with >0.5 for min 2 samples across all samples:13652\"\n",
      "[2] \"HOR10350 filtered genes with >0.5 for min 2 samples across all samples:14\"   \n",
      "[1] \"HOR13821 filtered genes with >0.5 for min 2 samples across all samples:13652\"\n",
      "[2] \"HOR13821 filtered genes with >0.5 for min 2 samples across all samples:15\"   \n",
      "[1] \"HOR13942 filtered genes with >0.5 for min 2 samples across all samples:13652\"\n",
      "[2] \"HOR13942 filtered genes with >0.5 for min 2 samples across all samples:15\"   \n",
      "[1] \"HOR21599 filtered genes with >0.5 for min 2 samples across all samples:13652\"\n",
      "[2] \"HOR21599 filtered genes with >0.5 for min 2 samples across all samples:15\"   \n",
      "[1] \"HOR3081 filtered genes with >0.5 for min 2 samples across all samples:13652\"\n",
      "[2] \"HOR3081 filtered genes with >0.5 for min 2 samples across all samples:15\"   \n",
      "[1] \"HOR3365 filtered genes with >0.5 for min 2 samples across all samples:13652\"\n",
      "[2] \"HOR3365 filtered genes with >0.5 for min 2 samples across all samples:15\"   \n",
      "[1] \"HOR7552 filtered genes with >0.5 for min 2 samples across all samples:13652\"\n",
      "[2] \"HOR7552 filtered genes with >0.5 for min 2 samples across all samples:14\"   \n",
      "[1] \"HOR8148 filtered genes with >0.5 for min 2 samples across all samples:13652\"\n",
      "[2] \"HOR8148 filtered genes with >0.5 for min 2 samples across all samples:14\"   \n",
      "[1] \"HOR9043 filtered genes with >0.5 for min 2 samples across all samples:13652\"\n",
      "[2] \"HOR9043 filtered genes with >0.5 for min 2 samples across all samples:15\"   \n",
      "[1] \"Igri filtered genes with >0.5 for min 2 samples across all samples:13652\"\n",
      "[2] \"Igri filtered genes with >0.5 for min 2 samples across all samples:15\"   \n",
      "[1] \"Morex filtered genes with >0.5 for min 2 samples across all samples:13652\"\n",
      "[2] \"Morex filtered genes with >0.5 for min 2 samples across all samples:15\"   \n",
      "[1] \"OUN333 filtered genes with >0.5 for min 2 samples across all samples:13652\"\n",
      "[2] \"OUN333 filtered genes with >0.5 for min 2 samples across all samples:15\"   \n",
      "[1] \"RGTPlanet filtered genes with >0.5 for min 2 samples across all samples:13652\"\n",
      "[2] \"RGTPlanet filtered genes with >0.5 for min 2 samples across all samples:15\"   \n"
     ]
    }
   ],
   "source": [
    "# divide accessions into separate tpm tables and save them\n",
    "getwd()\n",
    "# create vector of accession types\n",
    "acc <- unique(meta$Accession)\n",
    "acc\n",
    "\n",
    "# First, determine the set of genes that pass the filter across all accessions\n",
    "common_filtered_genes <- Reduce(intersect, \n",
    "                                lapply(acc, function(name) {\n",
    "                                    matching_cols <- grep(paste0(\"^\", name), colnames(tpm_filt))\n",
    "                                    subtable <- tpm_filt[, matching_cols, drop = FALSE]\n",
    "                                    \n",
    "                                    # Special case for \"ZDM01467\" to exclude \"ZDM01467_In2\" column\n",
    "                                    if (name == \"ZDM01467\") {\n",
    "                                        subtable <- subtable[, !colnames(subtable) %in% c(\"ZDM01467_In2\"), drop = FALSE]\n",
    "                                    }  \n",
    "                                    \n",
    "                                    idx <- rowSums(subtable >= 0.5) >= 2\n",
    "                                    return(rownames(subtable)[idx])\n",
    "                                }))\n",
    "\n",
    "# Save the common_filtered_genes list to a CSV file\n",
    "common <- data.frame(PanBaRT20_gene_id=common_filtered_genes)\n",
    "common_single20 <- inner_join(common, orts, by = \"PanBaRT20_gene_id\") %>% \n",
    "                    select(PanBaRT20_gene_id, PanBaRT20_transcript_id, Genotype) %>%\n",
    "                    distinct()\n",
    "glimpse(common_single20)\n",
    "write.csv(common_single20, file = \"Singlecopy_transcript_to_gene_expressing.csv\", row.names = FALSE, quote = FALSE)\n",
    "only_geneid <-common_single20 %>% \n",
    "                select(PanBaRT20_gene_id) %>% \n",
    "                distinct()\n",
    "write.csv(only_geneid, file = \"Singlecopy_PanBaRT20geneID_expressing.csv\", row.names = FALSE, quote = FALSE)\n",
    "\n",
    "getwd()\n",
    "\n",
    "# Extract subtables for matching column names\n",
    "subtables <- lapply(acc, function(name) {\n",
    "  matching_cols <- grep(paste0(\"^\", name), colnames(tpm_filt))\n",
    "  subtable <- tpm_filt[rownames(tpm_filt) %in% common_filtered_genes, matching_cols, drop = FALSE]\n",
    "  \n",
    "  # Special case for \"ZDM01467\" to exclude \"ZDM01467_In2\" column\n",
    "  if (name == \"ZDM01467\") {\n",
    "    subtable <- subtable[, !colnames(subtable) %in% c(\"ZDM01467_In2\"), drop = FALSE]\n",
    "  }  \n",
    "  \n",
    "  print(paste0(name, \" filtered genes with >0.5 for min 2 samples across all samples:\", dim(subtable)))\n",
    "  \n",
    "  # Save each subtable in a separate file\n",
    "  file_name <- paste0(\"PanBaRT20_geneTPM_ort_filt_\", name, \".csv\")\n",
    "  write.csv(subtable, file = file_name, row.names = TRUE)\n",
    "})"
   ]
  },
  {
   "cell_type": "code",
   "execution_count": 9,
   "id": "4585610b-6006-4aeb-86c5-c5119270497c",
   "metadata": {
    "tags": []
   },
   "outputs": [
    {
     "data": {
      "text/plain": [
       "R version 4.2.3 (2023-03-15)\n",
       "Platform: x86_64-conda-linux-gnu (64-bit)\n",
       "Running under: Ubuntu 22.04.3 LTS\n",
       "\n",
       "Matrix products: default\n",
       "BLAS/LAPACK: /home/vanda/miniconda3/envs/r/lib/libopenblasp-r0.3.21.so\n",
       "\n",
       "locale:\n",
       " [1] LC_CTYPE=en_US.UTF-8       LC_NUMERIC=C              \n",
       " [3] LC_TIME=de_DE.UTF-8        LC_COLLATE=en_US.UTF-8    \n",
       " [5] LC_MONETARY=de_DE.UTF-8    LC_MESSAGES=en_US.UTF-8   \n",
       " [7] LC_PAPER=de_DE.UTF-8       LC_NAME=C                 \n",
       " [9] LC_ADDRESS=C               LC_TELEPHONE=C            \n",
       "[11] LC_MEASUREMENT=de_DE.UTF-8 LC_IDENTIFICATION=C       \n",
       "\n",
       "attached base packages:\n",
       "[1] stats     graphics  grDevices utils     datasets  methods   base     \n",
       "\n",
       "other attached packages:\n",
       " [1] lubridate_1.9.2 forcats_1.0.0   stringr_1.5.0   dplyr_1.1.2    \n",
       " [5] purrr_1.0.1     readr_2.1.4     tidyr_1.3.0     tibble_3.2.1   \n",
       " [9] ggplot2_3.4.3   tidyverse_2.0.0\n",
       "\n",
       "loaded via a namespace (and not attached):\n",
       " [1] pillar_1.9.0     compiler_4.2.3   base64enc_0.1-3  tools_4.2.3     \n",
       " [5] digest_0.6.31    uuid_1.1-0       timechange_0.2.0 jsonlite_1.8.4  \n",
       " [9] evaluate_0.20    lifecycle_1.0.3  gtable_0.3.3     pkgconfig_2.0.3 \n",
       "[13] rlang_1.1.1      IRdisplay_1.1    cli_3.6.1        IRkernel_1.3.2  \n",
       "[17] fastmap_1.1.1    repr_1.1.6       withr_2.5.0      hms_1.1.3       \n",
       "[21] generics_0.1.3   vctrs_0.6.3      grid_4.2.3       tidyselect_1.2.0\n",
       "[25] glue_1.6.2       R6_2.5.1         fansi_1.0.4      pbdZMQ_0.3-9    \n",
       "[29] tzdb_0.3.0       magrittr_2.0.3   scales_1.2.1     htmltools_0.5.5 \n",
       "[33] colorspace_2.1-0 utf8_1.2.3       stringi_1.7.12   munsell_0.5.0   \n",
       "[37] crayon_1.5.2    "
      ]
     },
     "metadata": {},
     "output_type": "display_data"
    }
   ],
   "source": [
    "sessionInfo()"
   ]
  }
 ],
 "metadata": {
  "kernelspec": {
   "display_name": "R [conda env:r]",
   "language": "R",
   "name": "conda-env-r-r"
  },
  "language_info": {
   "codemirror_mode": "r",
   "file_extension": ".r",
   "mimetype": "text/x-r-source",
   "name": "R",
   "pygments_lexer": "r",
   "version": "4.2.3"
  }
 },
 "nbformat": 4,
 "nbformat_minor": 5
}
