{
 "cells": [
  {
   "cell_type": "markdown",
   "id": "26d163ce-39ea-4adb-95c6-cf01d2fe56b8",
   "metadata": {
    "tags": []
   },
   "source": [
    "# Data wrangling\n",
    "## 1. Create metatable\n",
    "## 2. Divide TPM table into accession-sets"
   ]
  },
  {
   "cell_type": "code",
   "execution_count": 1,
   "id": "132a4b10-6f13-4940-9bb7-87188d05e7d1",
   "metadata": {
    "tags": []
   },
   "outputs": [
    {
     "name": "stderr",
     "output_type": "stream",
     "text": [
      "── \u001b[1mAttaching core tidyverse packages\u001b[22m ─────────────────────────────────────────────────────────────────── tidyverse 2.0.0 ──\n",
      "\u001b[32m✔\u001b[39m \u001b[34mdplyr    \u001b[39m 1.1.2     \u001b[32m✔\u001b[39m \u001b[34mreadr    \u001b[39m 2.1.4\n",
      "\u001b[32m✔\u001b[39m \u001b[34mforcats  \u001b[39m 1.0.0     \u001b[32m✔\u001b[39m \u001b[34mstringr  \u001b[39m 1.5.0\n",
      "\u001b[32m✔\u001b[39m \u001b[34mggplot2  \u001b[39m 3.4.2     \u001b[32m✔\u001b[39m \u001b[34mtibble   \u001b[39m 3.2.1\n",
      "\u001b[32m✔\u001b[39m \u001b[34mlubridate\u001b[39m 1.9.2     \u001b[32m✔\u001b[39m \u001b[34mtidyr    \u001b[39m 1.3.0\n",
      "\u001b[32m✔\u001b[39m \u001b[34mpurrr    \u001b[39m 1.0.1     \n",
      "── \u001b[1mConflicts\u001b[22m ───────────────────────────────────────────────────────────────────────────────────── tidyverse_conflicts() ──\n",
      "\u001b[31m✖\u001b[39m \u001b[34mdplyr\u001b[39m::\u001b[32mfilter()\u001b[39m masks \u001b[34mstats\u001b[39m::filter()\n",
      "\u001b[31m✖\u001b[39m \u001b[34mdplyr\u001b[39m::\u001b[32mlag()\u001b[39m    masks \u001b[34mstats\u001b[39m::lag()\n",
      "\u001b[36mℹ\u001b[39m Use the conflicted package (\u001b[3m\u001b[34m<http://conflicted.r-lib.org/>\u001b[39m\u001b[23m) to force all conflicts to become errors\n"
     ]
    },
    {
     "data": {
      "text/html": [
       "<table class=\"dataframe\">\n",
       "<caption>A data.frame: 2 × 297</caption>\n",
       "<thead>\n",
       "\t<tr><th></th><th scope=col>Akashinriki_Ca1</th><th scope=col>Akashinriki_Ca2</th><th scope=col>Akashinriki_Ca3</th><th scope=col>Akashinriki_Co1</th><th scope=col>Akashinriki_Co2</th><th scope=col>Akashinriki_Co3</th><th scope=col>Akashinriki_In1</th><th scope=col>Akashinriki_In2</th><th scope=col>Akashinriki_In3</th><th scope=col>Akashinriki_Ro1</th><th scope=col>⋯</th><th scope=col>RGTPlanet_Co3</th><th scope=col>RGTPlanet_In1</th><th scope=col>RGTPlanet_In2</th><th scope=col>RGTPlanet_In3</th><th scope=col>RGTPlanet_Ro1</th><th scope=col>RGTPlanet_Ro2</th><th scope=col>RGTPlanet_Ro3</th><th scope=col>RGTPlanet_Sh1</th><th scope=col>RGTPlanet_Sh2</th><th scope=col>RGTPlanet_Sh3</th></tr>\n",
       "\t<tr><th></th><th scope=col>&lt;dbl&gt;</th><th scope=col>&lt;dbl&gt;</th><th scope=col>&lt;dbl&gt;</th><th scope=col>&lt;dbl&gt;</th><th scope=col>&lt;dbl&gt;</th><th scope=col>&lt;dbl&gt;</th><th scope=col>&lt;dbl&gt;</th><th scope=col>&lt;dbl&gt;</th><th scope=col>&lt;dbl&gt;</th><th scope=col>&lt;dbl&gt;</th><th scope=col>⋯</th><th scope=col>&lt;dbl&gt;</th><th scope=col>&lt;dbl&gt;</th><th scope=col>&lt;dbl&gt;</th><th scope=col>&lt;dbl&gt;</th><th scope=col>&lt;dbl&gt;</th><th scope=col>&lt;dbl&gt;</th><th scope=col>&lt;dbl&gt;</th><th scope=col>&lt;dbl&gt;</th><th scope=col>&lt;dbl&gt;</th><th scope=col>&lt;dbl&gt;</th></tr>\n",
       "</thead>\n",
       "<tbody>\n",
       "\t<tr><th scope=row>chr1H00001</th><td>  4.007573</td><td> 3.927487</td><td>  3.833363</td><td> 19.69449</td><td> 26.30955</td><td> 25.0926</td><td>  4.080795</td><td> 3.197684</td><td>  6.416916</td><td> 0.550499</td><td>⋯</td><td> 18.30323</td><td>  4.690004</td><td>  4.166625</td><td>  5.417613</td><td> 1.272258</td><td> 1.170904</td><td> 1.360069</td><td> 30.31152</td><td> 27.36412</td><td> 26.2589</td></tr>\n",
       "\t<tr><th scope=row>chr1H00002</th><td>130.423413</td><td>95.909839</td><td>127.868675</td><td>606.02149</td><td>665.34842</td><td>636.3792</td><td>116.085727</td><td>77.322687</td><td>175.883190</td><td>16.129595</td><td>⋯</td><td>455.50814</td><td>101.854365</td><td>101.949697</td><td>130.543577</td><td>34.625894</td><td>32.760388</td><td>36.347136</td><td>888.63900</td><td>716.14744</td><td>670.2170</td></tr>\n",
       "</tbody>\n",
       "</table>\n"
      ],
      "text/latex": [
       "A data.frame: 2 × 297\n",
       "\\begin{tabular}{r|lllllllllllllllllllll}\n",
       "  & Akashinriki\\_Ca1 & Akashinriki\\_Ca2 & Akashinriki\\_Ca3 & Akashinriki\\_Co1 & Akashinriki\\_Co2 & Akashinriki\\_Co3 & Akashinriki\\_In1 & Akashinriki\\_In2 & Akashinriki\\_In3 & Akashinriki\\_Ro1 & ⋯ & RGTPlanet\\_Co3 & RGTPlanet\\_In1 & RGTPlanet\\_In2 & RGTPlanet\\_In3 & RGTPlanet\\_Ro1 & RGTPlanet\\_Ro2 & RGTPlanet\\_Ro3 & RGTPlanet\\_Sh1 & RGTPlanet\\_Sh2 & RGTPlanet\\_Sh3\\\\\n",
       "  & <dbl> & <dbl> & <dbl> & <dbl> & <dbl> & <dbl> & <dbl> & <dbl> & <dbl> & <dbl> & ⋯ & <dbl> & <dbl> & <dbl> & <dbl> & <dbl> & <dbl> & <dbl> & <dbl> & <dbl> & <dbl>\\\\\n",
       "\\hline\n",
       "\tchr1H00001 &   4.007573 &  3.927487 &   3.833363 &  19.69449 &  26.30955 &  25.0926 &   4.080795 &  3.197684 &   6.416916 &  0.550499 & ⋯ &  18.30323 &   4.690004 &   4.166625 &   5.417613 &  1.272258 &  1.170904 &  1.360069 &  30.31152 &  27.36412 &  26.2589\\\\\n",
       "\tchr1H00002 & 130.423413 & 95.909839 & 127.868675 & 606.02149 & 665.34842 & 636.3792 & 116.085727 & 77.322687 & 175.883190 & 16.129595 & ⋯ & 455.50814 & 101.854365 & 101.949697 & 130.543577 & 34.625894 & 32.760388 & 36.347136 & 888.63900 & 716.14744 & 670.2170\\\\\n",
       "\\end{tabular}\n"
      ],
      "text/markdown": [
       "\n",
       "A data.frame: 2 × 297\n",
       "\n",
       "| <!--/--> | Akashinriki_Ca1 &lt;dbl&gt; | Akashinriki_Ca2 &lt;dbl&gt; | Akashinriki_Ca3 &lt;dbl&gt; | Akashinriki_Co1 &lt;dbl&gt; | Akashinriki_Co2 &lt;dbl&gt; | Akashinriki_Co3 &lt;dbl&gt; | Akashinriki_In1 &lt;dbl&gt; | Akashinriki_In2 &lt;dbl&gt; | Akashinriki_In3 &lt;dbl&gt; | Akashinriki_Ro1 &lt;dbl&gt; | ⋯ ⋯ | RGTPlanet_Co3 &lt;dbl&gt; | RGTPlanet_In1 &lt;dbl&gt; | RGTPlanet_In2 &lt;dbl&gt; | RGTPlanet_In3 &lt;dbl&gt; | RGTPlanet_Ro1 &lt;dbl&gt; | RGTPlanet_Ro2 &lt;dbl&gt; | RGTPlanet_Ro3 &lt;dbl&gt; | RGTPlanet_Sh1 &lt;dbl&gt; | RGTPlanet_Sh2 &lt;dbl&gt; | RGTPlanet_Sh3 &lt;dbl&gt; |\n",
       "|---|---|---|---|---|---|---|---|---|---|---|---|---|---|---|---|---|---|---|---|---|---|\n",
       "| chr1H00001 |   4.007573 |  3.927487 |   3.833363 |  19.69449 |  26.30955 |  25.0926 |   4.080795 |  3.197684 |   6.416916 |  0.550499 | ⋯ |  18.30323 |   4.690004 |   4.166625 |   5.417613 |  1.272258 |  1.170904 |  1.360069 |  30.31152 |  27.36412 |  26.2589 |\n",
       "| chr1H00002 | 130.423413 | 95.909839 | 127.868675 | 606.02149 | 665.34842 | 636.3792 | 116.085727 | 77.322687 | 175.883190 | 16.129595 | ⋯ | 455.50814 | 101.854365 | 101.949697 | 130.543577 | 34.625894 | 32.760388 | 36.347136 | 888.63900 | 716.14744 | 670.2170 |\n",
       "\n"
      ],
      "text/plain": [
       "           Akashinriki_Ca1 Akashinriki_Ca2 Akashinriki_Ca3 Akashinriki_Co1\n",
       "chr1H00001   4.007573       3.927487         3.833363       19.69449      \n",
       "chr1H00002 130.423413      95.909839       127.868675      606.02149      \n",
       "           Akashinriki_Co2 Akashinriki_Co3 Akashinriki_In1 Akashinriki_In2\n",
       "chr1H00001  26.30955        25.0926          4.080795       3.197684      \n",
       "chr1H00002 665.34842       636.3792        116.085727      77.322687      \n",
       "           Akashinriki_In3 Akashinriki_Ro1 ⋯ RGTPlanet_Co3 RGTPlanet_In1\n",
       "chr1H00001   6.416916       0.550499       ⋯  18.30323       4.690004   \n",
       "chr1H00002 175.883190      16.129595       ⋯ 455.50814     101.854365   \n",
       "           RGTPlanet_In2 RGTPlanet_In3 RGTPlanet_Ro1 RGTPlanet_Ro2\n",
       "chr1H00001   4.166625      5.417613     1.272258      1.170904    \n",
       "chr1H00002 101.949697    130.543577    34.625894     32.760388    \n",
       "           RGTPlanet_Ro3 RGTPlanet_Sh1 RGTPlanet_Sh2 RGTPlanet_Sh3\n",
       "chr1H00001  1.360069      30.31152      27.36412      26.2589     \n",
       "chr1H00002 36.347136     888.63900     716.14744     670.2170     "
      ]
     },
     "metadata": {},
     "output_type": "display_data"
    },
    {
     "data": {
      "text/html": [
       "<table class=\"dataframe\">\n",
       "<caption>A data.frame: 2 × 12</caption>\n",
       "<thead>\n",
       "\t<tr><th></th><th scope=col>PanBaRT20_gene_id</th><th scope=col>PanBaRT20_transcript_id</th><th scope=col>PSVCP20_pos_strand</th><th scope=col>GsRTD_gene_id</th><th scope=col>GsRTD_transcript_id</th><th scope=col>Source_data</th><th scope=col>Genotype</th><th scope=col>Pan_category</th><th scope=col>PanBaRT20_DE_tissue</th><th scope=col>Ortholog</th><th scope=col>Orth_category</th><th scope=col>Pan_Orth_category_match</th></tr>\n",
       "\t<tr><th></th><th scope=col>&lt;fct&gt;</th><th scope=col>&lt;fct&gt;</th><th scope=col>&lt;fct&gt;</th><th scope=col>&lt;fct&gt;</th><th scope=col>&lt;fct&gt;</th><th scope=col>&lt;fct&gt;</th><th scope=col>&lt;fct&gt;</th><th scope=col>&lt;fct&gt;</th><th scope=col>&lt;fct&gt;</th><th scope=col>&lt;fct&gt;</th><th scope=col>&lt;fct&gt;</th><th scope=col>&lt;fct&gt;</th></tr>\n",
       "</thead>\n",
       "<tbody>\n",
       "\t<tr><th scope=row>1</th><td>chr1H00001</td><td>chr1H00001.1</td><td>chr1H:49468-50716:-</td><td>HOR13942_chr1HG04824</td><td>HOR13942_chr1HG04824.1</td><td>RNA</td><td>HOR13942</td><td>shell;single</td><td>Co;In</td><td>HOG0012447</td><td>core;single</td><td>No</td></tr>\n",
       "\t<tr><th scope=row>2</th><td>chr1H00001</td><td>chr1H00001.1</td><td>chr1H:49468-50716:-</td><td>Barke_chr1HG02204   </td><td>Barke_chr1HG02204.1   </td><td>RNA</td><td>Barke   </td><td>shell;single</td><td>Co;In</td><td>HOG0012447</td><td>core;single</td><td>No</td></tr>\n",
       "</tbody>\n",
       "</table>\n"
      ],
      "text/latex": [
       "A data.frame: 2 × 12\n",
       "\\begin{tabular}{r|llllllllllll}\n",
       "  & PanBaRT20\\_gene\\_id & PanBaRT20\\_transcript\\_id & PSVCP20\\_pos\\_strand & GsRTD\\_gene\\_id & GsRTD\\_transcript\\_id & Source\\_data & Genotype & Pan\\_category & PanBaRT20\\_DE\\_tissue & Ortholog & Orth\\_category & Pan\\_Orth\\_category\\_match\\\\\n",
       "  & <fct> & <fct> & <fct> & <fct> & <fct> & <fct> & <fct> & <fct> & <fct> & <fct> & <fct> & <fct>\\\\\n",
       "\\hline\n",
       "\t1 & chr1H00001 & chr1H00001.1 & chr1H:49468-50716:- & HOR13942\\_chr1HG04824 & HOR13942\\_chr1HG04824.1 & RNA & HOR13942 & shell;single & Co;In & HOG0012447 & core;single & No\\\\\n",
       "\t2 & chr1H00001 & chr1H00001.1 & chr1H:49468-50716:- & Barke\\_chr1HG02204    & Barke\\_chr1HG02204.1    & RNA & Barke    & shell;single & Co;In & HOG0012447 & core;single & No\\\\\n",
       "\\end{tabular}\n"
      ],
      "text/markdown": [
       "\n",
       "A data.frame: 2 × 12\n",
       "\n",
       "| <!--/--> | PanBaRT20_gene_id &lt;fct&gt; | PanBaRT20_transcript_id &lt;fct&gt; | PSVCP20_pos_strand &lt;fct&gt; | GsRTD_gene_id &lt;fct&gt; | GsRTD_transcript_id &lt;fct&gt; | Source_data &lt;fct&gt; | Genotype &lt;fct&gt; | Pan_category &lt;fct&gt; | PanBaRT20_DE_tissue &lt;fct&gt; | Ortholog &lt;fct&gt; | Orth_category &lt;fct&gt; | Pan_Orth_category_match &lt;fct&gt; |\n",
       "|---|---|---|---|---|---|---|---|---|---|---|---|---|\n",
       "| 1 | chr1H00001 | chr1H00001.1 | chr1H:49468-50716:- | HOR13942_chr1HG04824 | HOR13942_chr1HG04824.1 | RNA | HOR13942 | shell;single | Co;In | HOG0012447 | core;single | No |\n",
       "| 2 | chr1H00001 | chr1H00001.1 | chr1H:49468-50716:- | Barke_chr1HG02204    | Barke_chr1HG02204.1    | RNA | Barke    | shell;single | Co;In | HOG0012447 | core;single | No |\n",
       "\n"
      ],
      "text/plain": [
       "  PanBaRT20_gene_id PanBaRT20_transcript_id PSVCP20_pos_strand \n",
       "1 chr1H00001        chr1H00001.1            chr1H:49468-50716:-\n",
       "2 chr1H00001        chr1H00001.1            chr1H:49468-50716:-\n",
       "  GsRTD_gene_id        GsRTD_transcript_id    Source_data Genotype Pan_category\n",
       "1 HOR13942_chr1HG04824 HOR13942_chr1HG04824.1 RNA         HOR13942 shell;single\n",
       "2 Barke_chr1HG02204    Barke_chr1HG02204.1    RNA         Barke    shell;single\n",
       "  PanBaRT20_DE_tissue Ortholog   Orth_category Pan_Orth_category_match\n",
       "1 Co;In               HOG0012447 core;single   No                     \n",
       "2 Co;In               HOG0012447 core;single   No                     "
      ]
     },
     "metadata": {},
     "output_type": "display_data"
    }
   ],
   "source": [
    "library(tidyverse)\n",
    "set.seed(42) # For reproducibility of results\n",
    "# import\n",
    "setwd(\"/home/vanda/Documents/PanBarley_transcriptome/\")\n",
    "tpm <- read.table(\"PanBaRT20_tpm_genes.csv\", sep = \",\", row.names = 1, header = TRUE, stringsAsFactors = TRUE)\n",
    "hogs <- read.table(\"PanBaRTv2_and_Ortholog_match_singlecopy.csv\", sep = \",\", header = TRUE, stringsAsFactors = TRUE)\n",
    "head(tpm, 2)\n",
    "head(hogs, 2)"
   ]
  },
  {
   "cell_type": "code",
   "execution_count": 2,
   "id": "54eb7574-f8ff-4f14-af8a-e2394c51a732",
   "metadata": {
    "tags": []
   },
   "outputs": [
    {
     "data": {
      "text/html": [
       "<style>\n",
       ".list-inline {list-style: none; margin:0; padding: 0}\n",
       ".list-inline>li {display: inline-block}\n",
       ".list-inline>li:not(:last-child)::after {content: \"\\00b7\"; padding: 0 .5ex}\n",
       "</style>\n",
       "<ol class=list-inline><li>79580</li><li>297</li></ol>\n"
      ],
      "text/latex": [
       "\\begin{enumerate*}\n",
       "\\item 79580\n",
       "\\item 297\n",
       "\\end{enumerate*}\n"
      ],
      "text/markdown": [
       "1. 79580\n",
       "2. 297\n",
       "\n",
       "\n"
      ],
      "text/plain": [
       "[1] 79580   297"
      ]
     },
     "metadata": {},
     "output_type": "display_data"
    },
    {
     "data": {
      "text/html": [
       "<style>\n",
       ".list-inline {list-style: none; margin:0; padding: 0}\n",
       ".list-inline>li {display: inline-block}\n",
       ".list-inline>li:not(:last-child)::after {content: \"\\00b7\"; padding: 0 .5ex}\n",
       "</style>\n",
       "<ol class=list-inline><li>1464198</li><li>12</li></ol>\n"
      ],
      "text/latex": [
       "\\begin{enumerate*}\n",
       "\\item 1464198\n",
       "\\item 12\n",
       "\\end{enumerate*}\n"
      ],
      "text/markdown": [
       "1. 1464198\n",
       "2. 12\n",
       "\n",
       "\n"
      ],
      "text/plain": [
       "[1] 1464198      12"
      ]
     },
     "metadata": {},
     "output_type": "display_data"
    }
   ],
   "source": [
    "dim(tpm)\n",
    "dim(hogs)"
   ]
  },
  {
   "cell_type": "code",
   "execution_count": 3,
   "id": "a49c85e7-8107-4b9a-bab9-592a7c5c8c3a",
   "metadata": {
    "tags": []
   },
   "outputs": [
    {
     "data": {
      "text/html": [
       "<style>\n",
       ".list-inline {list-style: none; margin:0; padding: 0}\n",
       ".list-inline>li {display: inline-block}\n",
       ".list-inline>li:not(:last-child)::after {content: \"\\00b7\"; padding: 0 .5ex}\n",
       "</style>\n",
       "<ol class=list-inline><li>408809</li><li>3</li></ol>\n"
      ],
      "text/latex": [
       "\\begin{enumerate*}\n",
       "\\item 408809\n",
       "\\item 3\n",
       "\\end{enumerate*}\n"
      ],
      "text/markdown": [
       "1. 408809\n",
       "2. 3\n",
       "\n",
       "\n"
      ],
      "text/plain": [
       "[1] 408809      3"
      ]
     },
     "metadata": {},
     "output_type": "display_data"
    },
    {
     "data": {
      "text/html": [
       "<style>\n",
       ".list-inline {list-style: none; margin:0; padding: 0}\n",
       ".list-inline>li {display: inline-block}\n",
       ".list-inline>li:not(:last-child)::after {content: \"\\00b7\"; padding: 0 .5ex}\n",
       "</style>\n",
       "<ol class=list-inline><li>11829</li><li>1</li></ol>\n"
      ],
      "text/latex": [
       "\\begin{enumerate*}\n",
       "\\item 11829\n",
       "\\item 1\n",
       "\\end{enumerate*}\n"
      ],
      "text/markdown": [
       "1. 11829\n",
       "2. 1\n",
       "\n",
       "\n"
      ],
      "text/plain": [
       "[1] 11829     1"
      ]
     },
     "metadata": {},
     "output_type": "display_data"
    },
    {
     "data": {
      "text/html": [
       "<table class=\"dataframe\">\n",
       "<caption>A tibble: 6 × 1</caption>\n",
       "<thead>\n",
       "\t<tr><th scope=col>Ortholog</th></tr>\n",
       "\t<tr><th scope=col>&lt;fct&gt;</th></tr>\n",
       "</thead>\n",
       "<tbody>\n",
       "\t<tr><td>HOG0001021</td></tr>\n",
       "\t<tr><td>HOG0001033</td></tr>\n",
       "\t<tr><td>HOG0001269</td></tr>\n",
       "\t<tr><td>HOG0001378</td></tr>\n",
       "\t<tr><td>HOG0001383</td></tr>\n",
       "\t<tr><td>HOG0001586</td></tr>\n",
       "</tbody>\n",
       "</table>\n"
      ],
      "text/latex": [
       "A tibble: 6 × 1\n",
       "\\begin{tabular}{l}\n",
       " Ortholog\\\\\n",
       " <fct>\\\\\n",
       "\\hline\n",
       "\t HOG0001021\\\\\n",
       "\t HOG0001033\\\\\n",
       "\t HOG0001269\\\\\n",
       "\t HOG0001378\\\\\n",
       "\t HOG0001383\\\\\n",
       "\t HOG0001586\\\\\n",
       "\\end{tabular}\n"
      ],
      "text/markdown": [
       "\n",
       "A tibble: 6 × 1\n",
       "\n",
       "| Ortholog &lt;fct&gt; |\n",
       "|---|\n",
       "| HOG0001021 |\n",
       "| HOG0001033 |\n",
       "| HOG0001269 |\n",
       "| HOG0001378 |\n",
       "| HOG0001383 |\n",
       "| HOG0001586 |\n",
       "\n"
      ],
      "text/plain": [
       "  Ortholog  \n",
       "1 HOG0001021\n",
       "2 HOG0001033\n",
       "3 HOG0001269\n",
       "4 HOG0001378\n",
       "5 HOG0001383\n",
       "6 HOG0001586"
      ]
     },
     "metadata": {},
     "output_type": "display_data"
    },
    {
     "data": {
      "text/html": [
       "<style>\n",
       ".list-inline {list-style: none; margin:0; padding: 0}\n",
       ".list-inline>li {display: inline-block}\n",
       ".list-inline>li:not(:last-child)::after {content: \"\\00b7\"; padding: 0 .5ex}\n",
       "</style>\n",
       "<ol class=list-inline><li>236589</li><li>3</li></ol>\n"
      ],
      "text/latex": [
       "\\begin{enumerate*}\n",
       "\\item 236589\n",
       "\\item 3\n",
       "\\end{enumerate*}\n"
      ],
      "text/markdown": [
       "1. 236589\n",
       "2. 3\n",
       "\n",
       "\n"
      ],
      "text/plain": [
       "[1] 236589      3"
      ]
     },
     "metadata": {},
     "output_type": "display_data"
    },
    {
     "data": {
      "text/html": [
       "<table class=\"dataframe\">\n",
       "<caption>A tibble: 6 × 3</caption>\n",
       "<thead>\n",
       "\t<tr><th scope=col>Ortholog</th><th scope=col>PanBaRT20_gene_id</th><th scope=col>GsRTD_gene_id</th></tr>\n",
       "\t<tr><th scope=col>&lt;fct&gt;</th><th scope=col>&lt;fct&gt;</th><th scope=col>&lt;fct&gt;</th></tr>\n",
       "</thead>\n",
       "<tbody>\n",
       "\t<tr><td>HOG0001021</td><td>chr6H66186</td><td>OUN333_chr6HG30399  </td></tr>\n",
       "\t<tr><td>HOG0001021</td><td>chr6H66186</td><td>ZDM01467_chr6HG29123</td></tr>\n",
       "\t<tr><td>HOG0001021</td><td>chr6H66186</td><td>HOR10350_chr6HG30248</td></tr>\n",
       "\t<tr><td>HOG0001021</td><td>chr6H66186</td><td>HOR13821_chr6HG29768</td></tr>\n",
       "\t<tr><td>HOG0001021</td><td>chr6H66186</td><td>HOR21599_chr6HG31068</td></tr>\n",
       "\t<tr><td>HOG0001021</td><td>chr6H66186</td><td>HOR3081_chr6HG30986 </td></tr>\n",
       "</tbody>\n",
       "</table>\n"
      ],
      "text/latex": [
       "A tibble: 6 × 3\n",
       "\\begin{tabular}{lll}\n",
       " Ortholog & PanBaRT20\\_gene\\_id & GsRTD\\_gene\\_id\\\\\n",
       " <fct> & <fct> & <fct>\\\\\n",
       "\\hline\n",
       "\t HOG0001021 & chr6H66186 & OUN333\\_chr6HG30399  \\\\\n",
       "\t HOG0001021 & chr6H66186 & ZDM01467\\_chr6HG29123\\\\\n",
       "\t HOG0001021 & chr6H66186 & HOR10350\\_chr6HG30248\\\\\n",
       "\t HOG0001021 & chr6H66186 & HOR13821\\_chr6HG29768\\\\\n",
       "\t HOG0001021 & chr6H66186 & HOR21599\\_chr6HG31068\\\\\n",
       "\t HOG0001021 & chr6H66186 & HOR3081\\_chr6HG30986 \\\\\n",
       "\\end{tabular}\n"
      ],
      "text/markdown": [
       "\n",
       "A tibble: 6 × 3\n",
       "\n",
       "| Ortholog &lt;fct&gt; | PanBaRT20_gene_id &lt;fct&gt; | GsRTD_gene_id &lt;fct&gt; |\n",
       "|---|---|---|\n",
       "| HOG0001021 | chr6H66186 | OUN333_chr6HG30399   |\n",
       "| HOG0001021 | chr6H66186 | ZDM01467_chr6HG29123 |\n",
       "| HOG0001021 | chr6H66186 | HOR10350_chr6HG30248 |\n",
       "| HOG0001021 | chr6H66186 | HOR13821_chr6HG29768 |\n",
       "| HOG0001021 | chr6H66186 | HOR21599_chr6HG31068 |\n",
       "| HOG0001021 | chr6H66186 | HOR3081_chr6HG30986  |\n",
       "\n"
      ],
      "text/plain": [
       "  Ortholog   PanBaRT20_gene_id GsRTD_gene_id       \n",
       "1 HOG0001021 chr6H66186        OUN333_chr6HG30399  \n",
       "2 HOG0001021 chr6H66186        ZDM01467_chr6HG29123\n",
       "3 HOG0001021 chr6H66186        HOR10350_chr6HG30248\n",
       "4 HOG0001021 chr6H66186        HOR13821_chr6HG29768\n",
       "5 HOG0001021 chr6H66186        HOR21599_chr6HG31068\n",
       "6 HOG0001021 chr6H66186        HOR3081_chr6HG30986 "
      ]
     },
     "metadata": {},
     "output_type": "display_data"
    },
    {
     "data": {
      "text/html": [
       "<style>\n",
       ".list-inline {list-style: none; margin:0; padding: 0}\n",
       ".list-inline>li {display: inline-block}\n",
       ".list-inline>li:not(:last-child)::after {content: \"\\00b7\"; padding: 0 .5ex}\n",
       "</style>\n",
       "<ol class=list-inline><li>11838</li><li>1</li></ol>\n"
      ],
      "text/latex": [
       "\\begin{enumerate*}\n",
       "\\item 11838\n",
       "\\item 1\n",
       "\\end{enumerate*}\n"
      ],
      "text/markdown": [
       "1. 11838\n",
       "2. 1\n",
       "\n",
       "\n"
      ],
      "text/plain": [
       "[1] 11838     1"
      ]
     },
     "metadata": {},
     "output_type": "display_data"
    }
   ],
   "source": [
    "# subset truly 20let HOGs\n",
    "hog <- hogs %>% \n",
    "        select(PanBaRT20_gene_id, GsRTD_gene_id, Ortholog) %>%\n",
    "        distinct() # remove rows with duplicate values (filter transcript-based geneduplicates)\n",
    "dim(hog)\n",
    "# total number of HOGs is 408,809\n",
    "hog20 <- hog %>% group_by(Ortholog, PanBaRT20_gene_id) %>% count() %>% filter(n == 20) %>% ungroup() %>% select(Ortholog) \n",
    "dim(hog20)\n",
    "head(hog20)\n",
    "# total number of 20let-HOGs is 11,829\n",
    "hog20genes <- inner_join(hog20, hog, by =\"Ortholog\")\n",
    "dim(hog20genes)\n",
    "head(hog20genes)\n",
    "write.csv(hog20genes, file = \"HOG20singlecopy_conversion_geneID.csv\", row.names = FALSE)\n",
    "# create col of 20let geneIDs\n",
    "hog20genesonly <- hog20genes %>% select(PanBaRT20_gene_id) %>% distinct()\n",
    "dim(hog20genesonly)"
   ]
  },
  {
   "cell_type": "code",
   "execution_count": 4,
   "id": "daddb4b7-6058-4519-bff5-1214607de96c",
   "metadata": {
    "tags": []
   },
   "outputs": [
    {
     "data": {
      "text/html": [
       "<style>\n",
       ".list-inline {list-style: none; margin:0; padding: 0}\n",
       ".list-inline>li {display: inline-block}\n",
       ".list-inline>li:not(:last-child)::after {content: \"\\00b7\"; padding: 0 .5ex}\n",
       "</style>\n",
       "<ol class=list-inline><li>11829</li><li>1</li></ol>\n"
      ],
      "text/latex": [
       "\\begin{enumerate*}\n",
       "\\item 11829\n",
       "\\item 1\n",
       "\\end{enumerate*}\n"
      ],
      "text/markdown": [
       "1. 11829\n",
       "2. 1\n",
       "\n",
       "\n"
      ],
      "text/plain": [
       "[1] 11829     1"
      ]
     },
     "metadata": {},
     "output_type": "display_data"
    },
    {
     "data": {
      "text/html": [
       "<style>\n",
       ".list-inline {list-style: none; margin:0; padding: 0}\n",
       ".list-inline>li {display: inline-block}\n",
       ".list-inline>li:not(:last-child)::after {content: \"\\00b7\"; padding: 0 .5ex}\n",
       "</style>\n",
       "<ol class=list-inline><li>236589</li><li>3</li></ol>\n"
      ],
      "text/latex": [
       "\\begin{enumerate*}\n",
       "\\item 236589\n",
       "\\item 3\n",
       "\\end{enumerate*}\n"
      ],
      "text/markdown": [
       "1. 236589\n",
       "2. 3\n",
       "\n",
       "\n"
      ],
      "text/plain": [
       "[1] 236589      3"
      ]
     },
     "metadata": {},
     "output_type": "display_data"
    },
    {
     "data": {
      "text/html": [
       "<style>\n",
       ".list-inline {list-style: none; margin:0; padding: 0}\n",
       ".list-inline>li {display: inline-block}\n",
       ".list-inline>li:not(:last-child)::after {content: \"\\00b7\"; padding: 0 .5ex}\n",
       "</style>\n",
       "<ol class=list-inline><li>236580</li><li>1</li></ol>\n"
      ],
      "text/latex": [
       "\\begin{enumerate*}\n",
       "\\item 236580\n",
       "\\item 1\n",
       "\\end{enumerate*}\n"
      ],
      "text/markdown": [
       "1. 236580\n",
       "2. 1\n",
       "\n",
       "\n"
      ],
      "text/plain": [
       "[1] 236580      1"
      ]
     },
     "metadata": {},
     "output_type": "display_data"
    },
    {
     "data": {
      "text/html": [
       "<table class=\"dataframe\">\n",
       "<caption>A tibble: 18 × 1</caption>\n",
       "<thead>\n",
       "\t<tr><th scope=col>GsRTD_gene_id</th></tr>\n",
       "\t<tr><th scope=col>&lt;fct&gt;</th></tr>\n",
       "</thead>\n",
       "<tbody>\n",
       "\t<tr><td>Igri_chr6HG28688         </td></tr>\n",
       "\t<tr><td>Igri_chr6HG28688         </td></tr>\n",
       "\t<tr><td>OUN333_chr2HG06674       </td></tr>\n",
       "\t<tr><td>OUN333_chr2HG06674       </td></tr>\n",
       "\t<tr><td>Morex_chr3HG16080        </td></tr>\n",
       "\t<tr><td>Morex_chr3HG16080        </td></tr>\n",
       "\t<tr><td>HOR9043_chr4HG20083      </td></tr>\n",
       "\t<tr><td>HOR9043_chr4HG20083      </td></tr>\n",
       "\t<tr><td>HOR7552_chr5HG22561      </td></tr>\n",
       "\t<tr><td>HOR7552_chr5HG22561      </td></tr>\n",
       "\t<tr><td>HOR9043_chr5HG24623      </td></tr>\n",
       "\t<tr><td>HOR9043_chr5HG24623      </td></tr>\n",
       "\t<tr><td>Morex_chr5HG27822        </td></tr>\n",
       "\t<tr><td>Morex_chr5HG27822        </td></tr>\n",
       "\t<tr><td>HOR9043_chr6HG30380      </td></tr>\n",
       "\t<tr><td>HOR9043_chr6HG30380      </td></tr>\n",
       "\t<tr><td>GoldenPromise_chr7HG32114</td></tr>\n",
       "\t<tr><td>GoldenPromise_chr7HG32114</td></tr>\n",
       "</tbody>\n",
       "</table>\n"
      ],
      "text/latex": [
       "A tibble: 18 × 1\n",
       "\\begin{tabular}{l}\n",
       " GsRTD\\_gene\\_id\\\\\n",
       " <fct>\\\\\n",
       "\\hline\n",
       "\t Igri\\_chr6HG28688         \\\\\n",
       "\t Igri\\_chr6HG28688         \\\\\n",
       "\t OUN333\\_chr2HG06674       \\\\\n",
       "\t OUN333\\_chr2HG06674       \\\\\n",
       "\t Morex\\_chr3HG16080        \\\\\n",
       "\t Morex\\_chr3HG16080        \\\\\n",
       "\t HOR9043\\_chr4HG20083      \\\\\n",
       "\t HOR9043\\_chr4HG20083      \\\\\n",
       "\t HOR7552\\_chr5HG22561      \\\\\n",
       "\t HOR7552\\_chr5HG22561      \\\\\n",
       "\t HOR9043\\_chr5HG24623      \\\\\n",
       "\t HOR9043\\_chr5HG24623      \\\\\n",
       "\t Morex\\_chr5HG27822        \\\\\n",
       "\t Morex\\_chr5HG27822        \\\\\n",
       "\t HOR9043\\_chr6HG30380      \\\\\n",
       "\t HOR9043\\_chr6HG30380      \\\\\n",
       "\t GoldenPromise\\_chr7HG32114\\\\\n",
       "\t GoldenPromise\\_chr7HG32114\\\\\n",
       "\\end{tabular}\n"
      ],
      "text/markdown": [
       "\n",
       "A tibble: 18 × 1\n",
       "\n",
       "| GsRTD_gene_id &lt;fct&gt; |\n",
       "|---|\n",
       "| Igri_chr6HG28688          |\n",
       "| Igri_chr6HG28688          |\n",
       "| OUN333_chr2HG06674        |\n",
       "| OUN333_chr2HG06674        |\n",
       "| Morex_chr3HG16080         |\n",
       "| Morex_chr3HG16080         |\n",
       "| HOR9043_chr4HG20083       |\n",
       "| HOR9043_chr4HG20083       |\n",
       "| HOR7552_chr5HG22561       |\n",
       "| HOR7552_chr5HG22561       |\n",
       "| HOR9043_chr5HG24623       |\n",
       "| HOR9043_chr5HG24623       |\n",
       "| Morex_chr5HG27822         |\n",
       "| Morex_chr5HG27822         |\n",
       "| HOR9043_chr6HG30380       |\n",
       "| HOR9043_chr6HG30380       |\n",
       "| GoldenPromise_chr7HG32114 |\n",
       "| GoldenPromise_chr7HG32114 |\n",
       "\n"
      ],
      "text/plain": [
       "   GsRTD_gene_id            \n",
       "1  Igri_chr6HG28688         \n",
       "2  Igri_chr6HG28688         \n",
       "3  OUN333_chr2HG06674       \n",
       "4  OUN333_chr2HG06674       \n",
       "5  Morex_chr3HG16080        \n",
       "6  Morex_chr3HG16080        \n",
       "7  HOR9043_chr4HG20083      \n",
       "8  HOR9043_chr4HG20083      \n",
       "9  HOR7552_chr5HG22561      \n",
       "10 HOR7552_chr5HG22561      \n",
       "11 HOR9043_chr5HG24623      \n",
       "12 HOR9043_chr5HG24623      \n",
       "13 Morex_chr5HG27822        \n",
       "14 Morex_chr5HG27822        \n",
       "15 HOR9043_chr6HG30380      \n",
       "16 HOR9043_chr6HG30380      \n",
       "17 GoldenPromise_chr7HG32114\n",
       "18 GoldenPromise_chr7HG32114"
      ]
     },
     "metadata": {},
     "output_type": "display_data"
    }
   ],
   "source": [
    "# find out what causes difference\n",
    "hog20 <- hog %>% group_by(Ortholog, PanBaRT20_gene_id) %>% count() %>% filter(n == 20)  %>% ungroup() %>% select(Ortholog)\n",
    "dim(hog20)\n",
    "# translate it to GsRTDs as well\n",
    "hog20genes <- inner_join(hog20, hog, by =\"Ortholog\")\n",
    "dim(hog20genes)\n",
    "hog20gs_extras <- hog20genes %>% select(GsRTD_gene_id)\n",
    "hog20extra <- hog20genes %>% select(GsRTD_gene_id) %>% distinct()\n",
    "dim(hog20extra)\n",
    "# find duplicated GsRTD_gene_ids\n",
    "hog20gs_extras %>%\n",
    "  group_by_all() %>%\n",
    "  filter(n()>1) %>%\n",
    "  ungroup()"
   ]
  },
  {
   "cell_type": "code",
   "execution_count": 5,
   "id": "66ed5908-a39a-476d-aff3-ac2e4fdfea26",
   "metadata": {
    "tags": []
   },
   "outputs": [
    {
     "data": {
      "text/html": [
       "<table class=\"dataframe\">\n",
       "<caption>A data.frame: 47 × 12</caption>\n",
       "<thead>\n",
       "\t<tr><th scope=col>PanBaRT20_gene_id</th><th scope=col>PanBaRT20_transcript_id</th><th scope=col>PSVCP20_pos_strand</th><th scope=col>GsRTD_gene_id</th><th scope=col>GsRTD_transcript_id</th><th scope=col>Source_data</th><th scope=col>Genotype</th><th scope=col>Pan_category</th><th scope=col>PanBaRT20_DE_tissue</th><th scope=col>Ortholog</th><th scope=col>Orth_category</th><th scope=col>Pan_Orth_category_match</th></tr>\n",
       "\t<tr><th scope=col>&lt;fct&gt;</th><th scope=col>&lt;fct&gt;</th><th scope=col>&lt;fct&gt;</th><th scope=col>&lt;fct&gt;</th><th scope=col>&lt;fct&gt;</th><th scope=col>&lt;fct&gt;</th><th scope=col>&lt;fct&gt;</th><th scope=col>&lt;fct&gt;</th><th scope=col>&lt;fct&gt;</th><th scope=col>&lt;fct&gt;</th><th scope=col>&lt;fct&gt;</th><th scope=col>&lt;fct&gt;</th></tr>\n",
       "</thead>\n",
       "<tbody>\n",
       "\t<tr><td>chr6H59649</td><td>chr6H59649.1 </td><td>chr6H:123962966-123963433:-</td><td>Igri_chr6HG28688</td><td>Igri_chr6HG28688.1 </td><td>ISO    </td><td>Igri</td><td>cloud;single </td><td>NotDE</td><td>HOG0011400</td><td>core;single</td><td>No</td></tr>\n",
       "\t<tr><td>chr6H59648</td><td>chr6H59648.2 </td><td>chr6H:123962121-123970610:-</td><td>Igri_chr6HG28688</td><td>Igri_chr6HG28688.19</td><td>ISO&amp;RNA</td><td>Igri</td><td>core;multiple</td><td><span style=white-space:pre-wrap>Co   </span></td><td>HOG0011400</td><td>core;single</td><td>No</td></tr>\n",
       "\t<tr><td>chr6H59648</td><td>chr6H59648.2 </td><td>chr6H:123962121-123970610:-</td><td>Igri_chr6HG28688</td><td>Igri_chr6HG28688.20</td><td>ISO&amp;RNA</td><td>Igri</td><td>core;multiple</td><td><span style=white-space:pre-wrap>Co   </span></td><td>HOG0011400</td><td>core;single</td><td>No</td></tr>\n",
       "\t<tr><td>chr6H59648</td><td>chr6H59648.2 </td><td>chr6H:123962121-123970610:-</td><td>Igri_chr6HG28688</td><td>Igri_chr6HG28688.25</td><td>ISO&amp;RNA</td><td>Igri</td><td>core;multiple</td><td><span style=white-space:pre-wrap>Co   </span></td><td>HOG0011400</td><td>core;single</td><td>No</td></tr>\n",
       "\t<tr><td>chr6H59648</td><td>chr6H59648.2 </td><td>chr6H:123962121-123970610:-</td><td>Igri_chr6HG28688</td><td>Igri_chr6HG28688.37</td><td>ISO&amp;RNA</td><td>Igri</td><td>core;multiple</td><td><span style=white-space:pre-wrap>Co   </span></td><td>HOG0011400</td><td>core;single</td><td>No</td></tr>\n",
       "\t<tr><td>chr6H59648</td><td>chr6H59648.2 </td><td>chr6H:123962121-123970610:-</td><td>Igri_chr6HG28688</td><td>Igri_chr6HG28688.38</td><td>ISO&amp;RNA</td><td>Igri</td><td>core;multiple</td><td><span style=white-space:pre-wrap>Co   </span></td><td>HOG0011400</td><td>core;single</td><td>No</td></tr>\n",
       "\t<tr><td>chr6H59648</td><td>chr6H59648.3 </td><td>chr6H:123962121-123970610:-</td><td>Igri_chr6HG28688</td><td>Igri_chr6HG28688.43</td><td>ISO    </td><td>Igri</td><td>core;multiple</td><td>Co   </td><td>HOG0011400</td><td>core;single</td><td>No</td></tr>\n",
       "\t<tr><td>chr6H59648</td><td>chr6H59648.3 </td><td>chr6H:123962121-123970610:-</td><td>Igri_chr6HG28688</td><td>Igri_chr6HG28688.3 </td><td>ISO    </td><td>Igri</td><td>core;multiple</td><td>Co   </td><td>HOG0011400</td><td>core;single</td><td>No</td></tr>\n",
       "\t<tr><td>chr6H59648</td><td>chr6H59648.3 </td><td>chr6H:123962121-123970610:-</td><td>Igri_chr6HG28688</td><td>Igri_chr6HG28688.4 </td><td>ISO    </td><td>Igri</td><td>core;multiple</td><td>Co   </td><td>HOG0011400</td><td>core;single</td><td>No</td></tr>\n",
       "\t<tr><td>chr6H59648</td><td>chr6H59648.3 </td><td>chr6H:123962121-123970610:-</td><td>Igri_chr6HG28688</td><td>Igri_chr6HG28688.5 </td><td>ISO    </td><td>Igri</td><td>core;multiple</td><td>Co   </td><td>HOG0011400</td><td>core;single</td><td>No</td></tr>\n",
       "\t<tr><td>chr6H59648</td><td>chr6H59648.3 </td><td>chr6H:123962121-123970610:-</td><td>Igri_chr6HG28688</td><td>Igri_chr6HG28688.7 </td><td>ISO    </td><td>Igri</td><td>core;multiple</td><td>Co   </td><td>HOG0011400</td><td>core;single</td><td>No</td></tr>\n",
       "\t<tr><td>chr6H59648</td><td>chr6H59648.3 </td><td>chr6H:123962121-123970610:-</td><td>Igri_chr6HG28688</td><td>Igri_chr6HG28688.8 </td><td>ISO    </td><td>Igri</td><td>core;multiple</td><td>Co   </td><td>HOG0011400</td><td>core;single</td><td>No</td></tr>\n",
       "\t<tr><td>chr6H59648</td><td>chr6H59648.3 </td><td>chr6H:123962121-123970610:-</td><td>Igri_chr6HG28688</td><td>Igri_chr6HG28688.15</td><td>ISO    </td><td>Igri</td><td>core;multiple</td><td>Co   </td><td>HOG0011400</td><td>core;single</td><td>No</td></tr>\n",
       "\t<tr><td>chr6H59648</td><td>chr6H59648.3 </td><td>chr6H:123962121-123970610:-</td><td>Igri_chr6HG28688</td><td>Igri_chr6HG28688.16</td><td>ISO    </td><td>Igri</td><td>core;multiple</td><td>Co   </td><td>HOG0011400</td><td>core;single</td><td>No</td></tr>\n",
       "\t<tr><td>chr6H59648</td><td>chr6H59648.3 </td><td>chr6H:123962121-123970610:-</td><td>Igri_chr6HG28688</td><td>Igri_chr6HG28688.17</td><td>ISO    </td><td>Igri</td><td>core;multiple</td><td>Co   </td><td>HOG0011400</td><td>core;single</td><td>No</td></tr>\n",
       "\t<tr><td>chr6H59648</td><td>chr6H59648.3 </td><td>chr6H:123962121-123970610:-</td><td>Igri_chr6HG28688</td><td>Igri_chr6HG28688.18</td><td>ISO    </td><td>Igri</td><td>core;multiple</td><td>Co   </td><td>HOG0011400</td><td>core;single</td><td>No</td></tr>\n",
       "\t<tr><td>chr6H59648</td><td>chr6H59648.3 </td><td>chr6H:123962121-123970610:-</td><td>Igri_chr6HG28688</td><td>Igri_chr6HG28688.29</td><td>ISO    </td><td>Igri</td><td>core;multiple</td><td>Co   </td><td>HOG0011400</td><td>core;single</td><td>No</td></tr>\n",
       "\t<tr><td>chr6H59648</td><td>chr6H59648.3 </td><td>chr6H:123962121-123970610:-</td><td>Igri_chr6HG28688</td><td>Igri_chr6HG28688.40</td><td>ISO    </td><td>Igri</td><td>core;multiple</td><td>Co   </td><td>HOG0011400</td><td>core;single</td><td>No</td></tr>\n",
       "\t<tr><td>chr6H59648</td><td>chr6H59648.3 </td><td>chr6H:123962121-123970610:-</td><td>Igri_chr6HG28688</td><td>Igri_chr6HG28688.41</td><td>ISO    </td><td>Igri</td><td>core;multiple</td><td>Co   </td><td>HOG0011400</td><td>core;single</td><td>No</td></tr>\n",
       "\t<tr><td>chr6H59648</td><td>chr6H59648.3 </td><td>chr6H:123962121-123970610:-</td><td>Igri_chr6HG28688</td><td>Igri_chr6HG28688.42</td><td>ISO    </td><td>Igri</td><td>core;multiple</td><td>Co   </td><td>HOG0011400</td><td>core;single</td><td>No</td></tr>\n",
       "\t<tr><td>chr6H59648</td><td>chr6H59648.4 </td><td>chr6H:123962121-123970610:-</td><td>Igri_chr6HG28688</td><td>Igri_chr6HG28688.34</td><td>ISO    </td><td>Igri</td><td>core;multiple</td><td>Co   </td><td>HOG0011400</td><td>core;single</td><td>No</td></tr>\n",
       "\t<tr><td>chr6H59648</td><td>chr6H59648.4 </td><td>chr6H:123962121-123970610:-</td><td>Igri_chr6HG28688</td><td>Igri_chr6HG28688.14</td><td>ISO    </td><td>Igri</td><td>core;multiple</td><td>Co   </td><td>HOG0011400</td><td>core;single</td><td>No</td></tr>\n",
       "\t<tr><td>chr6H59648</td><td>chr6H59648.4 </td><td>chr6H:123962121-123970610:-</td><td>Igri_chr6HG28688</td><td>Igri_chr6HG28688.39</td><td>ISO    </td><td>Igri</td><td>core;multiple</td><td>Co   </td><td>HOG0011400</td><td>core;single</td><td>No</td></tr>\n",
       "\t<tr><td>chr6H59648</td><td>chr6H59648.5 </td><td>chr6H:123962121-123970610:-</td><td>Igri_chr6HG28688</td><td>Igri_chr6HG28688.23</td><td>ISO    </td><td>Igri</td><td>core;multiple</td><td>Co   </td><td>HOG0011400</td><td>core;single</td><td>No</td></tr>\n",
       "\t<tr><td>chr6H59648</td><td>chr6H59648.5 </td><td>chr6H:123962121-123970610:-</td><td>Igri_chr6HG28688</td><td>Igri_chr6HG28688.13</td><td>ISO    </td><td>Igri</td><td>core;multiple</td><td>Co   </td><td>HOG0011400</td><td>core;single</td><td>No</td></tr>\n",
       "\t<tr><td>chr6H59648</td><td>chr6H59648.5 </td><td>chr6H:123962121-123970610:-</td><td>Igri_chr6HG28688</td><td>Igri_chr6HG28688.22</td><td>ISO    </td><td>Igri</td><td>core;multiple</td><td>Co   </td><td>HOG0011400</td><td>core;single</td><td>No</td></tr>\n",
       "\t<tr><td>chr6H59648</td><td>chr6H59648.5 </td><td>chr6H:123962121-123970610:-</td><td>Igri_chr6HG28688</td><td>Igri_chr6HG28688.35</td><td>ISO    </td><td>Igri</td><td>core;multiple</td><td>Co   </td><td>HOG0011400</td><td>core;single</td><td>No</td></tr>\n",
       "\t<tr><td>chr6H59648</td><td>chr6H59648.6 </td><td>chr6H:123962121-123970610:-</td><td>Igri_chr6HG28688</td><td>Igri_chr6HG28688.44</td><td>ISO    </td><td>Igri</td><td>core;multiple</td><td>Co   </td><td>HOG0011400</td><td>core;single</td><td>No</td></tr>\n",
       "\t<tr><td>chr6H59648</td><td>chr6H59648.6 </td><td>chr6H:123962121-123970610:-</td><td>Igri_chr6HG28688</td><td>Igri_chr6HG28688.31</td><td>ISO    </td><td>Igri</td><td>core;multiple</td><td>Co   </td><td>HOG0011400</td><td>core;single</td><td>No</td></tr>\n",
       "\t<tr><td>chr6H59648</td><td>chr6H59648.7 </td><td>chr6H:123962121-123970610:-</td><td>Igri_chr6HG28688</td><td>Igri_chr6HG28688.12</td><td>ISO    </td><td>Igri</td><td>core;multiple</td><td>Co   </td><td>HOG0011400</td><td>core;single</td><td>No</td></tr>\n",
       "\t<tr><td>chr6H59648</td><td>chr6H59648.7 </td><td>chr6H:123962121-123970610:-</td><td>Igri_chr6HG28688</td><td>Igri_chr6HG28688.45</td><td>ISO    </td><td>Igri</td><td>core;multiple</td><td>Co   </td><td>HOG0011400</td><td>core;single</td><td>No</td></tr>\n",
       "\t<tr><td>chr6H59648</td><td>chr6H59648.7 </td><td>chr6H:123962121-123970610:-</td><td>Igri_chr6HG28688</td><td>Igri_chr6HG28688.46</td><td>ISO    </td><td>Igri</td><td>core;multiple</td><td>Co   </td><td>HOG0011400</td><td>core;single</td><td>No</td></tr>\n",
       "\t<tr><td>chr6H59648</td><td>chr6H59648.7 </td><td>chr6H:123962121-123970610:-</td><td>Igri_chr6HG28688</td><td>Igri_chr6HG28688.47</td><td>ISO    </td><td>Igri</td><td>core;multiple</td><td>Co   </td><td>HOG0011400</td><td>core;single</td><td>No</td></tr>\n",
       "\t<tr><td>chr6H59648</td><td>chr6H59648.7 </td><td>chr6H:123962121-123970610:-</td><td>Igri_chr6HG28688</td><td>Igri_chr6HG28688.9 </td><td>ISO    </td><td>Igri</td><td>core;multiple</td><td>Co   </td><td>HOG0011400</td><td>core;single</td><td>No</td></tr>\n",
       "\t<tr><td>chr6H59648</td><td>chr6H59648.7 </td><td>chr6H:123962121-123970610:-</td><td>Igri_chr6HG28688</td><td>Igri_chr6HG28688.10</td><td>ISO    </td><td>Igri</td><td>core;multiple</td><td>Co   </td><td>HOG0011400</td><td>core;single</td><td>No</td></tr>\n",
       "\t<tr><td>chr6H59648</td><td>chr6H59648.7 </td><td>chr6H:123962121-123970610:-</td><td>Igri_chr6HG28688</td><td>Igri_chr6HG28688.11</td><td>ISO    </td><td>Igri</td><td>core;multiple</td><td>Co   </td><td>HOG0011400</td><td>core;single</td><td>No</td></tr>\n",
       "\t<tr><td>chr6H59648</td><td>chr6H59648.7 </td><td>chr6H:123962121-123970610:-</td><td>Igri_chr6HG28688</td><td>Igri_chr6HG28688.28</td><td>ISO    </td><td>Igri</td><td>core;multiple</td><td>Co   </td><td>HOG0011400</td><td>core;single</td><td>No</td></tr>\n",
       "\t<tr><td>chr6H59648</td><td>chr6H59648.7 </td><td>chr6H:123962121-123970610:-</td><td>Igri_chr6HG28688</td><td>Igri_chr6HG28688.33</td><td>ISO    </td><td>Igri</td><td>core;multiple</td><td>Co   </td><td>HOG0011400</td><td>core;single</td><td>No</td></tr>\n",
       "\t<tr><td>chr6H59648</td><td>chr6H59648.8 </td><td>chr6H:123962121-123970610:-</td><td>Igri_chr6HG28688</td><td>Igri_chr6HG28688.6 </td><td>ISO    </td><td>Igri</td><td>core;multiple</td><td>Co   </td><td>HOG0011400</td><td>core;single</td><td>No</td></tr>\n",
       "\t<tr><td>chr6H59648</td><td>chr6H59648.8 </td><td>chr6H:123962121-123970610:-</td><td>Igri_chr6HG28688</td><td>Igri_chr6HG28688.21</td><td>ISO    </td><td>Igri</td><td>core;multiple</td><td>Co   </td><td>HOG0011400</td><td>core;single</td><td>No</td></tr>\n",
       "\t<tr><td>chr6H59648</td><td>chr6H59648.8 </td><td>chr6H:123962121-123970610:-</td><td>Igri_chr6HG28688</td><td>Igri_chr6HG28688.30</td><td>ISO    </td><td>Igri</td><td>core;multiple</td><td>Co   </td><td>HOG0011400</td><td>core;single</td><td>No</td></tr>\n",
       "\t<tr><td>chr6H59648</td><td>chr6H59648.9 </td><td>chr6H:123962121-123970610:-</td><td>Igri_chr6HG28688</td><td>Igri_chr6HG28688.2 </td><td>ISO    </td><td>Igri</td><td>core;multiple</td><td>Co   </td><td>HOG0011400</td><td>core;single</td><td>No</td></tr>\n",
       "\t<tr><td>chr6H59648</td><td>chr6H59648.9 </td><td>chr6H:123962121-123970610:-</td><td>Igri_chr6HG28688</td><td>Igri_chr6HG28688.24</td><td>ISO    </td><td>Igri</td><td>core;multiple</td><td>Co   </td><td>HOG0011400</td><td>core;single</td><td>No</td></tr>\n",
       "\t<tr><td>chr6H59648</td><td>chr6H59648.31</td><td>chr6H:123962121-123970610:-</td><td>Igri_chr6HG28688</td><td>Igri_chr6HG28688.26</td><td>ISO    </td><td>Igri</td><td>core;multiple</td><td>Co   </td><td>HOG0011400</td><td>core;single</td><td>No</td></tr>\n",
       "\t<tr><td>chr6H59648</td><td>chr6H59648.33</td><td>chr6H:123962121-123970610:-</td><td>Igri_chr6HG28688</td><td>Igri_chr6HG28688.27</td><td>ISO    </td><td>Igri</td><td>core;multiple</td><td>Co   </td><td>HOG0011400</td><td>core;single</td><td>No</td></tr>\n",
       "\t<tr><td>chr6H59648</td><td>chr6H59648.34</td><td>chr6H:123962121-123970610:-</td><td>Igri_chr6HG28688</td><td>Igri_chr6HG28688.32</td><td>ISO    </td><td>Igri</td><td>core;multiple</td><td>Co   </td><td>HOG0011400</td><td>core;single</td><td>No</td></tr>\n",
       "\t<tr><td>chr6H59648</td><td>chr6H59648.39</td><td>chr6H:123962121-123970610:-</td><td>Igri_chr6HG28688</td><td>Igri_chr6HG28688.36</td><td>ISO    </td><td>Igri</td><td>core;multiple</td><td>Co   </td><td>HOG0011400</td><td>core;single</td><td>No</td></tr>\n",
       "</tbody>\n",
       "</table>\n"
      ],
      "text/latex": [
       "A data.frame: 47 × 12\n",
       "\\begin{tabular}{llllllllllll}\n",
       " PanBaRT20\\_gene\\_id & PanBaRT20\\_transcript\\_id & PSVCP20\\_pos\\_strand & GsRTD\\_gene\\_id & GsRTD\\_transcript\\_id & Source\\_data & Genotype & Pan\\_category & PanBaRT20\\_DE\\_tissue & Ortholog & Orth\\_category & Pan\\_Orth\\_category\\_match\\\\\n",
       " <fct> & <fct> & <fct> & <fct> & <fct> & <fct> & <fct> & <fct> & <fct> & <fct> & <fct> & <fct>\\\\\n",
       "\\hline\n",
       "\t chr6H59649 & chr6H59649.1  & chr6H:123962966-123963433:- & Igri\\_chr6HG28688 & Igri\\_chr6HG28688.1  & ISO     & Igri & cloud;single  & NotDE & HOG0011400 & core;single & No\\\\\n",
       "\t chr6H59648 & chr6H59648.2  & chr6H:123962121-123970610:- & Igri\\_chr6HG28688 & Igri\\_chr6HG28688.19 & ISO\\&RNA & Igri & core;multiple & Co    & HOG0011400 & core;single & No\\\\\n",
       "\t chr6H59648 & chr6H59648.2  & chr6H:123962121-123970610:- & Igri\\_chr6HG28688 & Igri\\_chr6HG28688.20 & ISO\\&RNA & Igri & core;multiple & Co    & HOG0011400 & core;single & No\\\\\n",
       "\t chr6H59648 & chr6H59648.2  & chr6H:123962121-123970610:- & Igri\\_chr6HG28688 & Igri\\_chr6HG28688.25 & ISO\\&RNA & Igri & core;multiple & Co    & HOG0011400 & core;single & No\\\\\n",
       "\t chr6H59648 & chr6H59648.2  & chr6H:123962121-123970610:- & Igri\\_chr6HG28688 & Igri\\_chr6HG28688.37 & ISO\\&RNA & Igri & core;multiple & Co    & HOG0011400 & core;single & No\\\\\n",
       "\t chr6H59648 & chr6H59648.2  & chr6H:123962121-123970610:- & Igri\\_chr6HG28688 & Igri\\_chr6HG28688.38 & ISO\\&RNA & Igri & core;multiple & Co    & HOG0011400 & core;single & No\\\\\n",
       "\t chr6H59648 & chr6H59648.3  & chr6H:123962121-123970610:- & Igri\\_chr6HG28688 & Igri\\_chr6HG28688.43 & ISO     & Igri & core;multiple & Co    & HOG0011400 & core;single & No\\\\\n",
       "\t chr6H59648 & chr6H59648.3  & chr6H:123962121-123970610:- & Igri\\_chr6HG28688 & Igri\\_chr6HG28688.3  & ISO     & Igri & core;multiple & Co    & HOG0011400 & core;single & No\\\\\n",
       "\t chr6H59648 & chr6H59648.3  & chr6H:123962121-123970610:- & Igri\\_chr6HG28688 & Igri\\_chr6HG28688.4  & ISO     & Igri & core;multiple & Co    & HOG0011400 & core;single & No\\\\\n",
       "\t chr6H59648 & chr6H59648.3  & chr6H:123962121-123970610:- & Igri\\_chr6HG28688 & Igri\\_chr6HG28688.5  & ISO     & Igri & core;multiple & Co    & HOG0011400 & core;single & No\\\\\n",
       "\t chr6H59648 & chr6H59648.3  & chr6H:123962121-123970610:- & Igri\\_chr6HG28688 & Igri\\_chr6HG28688.7  & ISO     & Igri & core;multiple & Co    & HOG0011400 & core;single & No\\\\\n",
       "\t chr6H59648 & chr6H59648.3  & chr6H:123962121-123970610:- & Igri\\_chr6HG28688 & Igri\\_chr6HG28688.8  & ISO     & Igri & core;multiple & Co    & HOG0011400 & core;single & No\\\\\n",
       "\t chr6H59648 & chr6H59648.3  & chr6H:123962121-123970610:- & Igri\\_chr6HG28688 & Igri\\_chr6HG28688.15 & ISO     & Igri & core;multiple & Co    & HOG0011400 & core;single & No\\\\\n",
       "\t chr6H59648 & chr6H59648.3  & chr6H:123962121-123970610:- & Igri\\_chr6HG28688 & Igri\\_chr6HG28688.16 & ISO     & Igri & core;multiple & Co    & HOG0011400 & core;single & No\\\\\n",
       "\t chr6H59648 & chr6H59648.3  & chr6H:123962121-123970610:- & Igri\\_chr6HG28688 & Igri\\_chr6HG28688.17 & ISO     & Igri & core;multiple & Co    & HOG0011400 & core;single & No\\\\\n",
       "\t chr6H59648 & chr6H59648.3  & chr6H:123962121-123970610:- & Igri\\_chr6HG28688 & Igri\\_chr6HG28688.18 & ISO     & Igri & core;multiple & Co    & HOG0011400 & core;single & No\\\\\n",
       "\t chr6H59648 & chr6H59648.3  & chr6H:123962121-123970610:- & Igri\\_chr6HG28688 & Igri\\_chr6HG28688.29 & ISO     & Igri & core;multiple & Co    & HOG0011400 & core;single & No\\\\\n",
       "\t chr6H59648 & chr6H59648.3  & chr6H:123962121-123970610:- & Igri\\_chr6HG28688 & Igri\\_chr6HG28688.40 & ISO     & Igri & core;multiple & Co    & HOG0011400 & core;single & No\\\\\n",
       "\t chr6H59648 & chr6H59648.3  & chr6H:123962121-123970610:- & Igri\\_chr6HG28688 & Igri\\_chr6HG28688.41 & ISO     & Igri & core;multiple & Co    & HOG0011400 & core;single & No\\\\\n",
       "\t chr6H59648 & chr6H59648.3  & chr6H:123962121-123970610:- & Igri\\_chr6HG28688 & Igri\\_chr6HG28688.42 & ISO     & Igri & core;multiple & Co    & HOG0011400 & core;single & No\\\\\n",
       "\t chr6H59648 & chr6H59648.4  & chr6H:123962121-123970610:- & Igri\\_chr6HG28688 & Igri\\_chr6HG28688.34 & ISO     & Igri & core;multiple & Co    & HOG0011400 & core;single & No\\\\\n",
       "\t chr6H59648 & chr6H59648.4  & chr6H:123962121-123970610:- & Igri\\_chr6HG28688 & Igri\\_chr6HG28688.14 & ISO     & Igri & core;multiple & Co    & HOG0011400 & core;single & No\\\\\n",
       "\t chr6H59648 & chr6H59648.4  & chr6H:123962121-123970610:- & Igri\\_chr6HG28688 & Igri\\_chr6HG28688.39 & ISO     & Igri & core;multiple & Co    & HOG0011400 & core;single & No\\\\\n",
       "\t chr6H59648 & chr6H59648.5  & chr6H:123962121-123970610:- & Igri\\_chr6HG28688 & Igri\\_chr6HG28688.23 & ISO     & Igri & core;multiple & Co    & HOG0011400 & core;single & No\\\\\n",
       "\t chr6H59648 & chr6H59648.5  & chr6H:123962121-123970610:- & Igri\\_chr6HG28688 & Igri\\_chr6HG28688.13 & ISO     & Igri & core;multiple & Co    & HOG0011400 & core;single & No\\\\\n",
       "\t chr6H59648 & chr6H59648.5  & chr6H:123962121-123970610:- & Igri\\_chr6HG28688 & Igri\\_chr6HG28688.22 & ISO     & Igri & core;multiple & Co    & HOG0011400 & core;single & No\\\\\n",
       "\t chr6H59648 & chr6H59648.5  & chr6H:123962121-123970610:- & Igri\\_chr6HG28688 & Igri\\_chr6HG28688.35 & ISO     & Igri & core;multiple & Co    & HOG0011400 & core;single & No\\\\\n",
       "\t chr6H59648 & chr6H59648.6  & chr6H:123962121-123970610:- & Igri\\_chr6HG28688 & Igri\\_chr6HG28688.44 & ISO     & Igri & core;multiple & Co    & HOG0011400 & core;single & No\\\\\n",
       "\t chr6H59648 & chr6H59648.6  & chr6H:123962121-123970610:- & Igri\\_chr6HG28688 & Igri\\_chr6HG28688.31 & ISO     & Igri & core;multiple & Co    & HOG0011400 & core;single & No\\\\\n",
       "\t chr6H59648 & chr6H59648.7  & chr6H:123962121-123970610:- & Igri\\_chr6HG28688 & Igri\\_chr6HG28688.12 & ISO     & Igri & core;multiple & Co    & HOG0011400 & core;single & No\\\\\n",
       "\t chr6H59648 & chr6H59648.7  & chr6H:123962121-123970610:- & Igri\\_chr6HG28688 & Igri\\_chr6HG28688.45 & ISO     & Igri & core;multiple & Co    & HOG0011400 & core;single & No\\\\\n",
       "\t chr6H59648 & chr6H59648.7  & chr6H:123962121-123970610:- & Igri\\_chr6HG28688 & Igri\\_chr6HG28688.46 & ISO     & Igri & core;multiple & Co    & HOG0011400 & core;single & No\\\\\n",
       "\t chr6H59648 & chr6H59648.7  & chr6H:123962121-123970610:- & Igri\\_chr6HG28688 & Igri\\_chr6HG28688.47 & ISO     & Igri & core;multiple & Co    & HOG0011400 & core;single & No\\\\\n",
       "\t chr6H59648 & chr6H59648.7  & chr6H:123962121-123970610:- & Igri\\_chr6HG28688 & Igri\\_chr6HG28688.9  & ISO     & Igri & core;multiple & Co    & HOG0011400 & core;single & No\\\\\n",
       "\t chr6H59648 & chr6H59648.7  & chr6H:123962121-123970610:- & Igri\\_chr6HG28688 & Igri\\_chr6HG28688.10 & ISO     & Igri & core;multiple & Co    & HOG0011400 & core;single & No\\\\\n",
       "\t chr6H59648 & chr6H59648.7  & chr6H:123962121-123970610:- & Igri\\_chr6HG28688 & Igri\\_chr6HG28688.11 & ISO     & Igri & core;multiple & Co    & HOG0011400 & core;single & No\\\\\n",
       "\t chr6H59648 & chr6H59648.7  & chr6H:123962121-123970610:- & Igri\\_chr6HG28688 & Igri\\_chr6HG28688.28 & ISO     & Igri & core;multiple & Co    & HOG0011400 & core;single & No\\\\\n",
       "\t chr6H59648 & chr6H59648.7  & chr6H:123962121-123970610:- & Igri\\_chr6HG28688 & Igri\\_chr6HG28688.33 & ISO     & Igri & core;multiple & Co    & HOG0011400 & core;single & No\\\\\n",
       "\t chr6H59648 & chr6H59648.8  & chr6H:123962121-123970610:- & Igri\\_chr6HG28688 & Igri\\_chr6HG28688.6  & ISO     & Igri & core;multiple & Co    & HOG0011400 & core;single & No\\\\\n",
       "\t chr6H59648 & chr6H59648.8  & chr6H:123962121-123970610:- & Igri\\_chr6HG28688 & Igri\\_chr6HG28688.21 & ISO     & Igri & core;multiple & Co    & HOG0011400 & core;single & No\\\\\n",
       "\t chr6H59648 & chr6H59648.8  & chr6H:123962121-123970610:- & Igri\\_chr6HG28688 & Igri\\_chr6HG28688.30 & ISO     & Igri & core;multiple & Co    & HOG0011400 & core;single & No\\\\\n",
       "\t chr6H59648 & chr6H59648.9  & chr6H:123962121-123970610:- & Igri\\_chr6HG28688 & Igri\\_chr6HG28688.2  & ISO     & Igri & core;multiple & Co    & HOG0011400 & core;single & No\\\\\n",
       "\t chr6H59648 & chr6H59648.9  & chr6H:123962121-123970610:- & Igri\\_chr6HG28688 & Igri\\_chr6HG28688.24 & ISO     & Igri & core;multiple & Co    & HOG0011400 & core;single & No\\\\\n",
       "\t chr6H59648 & chr6H59648.31 & chr6H:123962121-123970610:- & Igri\\_chr6HG28688 & Igri\\_chr6HG28688.26 & ISO     & Igri & core;multiple & Co    & HOG0011400 & core;single & No\\\\\n",
       "\t chr6H59648 & chr6H59648.33 & chr6H:123962121-123970610:- & Igri\\_chr6HG28688 & Igri\\_chr6HG28688.27 & ISO     & Igri & core;multiple & Co    & HOG0011400 & core;single & No\\\\\n",
       "\t chr6H59648 & chr6H59648.34 & chr6H:123962121-123970610:- & Igri\\_chr6HG28688 & Igri\\_chr6HG28688.32 & ISO     & Igri & core;multiple & Co    & HOG0011400 & core;single & No\\\\\n",
       "\t chr6H59648 & chr6H59648.39 & chr6H:123962121-123970610:- & Igri\\_chr6HG28688 & Igri\\_chr6HG28688.36 & ISO     & Igri & core;multiple & Co    & HOG0011400 & core;single & No\\\\\n",
       "\\end{tabular}\n"
      ],
      "text/markdown": [
       "\n",
       "A data.frame: 47 × 12\n",
       "\n",
       "| PanBaRT20_gene_id &lt;fct&gt; | PanBaRT20_transcript_id &lt;fct&gt; | PSVCP20_pos_strand &lt;fct&gt; | GsRTD_gene_id &lt;fct&gt; | GsRTD_transcript_id &lt;fct&gt; | Source_data &lt;fct&gt; | Genotype &lt;fct&gt; | Pan_category &lt;fct&gt; | PanBaRT20_DE_tissue &lt;fct&gt; | Ortholog &lt;fct&gt; | Orth_category &lt;fct&gt; | Pan_Orth_category_match &lt;fct&gt; |\n",
       "|---|---|---|---|---|---|---|---|---|---|---|---|\n",
       "| chr6H59649 | chr6H59649.1  | chr6H:123962966-123963433:- | Igri_chr6HG28688 | Igri_chr6HG28688.1  | ISO     | Igri | cloud;single  | NotDE | HOG0011400 | core;single | No |\n",
       "| chr6H59648 | chr6H59648.2  | chr6H:123962121-123970610:- | Igri_chr6HG28688 | Igri_chr6HG28688.19 | ISO&amp;RNA | Igri | core;multiple | Co    | HOG0011400 | core;single | No |\n",
       "| chr6H59648 | chr6H59648.2  | chr6H:123962121-123970610:- | Igri_chr6HG28688 | Igri_chr6HG28688.20 | ISO&amp;RNA | Igri | core;multiple | Co    | HOG0011400 | core;single | No |\n",
       "| chr6H59648 | chr6H59648.2  | chr6H:123962121-123970610:- | Igri_chr6HG28688 | Igri_chr6HG28688.25 | ISO&amp;RNA | Igri | core;multiple | Co    | HOG0011400 | core;single | No |\n",
       "| chr6H59648 | chr6H59648.2  | chr6H:123962121-123970610:- | Igri_chr6HG28688 | Igri_chr6HG28688.37 | ISO&amp;RNA | Igri | core;multiple | Co    | HOG0011400 | core;single | No |\n",
       "| chr6H59648 | chr6H59648.2  | chr6H:123962121-123970610:- | Igri_chr6HG28688 | Igri_chr6HG28688.38 | ISO&amp;RNA | Igri | core;multiple | Co    | HOG0011400 | core;single | No |\n",
       "| chr6H59648 | chr6H59648.3  | chr6H:123962121-123970610:- | Igri_chr6HG28688 | Igri_chr6HG28688.43 | ISO     | Igri | core;multiple | Co    | HOG0011400 | core;single | No |\n",
       "| chr6H59648 | chr6H59648.3  | chr6H:123962121-123970610:- | Igri_chr6HG28688 | Igri_chr6HG28688.3  | ISO     | Igri | core;multiple | Co    | HOG0011400 | core;single | No |\n",
       "| chr6H59648 | chr6H59648.3  | chr6H:123962121-123970610:- | Igri_chr6HG28688 | Igri_chr6HG28688.4  | ISO     | Igri | core;multiple | Co    | HOG0011400 | core;single | No |\n",
       "| chr6H59648 | chr6H59648.3  | chr6H:123962121-123970610:- | Igri_chr6HG28688 | Igri_chr6HG28688.5  | ISO     | Igri | core;multiple | Co    | HOG0011400 | core;single | No |\n",
       "| chr6H59648 | chr6H59648.3  | chr6H:123962121-123970610:- | Igri_chr6HG28688 | Igri_chr6HG28688.7  | ISO     | Igri | core;multiple | Co    | HOG0011400 | core;single | No |\n",
       "| chr6H59648 | chr6H59648.3  | chr6H:123962121-123970610:- | Igri_chr6HG28688 | Igri_chr6HG28688.8  | ISO     | Igri | core;multiple | Co    | HOG0011400 | core;single | No |\n",
       "| chr6H59648 | chr6H59648.3  | chr6H:123962121-123970610:- | Igri_chr6HG28688 | Igri_chr6HG28688.15 | ISO     | Igri | core;multiple | Co    | HOG0011400 | core;single | No |\n",
       "| chr6H59648 | chr6H59648.3  | chr6H:123962121-123970610:- | Igri_chr6HG28688 | Igri_chr6HG28688.16 | ISO     | Igri | core;multiple | Co    | HOG0011400 | core;single | No |\n",
       "| chr6H59648 | chr6H59648.3  | chr6H:123962121-123970610:- | Igri_chr6HG28688 | Igri_chr6HG28688.17 | ISO     | Igri | core;multiple | Co    | HOG0011400 | core;single | No |\n",
       "| chr6H59648 | chr6H59648.3  | chr6H:123962121-123970610:- | Igri_chr6HG28688 | Igri_chr6HG28688.18 | ISO     | Igri | core;multiple | Co    | HOG0011400 | core;single | No |\n",
       "| chr6H59648 | chr6H59648.3  | chr6H:123962121-123970610:- | Igri_chr6HG28688 | Igri_chr6HG28688.29 | ISO     | Igri | core;multiple | Co    | HOG0011400 | core;single | No |\n",
       "| chr6H59648 | chr6H59648.3  | chr6H:123962121-123970610:- | Igri_chr6HG28688 | Igri_chr6HG28688.40 | ISO     | Igri | core;multiple | Co    | HOG0011400 | core;single | No |\n",
       "| chr6H59648 | chr6H59648.3  | chr6H:123962121-123970610:- | Igri_chr6HG28688 | Igri_chr6HG28688.41 | ISO     | Igri | core;multiple | Co    | HOG0011400 | core;single | No |\n",
       "| chr6H59648 | chr6H59648.3  | chr6H:123962121-123970610:- | Igri_chr6HG28688 | Igri_chr6HG28688.42 | ISO     | Igri | core;multiple | Co    | HOG0011400 | core;single | No |\n",
       "| chr6H59648 | chr6H59648.4  | chr6H:123962121-123970610:- | Igri_chr6HG28688 | Igri_chr6HG28688.34 | ISO     | Igri | core;multiple | Co    | HOG0011400 | core;single | No |\n",
       "| chr6H59648 | chr6H59648.4  | chr6H:123962121-123970610:- | Igri_chr6HG28688 | Igri_chr6HG28688.14 | ISO     | Igri | core;multiple | Co    | HOG0011400 | core;single | No |\n",
       "| chr6H59648 | chr6H59648.4  | chr6H:123962121-123970610:- | Igri_chr6HG28688 | Igri_chr6HG28688.39 | ISO     | Igri | core;multiple | Co    | HOG0011400 | core;single | No |\n",
       "| chr6H59648 | chr6H59648.5  | chr6H:123962121-123970610:- | Igri_chr6HG28688 | Igri_chr6HG28688.23 | ISO     | Igri | core;multiple | Co    | HOG0011400 | core;single | No |\n",
       "| chr6H59648 | chr6H59648.5  | chr6H:123962121-123970610:- | Igri_chr6HG28688 | Igri_chr6HG28688.13 | ISO     | Igri | core;multiple | Co    | HOG0011400 | core;single | No |\n",
       "| chr6H59648 | chr6H59648.5  | chr6H:123962121-123970610:- | Igri_chr6HG28688 | Igri_chr6HG28688.22 | ISO     | Igri | core;multiple | Co    | HOG0011400 | core;single | No |\n",
       "| chr6H59648 | chr6H59648.5  | chr6H:123962121-123970610:- | Igri_chr6HG28688 | Igri_chr6HG28688.35 | ISO     | Igri | core;multiple | Co    | HOG0011400 | core;single | No |\n",
       "| chr6H59648 | chr6H59648.6  | chr6H:123962121-123970610:- | Igri_chr6HG28688 | Igri_chr6HG28688.44 | ISO     | Igri | core;multiple | Co    | HOG0011400 | core;single | No |\n",
       "| chr6H59648 | chr6H59648.6  | chr6H:123962121-123970610:- | Igri_chr6HG28688 | Igri_chr6HG28688.31 | ISO     | Igri | core;multiple | Co    | HOG0011400 | core;single | No |\n",
       "| chr6H59648 | chr6H59648.7  | chr6H:123962121-123970610:- | Igri_chr6HG28688 | Igri_chr6HG28688.12 | ISO     | Igri | core;multiple | Co    | HOG0011400 | core;single | No |\n",
       "| chr6H59648 | chr6H59648.7  | chr6H:123962121-123970610:- | Igri_chr6HG28688 | Igri_chr6HG28688.45 | ISO     | Igri | core;multiple | Co    | HOG0011400 | core;single | No |\n",
       "| chr6H59648 | chr6H59648.7  | chr6H:123962121-123970610:- | Igri_chr6HG28688 | Igri_chr6HG28688.46 | ISO     | Igri | core;multiple | Co    | HOG0011400 | core;single | No |\n",
       "| chr6H59648 | chr6H59648.7  | chr6H:123962121-123970610:- | Igri_chr6HG28688 | Igri_chr6HG28688.47 | ISO     | Igri | core;multiple | Co    | HOG0011400 | core;single | No |\n",
       "| chr6H59648 | chr6H59648.7  | chr6H:123962121-123970610:- | Igri_chr6HG28688 | Igri_chr6HG28688.9  | ISO     | Igri | core;multiple | Co    | HOG0011400 | core;single | No |\n",
       "| chr6H59648 | chr6H59648.7  | chr6H:123962121-123970610:- | Igri_chr6HG28688 | Igri_chr6HG28688.10 | ISO     | Igri | core;multiple | Co    | HOG0011400 | core;single | No |\n",
       "| chr6H59648 | chr6H59648.7  | chr6H:123962121-123970610:- | Igri_chr6HG28688 | Igri_chr6HG28688.11 | ISO     | Igri | core;multiple | Co    | HOG0011400 | core;single | No |\n",
       "| chr6H59648 | chr6H59648.7  | chr6H:123962121-123970610:- | Igri_chr6HG28688 | Igri_chr6HG28688.28 | ISO     | Igri | core;multiple | Co    | HOG0011400 | core;single | No |\n",
       "| chr6H59648 | chr6H59648.7  | chr6H:123962121-123970610:- | Igri_chr6HG28688 | Igri_chr6HG28688.33 | ISO     | Igri | core;multiple | Co    | HOG0011400 | core;single | No |\n",
       "| chr6H59648 | chr6H59648.8  | chr6H:123962121-123970610:- | Igri_chr6HG28688 | Igri_chr6HG28688.6  | ISO     | Igri | core;multiple | Co    | HOG0011400 | core;single | No |\n",
       "| chr6H59648 | chr6H59648.8  | chr6H:123962121-123970610:- | Igri_chr6HG28688 | Igri_chr6HG28688.21 | ISO     | Igri | core;multiple | Co    | HOG0011400 | core;single | No |\n",
       "| chr6H59648 | chr6H59648.8  | chr6H:123962121-123970610:- | Igri_chr6HG28688 | Igri_chr6HG28688.30 | ISO     | Igri | core;multiple | Co    | HOG0011400 | core;single | No |\n",
       "| chr6H59648 | chr6H59648.9  | chr6H:123962121-123970610:- | Igri_chr6HG28688 | Igri_chr6HG28688.2  | ISO     | Igri | core;multiple | Co    | HOG0011400 | core;single | No |\n",
       "| chr6H59648 | chr6H59648.9  | chr6H:123962121-123970610:- | Igri_chr6HG28688 | Igri_chr6HG28688.24 | ISO     | Igri | core;multiple | Co    | HOG0011400 | core;single | No |\n",
       "| chr6H59648 | chr6H59648.31 | chr6H:123962121-123970610:- | Igri_chr6HG28688 | Igri_chr6HG28688.26 | ISO     | Igri | core;multiple | Co    | HOG0011400 | core;single | No |\n",
       "| chr6H59648 | chr6H59648.33 | chr6H:123962121-123970610:- | Igri_chr6HG28688 | Igri_chr6HG28688.27 | ISO     | Igri | core;multiple | Co    | HOG0011400 | core;single | No |\n",
       "| chr6H59648 | chr6H59648.34 | chr6H:123962121-123970610:- | Igri_chr6HG28688 | Igri_chr6HG28688.32 | ISO     | Igri | core;multiple | Co    | HOG0011400 | core;single | No |\n",
       "| chr6H59648 | chr6H59648.39 | chr6H:123962121-123970610:- | Igri_chr6HG28688 | Igri_chr6HG28688.36 | ISO     | Igri | core;multiple | Co    | HOG0011400 | core;single | No |\n",
       "\n"
      ],
      "text/plain": [
       "   PanBaRT20_gene_id PanBaRT20_transcript_id PSVCP20_pos_strand         \n",
       "1  chr6H59649        chr6H59649.1            chr6H:123962966-123963433:-\n",
       "2  chr6H59648        chr6H59648.2            chr6H:123962121-123970610:-\n",
       "3  chr6H59648        chr6H59648.2            chr6H:123962121-123970610:-\n",
       "4  chr6H59648        chr6H59648.2            chr6H:123962121-123970610:-\n",
       "5  chr6H59648        chr6H59648.2            chr6H:123962121-123970610:-\n",
       "6  chr6H59648        chr6H59648.2            chr6H:123962121-123970610:-\n",
       "7  chr6H59648        chr6H59648.3            chr6H:123962121-123970610:-\n",
       "8  chr6H59648        chr6H59648.3            chr6H:123962121-123970610:-\n",
       "9  chr6H59648        chr6H59648.3            chr6H:123962121-123970610:-\n",
       "10 chr6H59648        chr6H59648.3            chr6H:123962121-123970610:-\n",
       "11 chr6H59648        chr6H59648.3            chr6H:123962121-123970610:-\n",
       "12 chr6H59648        chr6H59648.3            chr6H:123962121-123970610:-\n",
       "13 chr6H59648        chr6H59648.3            chr6H:123962121-123970610:-\n",
       "14 chr6H59648        chr6H59648.3            chr6H:123962121-123970610:-\n",
       "15 chr6H59648        chr6H59648.3            chr6H:123962121-123970610:-\n",
       "16 chr6H59648        chr6H59648.3            chr6H:123962121-123970610:-\n",
       "17 chr6H59648        chr6H59648.3            chr6H:123962121-123970610:-\n",
       "18 chr6H59648        chr6H59648.3            chr6H:123962121-123970610:-\n",
       "19 chr6H59648        chr6H59648.3            chr6H:123962121-123970610:-\n",
       "20 chr6H59648        chr6H59648.3            chr6H:123962121-123970610:-\n",
       "21 chr6H59648        chr6H59648.4            chr6H:123962121-123970610:-\n",
       "22 chr6H59648        chr6H59648.4            chr6H:123962121-123970610:-\n",
       "23 chr6H59648        chr6H59648.4            chr6H:123962121-123970610:-\n",
       "24 chr6H59648        chr6H59648.5            chr6H:123962121-123970610:-\n",
       "25 chr6H59648        chr6H59648.5            chr6H:123962121-123970610:-\n",
       "26 chr6H59648        chr6H59648.5            chr6H:123962121-123970610:-\n",
       "27 chr6H59648        chr6H59648.5            chr6H:123962121-123970610:-\n",
       "28 chr6H59648        chr6H59648.6            chr6H:123962121-123970610:-\n",
       "29 chr6H59648        chr6H59648.6            chr6H:123962121-123970610:-\n",
       "30 chr6H59648        chr6H59648.7            chr6H:123962121-123970610:-\n",
       "31 chr6H59648        chr6H59648.7            chr6H:123962121-123970610:-\n",
       "32 chr6H59648        chr6H59648.7            chr6H:123962121-123970610:-\n",
       "33 chr6H59648        chr6H59648.7            chr6H:123962121-123970610:-\n",
       "34 chr6H59648        chr6H59648.7            chr6H:123962121-123970610:-\n",
       "35 chr6H59648        chr6H59648.7            chr6H:123962121-123970610:-\n",
       "36 chr6H59648        chr6H59648.7            chr6H:123962121-123970610:-\n",
       "37 chr6H59648        chr6H59648.7            chr6H:123962121-123970610:-\n",
       "38 chr6H59648        chr6H59648.7            chr6H:123962121-123970610:-\n",
       "39 chr6H59648        chr6H59648.8            chr6H:123962121-123970610:-\n",
       "40 chr6H59648        chr6H59648.8            chr6H:123962121-123970610:-\n",
       "41 chr6H59648        chr6H59648.8            chr6H:123962121-123970610:-\n",
       "42 chr6H59648        chr6H59648.9            chr6H:123962121-123970610:-\n",
       "43 chr6H59648        chr6H59648.9            chr6H:123962121-123970610:-\n",
       "44 chr6H59648        chr6H59648.31           chr6H:123962121-123970610:-\n",
       "45 chr6H59648        chr6H59648.33           chr6H:123962121-123970610:-\n",
       "46 chr6H59648        chr6H59648.34           chr6H:123962121-123970610:-\n",
       "47 chr6H59648        chr6H59648.39           chr6H:123962121-123970610:-\n",
       "   GsRTD_gene_id    GsRTD_transcript_id Source_data Genotype Pan_category \n",
       "1  Igri_chr6HG28688 Igri_chr6HG28688.1  ISO         Igri     cloud;single \n",
       "2  Igri_chr6HG28688 Igri_chr6HG28688.19 ISO&RNA     Igri     core;multiple\n",
       "3  Igri_chr6HG28688 Igri_chr6HG28688.20 ISO&RNA     Igri     core;multiple\n",
       "4  Igri_chr6HG28688 Igri_chr6HG28688.25 ISO&RNA     Igri     core;multiple\n",
       "5  Igri_chr6HG28688 Igri_chr6HG28688.37 ISO&RNA     Igri     core;multiple\n",
       "6  Igri_chr6HG28688 Igri_chr6HG28688.38 ISO&RNA     Igri     core;multiple\n",
       "7  Igri_chr6HG28688 Igri_chr6HG28688.43 ISO         Igri     core;multiple\n",
       "8  Igri_chr6HG28688 Igri_chr6HG28688.3  ISO         Igri     core;multiple\n",
       "9  Igri_chr6HG28688 Igri_chr6HG28688.4  ISO         Igri     core;multiple\n",
       "10 Igri_chr6HG28688 Igri_chr6HG28688.5  ISO         Igri     core;multiple\n",
       "11 Igri_chr6HG28688 Igri_chr6HG28688.7  ISO         Igri     core;multiple\n",
       "12 Igri_chr6HG28688 Igri_chr6HG28688.8  ISO         Igri     core;multiple\n",
       "13 Igri_chr6HG28688 Igri_chr6HG28688.15 ISO         Igri     core;multiple\n",
       "14 Igri_chr6HG28688 Igri_chr6HG28688.16 ISO         Igri     core;multiple\n",
       "15 Igri_chr6HG28688 Igri_chr6HG28688.17 ISO         Igri     core;multiple\n",
       "16 Igri_chr6HG28688 Igri_chr6HG28688.18 ISO         Igri     core;multiple\n",
       "17 Igri_chr6HG28688 Igri_chr6HG28688.29 ISO         Igri     core;multiple\n",
       "18 Igri_chr6HG28688 Igri_chr6HG28688.40 ISO         Igri     core;multiple\n",
       "19 Igri_chr6HG28688 Igri_chr6HG28688.41 ISO         Igri     core;multiple\n",
       "20 Igri_chr6HG28688 Igri_chr6HG28688.42 ISO         Igri     core;multiple\n",
       "21 Igri_chr6HG28688 Igri_chr6HG28688.34 ISO         Igri     core;multiple\n",
       "22 Igri_chr6HG28688 Igri_chr6HG28688.14 ISO         Igri     core;multiple\n",
       "23 Igri_chr6HG28688 Igri_chr6HG28688.39 ISO         Igri     core;multiple\n",
       "24 Igri_chr6HG28688 Igri_chr6HG28688.23 ISO         Igri     core;multiple\n",
       "25 Igri_chr6HG28688 Igri_chr6HG28688.13 ISO         Igri     core;multiple\n",
       "26 Igri_chr6HG28688 Igri_chr6HG28688.22 ISO         Igri     core;multiple\n",
       "27 Igri_chr6HG28688 Igri_chr6HG28688.35 ISO         Igri     core;multiple\n",
       "28 Igri_chr6HG28688 Igri_chr6HG28688.44 ISO         Igri     core;multiple\n",
       "29 Igri_chr6HG28688 Igri_chr6HG28688.31 ISO         Igri     core;multiple\n",
       "30 Igri_chr6HG28688 Igri_chr6HG28688.12 ISO         Igri     core;multiple\n",
       "31 Igri_chr6HG28688 Igri_chr6HG28688.45 ISO         Igri     core;multiple\n",
       "32 Igri_chr6HG28688 Igri_chr6HG28688.46 ISO         Igri     core;multiple\n",
       "33 Igri_chr6HG28688 Igri_chr6HG28688.47 ISO         Igri     core;multiple\n",
       "34 Igri_chr6HG28688 Igri_chr6HG28688.9  ISO         Igri     core;multiple\n",
       "35 Igri_chr6HG28688 Igri_chr6HG28688.10 ISO         Igri     core;multiple\n",
       "36 Igri_chr6HG28688 Igri_chr6HG28688.11 ISO         Igri     core;multiple\n",
       "37 Igri_chr6HG28688 Igri_chr6HG28688.28 ISO         Igri     core;multiple\n",
       "38 Igri_chr6HG28688 Igri_chr6HG28688.33 ISO         Igri     core;multiple\n",
       "39 Igri_chr6HG28688 Igri_chr6HG28688.6  ISO         Igri     core;multiple\n",
       "40 Igri_chr6HG28688 Igri_chr6HG28688.21 ISO         Igri     core;multiple\n",
       "41 Igri_chr6HG28688 Igri_chr6HG28688.30 ISO         Igri     core;multiple\n",
       "42 Igri_chr6HG28688 Igri_chr6HG28688.2  ISO         Igri     core;multiple\n",
       "43 Igri_chr6HG28688 Igri_chr6HG28688.24 ISO         Igri     core;multiple\n",
       "44 Igri_chr6HG28688 Igri_chr6HG28688.26 ISO         Igri     core;multiple\n",
       "45 Igri_chr6HG28688 Igri_chr6HG28688.27 ISO         Igri     core;multiple\n",
       "46 Igri_chr6HG28688 Igri_chr6HG28688.32 ISO         Igri     core;multiple\n",
       "47 Igri_chr6HG28688 Igri_chr6HG28688.36 ISO         Igri     core;multiple\n",
       "   PanBaRT20_DE_tissue Ortholog   Orth_category Pan_Orth_category_match\n",
       "1  NotDE               HOG0011400 core;single   No                     \n",
       "2  Co                  HOG0011400 core;single   No                     \n",
       "3  Co                  HOG0011400 core;single   No                     \n",
       "4  Co                  HOG0011400 core;single   No                     \n",
       "5  Co                  HOG0011400 core;single   No                     \n",
       "6  Co                  HOG0011400 core;single   No                     \n",
       "7  Co                  HOG0011400 core;single   No                     \n",
       "8  Co                  HOG0011400 core;single   No                     \n",
       "9  Co                  HOG0011400 core;single   No                     \n",
       "10 Co                  HOG0011400 core;single   No                     \n",
       "11 Co                  HOG0011400 core;single   No                     \n",
       "12 Co                  HOG0011400 core;single   No                     \n",
       "13 Co                  HOG0011400 core;single   No                     \n",
       "14 Co                  HOG0011400 core;single   No                     \n",
       "15 Co                  HOG0011400 core;single   No                     \n",
       "16 Co                  HOG0011400 core;single   No                     \n",
       "17 Co                  HOG0011400 core;single   No                     \n",
       "18 Co                  HOG0011400 core;single   No                     \n",
       "19 Co                  HOG0011400 core;single   No                     \n",
       "20 Co                  HOG0011400 core;single   No                     \n",
       "21 Co                  HOG0011400 core;single   No                     \n",
       "22 Co                  HOG0011400 core;single   No                     \n",
       "23 Co                  HOG0011400 core;single   No                     \n",
       "24 Co                  HOG0011400 core;single   No                     \n",
       "25 Co                  HOG0011400 core;single   No                     \n",
       "26 Co                  HOG0011400 core;single   No                     \n",
       "27 Co                  HOG0011400 core;single   No                     \n",
       "28 Co                  HOG0011400 core;single   No                     \n",
       "29 Co                  HOG0011400 core;single   No                     \n",
       "30 Co                  HOG0011400 core;single   No                     \n",
       "31 Co                  HOG0011400 core;single   No                     \n",
       "32 Co                  HOG0011400 core;single   No                     \n",
       "33 Co                  HOG0011400 core;single   No                     \n",
       "34 Co                  HOG0011400 core;single   No                     \n",
       "35 Co                  HOG0011400 core;single   No                     \n",
       "36 Co                  HOG0011400 core;single   No                     \n",
       "37 Co                  HOG0011400 core;single   No                     \n",
       "38 Co                  HOG0011400 core;single   No                     \n",
       "39 Co                  HOG0011400 core;single   No                     \n",
       "40 Co                  HOG0011400 core;single   No                     \n",
       "41 Co                  HOG0011400 core;single   No                     \n",
       "42 Co                  HOG0011400 core;single   No                     \n",
       "43 Co                  HOG0011400 core;single   No                     \n",
       "44 Co                  HOG0011400 core;single   No                     \n",
       "45 Co                  HOG0011400 core;single   No                     \n",
       "46 Co                  HOG0011400 core;single   No                     \n",
       "47 Co                  HOG0011400 core;single   No                     "
      ]
     },
     "metadata": {},
     "output_type": "display_data"
    },
    {
     "data": {
      "text/html": [
       "<table class=\"dataframe\">\n",
       "<caption>A data.frame: 7 × 12</caption>\n",
       "<thead>\n",
       "\t<tr><th scope=col>PanBaRT20_gene_id</th><th scope=col>PanBaRT20_transcript_id</th><th scope=col>PSVCP20_pos_strand</th><th scope=col>GsRTD_gene_id</th><th scope=col>GsRTD_transcript_id</th><th scope=col>Source_data</th><th scope=col>Genotype</th><th scope=col>Pan_category</th><th scope=col>PanBaRT20_DE_tissue</th><th scope=col>Ortholog</th><th scope=col>Orth_category</th><th scope=col>Pan_Orth_category_match</th></tr>\n",
       "\t<tr><th scope=col>&lt;fct&gt;</th><th scope=col>&lt;fct&gt;</th><th scope=col>&lt;fct&gt;</th><th scope=col>&lt;fct&gt;</th><th scope=col>&lt;fct&gt;</th><th scope=col>&lt;fct&gt;</th><th scope=col>&lt;fct&gt;</th><th scope=col>&lt;fct&gt;</th><th scope=col>&lt;fct&gt;</th><th scope=col>&lt;fct&gt;</th><th scope=col>&lt;fct&gt;</th><th scope=col>&lt;fct&gt;</th></tr>\n",
       "</thead>\n",
       "<tbody>\n",
       "\t<tr><td>chr2H15971</td><td>chr2H15971.1</td><td>chr2H:402864281-402873246:+</td><td>OUN333_chr2HG06674</td><td>OUN333_chr2HG06674.1</td><td>ISO&amp;RNA</td><td>OUN333</td><td>core;multiple</td><td>In;Ro;Sh</td><td>HOG0014921</td><td>core;single</td><td>No</td></tr>\n",
       "\t<tr><td>chr2H15971</td><td>chr2H15971.1</td><td>chr2H:402864281-402873246:+</td><td>OUN333_chr2HG06674</td><td>OUN333_chr2HG06674.4</td><td>ISO&amp;RNA</td><td>OUN333</td><td>core;multiple</td><td>In;Ro;Sh</td><td>HOG0014921</td><td>core;single</td><td>No</td></tr>\n",
       "\t<tr><td>chr2H15971</td><td>chr2H15971.1</td><td>chr2H:402864281-402873246:+</td><td>OUN333_chr2HG06674</td><td>OUN333_chr2HG06674.6</td><td>ISO&amp;RNA</td><td>OUN333</td><td>core;multiple</td><td>In;Ro;Sh</td><td>HOG0014921</td><td>core;single</td><td>No</td></tr>\n",
       "\t<tr><td>chr2H15971</td><td>chr2H15971.2</td><td>chr2H:402864281-402873246:+</td><td>OUN333_chr2HG06674</td><td>OUN333_chr2HG06674.2</td><td>ISO    </td><td>OUN333</td><td>core;multiple</td><td>In;Ro;Sh</td><td>HOG0014921</td><td>core;single</td><td>No</td></tr>\n",
       "\t<tr><td>chr2H15971</td><td>chr2H15971.3</td><td>chr2H:402864281-402873246:+</td><td>OUN333_chr2HG06674</td><td>OUN333_chr2HG06674.3</td><td>ISO    </td><td>OUN333</td><td>core;multiple</td><td>In;Ro;Sh</td><td>HOG0014921</td><td>core;single</td><td>No</td></tr>\n",
       "\t<tr><td>chr2H15971</td><td>chr2H15971.5</td><td>chr2H:402864281-402873246:+</td><td>OUN333_chr2HG06674</td><td>OUN333_chr2HG06674.5</td><td>ISO    </td><td>OUN333</td><td>core;multiple</td><td>In;Ro;Sh</td><td>HOG0014921</td><td>core;single</td><td>No</td></tr>\n",
       "\t<tr><td>chr2H15972</td><td>chr2H15972.1</td><td>chr2H:402871667-402872292:+</td><td>OUN333_chr2HG06674</td><td>OUN333_chr2HG06674.7</td><td>ISO    </td><td>OUN333</td><td>cloud;single </td><td>NotDE   </td><td>HOG0014921</td><td>core;single</td><td>No</td></tr>\n",
       "</tbody>\n",
       "</table>\n"
      ],
      "text/latex": [
       "A data.frame: 7 × 12\n",
       "\\begin{tabular}{llllllllllll}\n",
       " PanBaRT20\\_gene\\_id & PanBaRT20\\_transcript\\_id & PSVCP20\\_pos\\_strand & GsRTD\\_gene\\_id & GsRTD\\_transcript\\_id & Source\\_data & Genotype & Pan\\_category & PanBaRT20\\_DE\\_tissue & Ortholog & Orth\\_category & Pan\\_Orth\\_category\\_match\\\\\n",
       " <fct> & <fct> & <fct> & <fct> & <fct> & <fct> & <fct> & <fct> & <fct> & <fct> & <fct> & <fct>\\\\\n",
       "\\hline\n",
       "\t chr2H15971 & chr2H15971.1 & chr2H:402864281-402873246:+ & OUN333\\_chr2HG06674 & OUN333\\_chr2HG06674.1 & ISO\\&RNA & OUN333 & core;multiple & In;Ro;Sh & HOG0014921 & core;single & No\\\\\n",
       "\t chr2H15971 & chr2H15971.1 & chr2H:402864281-402873246:+ & OUN333\\_chr2HG06674 & OUN333\\_chr2HG06674.4 & ISO\\&RNA & OUN333 & core;multiple & In;Ro;Sh & HOG0014921 & core;single & No\\\\\n",
       "\t chr2H15971 & chr2H15971.1 & chr2H:402864281-402873246:+ & OUN333\\_chr2HG06674 & OUN333\\_chr2HG06674.6 & ISO\\&RNA & OUN333 & core;multiple & In;Ro;Sh & HOG0014921 & core;single & No\\\\\n",
       "\t chr2H15971 & chr2H15971.2 & chr2H:402864281-402873246:+ & OUN333\\_chr2HG06674 & OUN333\\_chr2HG06674.2 & ISO     & OUN333 & core;multiple & In;Ro;Sh & HOG0014921 & core;single & No\\\\\n",
       "\t chr2H15971 & chr2H15971.3 & chr2H:402864281-402873246:+ & OUN333\\_chr2HG06674 & OUN333\\_chr2HG06674.3 & ISO     & OUN333 & core;multiple & In;Ro;Sh & HOG0014921 & core;single & No\\\\\n",
       "\t chr2H15971 & chr2H15971.5 & chr2H:402864281-402873246:+ & OUN333\\_chr2HG06674 & OUN333\\_chr2HG06674.5 & ISO     & OUN333 & core;multiple & In;Ro;Sh & HOG0014921 & core;single & No\\\\\n",
       "\t chr2H15972 & chr2H15972.1 & chr2H:402871667-402872292:+ & OUN333\\_chr2HG06674 & OUN333\\_chr2HG06674.7 & ISO     & OUN333 & cloud;single  & NotDE    & HOG0014921 & core;single & No\\\\\n",
       "\\end{tabular}\n"
      ],
      "text/markdown": [
       "\n",
       "A data.frame: 7 × 12\n",
       "\n",
       "| PanBaRT20_gene_id &lt;fct&gt; | PanBaRT20_transcript_id &lt;fct&gt; | PSVCP20_pos_strand &lt;fct&gt; | GsRTD_gene_id &lt;fct&gt; | GsRTD_transcript_id &lt;fct&gt; | Source_data &lt;fct&gt; | Genotype &lt;fct&gt; | Pan_category &lt;fct&gt; | PanBaRT20_DE_tissue &lt;fct&gt; | Ortholog &lt;fct&gt; | Orth_category &lt;fct&gt; | Pan_Orth_category_match &lt;fct&gt; |\n",
       "|---|---|---|---|---|---|---|---|---|---|---|---|\n",
       "| chr2H15971 | chr2H15971.1 | chr2H:402864281-402873246:+ | OUN333_chr2HG06674 | OUN333_chr2HG06674.1 | ISO&amp;RNA | OUN333 | core;multiple | In;Ro;Sh | HOG0014921 | core;single | No |\n",
       "| chr2H15971 | chr2H15971.1 | chr2H:402864281-402873246:+ | OUN333_chr2HG06674 | OUN333_chr2HG06674.4 | ISO&amp;RNA | OUN333 | core;multiple | In;Ro;Sh | HOG0014921 | core;single | No |\n",
       "| chr2H15971 | chr2H15971.1 | chr2H:402864281-402873246:+ | OUN333_chr2HG06674 | OUN333_chr2HG06674.6 | ISO&amp;RNA | OUN333 | core;multiple | In;Ro;Sh | HOG0014921 | core;single | No |\n",
       "| chr2H15971 | chr2H15971.2 | chr2H:402864281-402873246:+ | OUN333_chr2HG06674 | OUN333_chr2HG06674.2 | ISO     | OUN333 | core;multiple | In;Ro;Sh | HOG0014921 | core;single | No |\n",
       "| chr2H15971 | chr2H15971.3 | chr2H:402864281-402873246:+ | OUN333_chr2HG06674 | OUN333_chr2HG06674.3 | ISO     | OUN333 | core;multiple | In;Ro;Sh | HOG0014921 | core;single | No |\n",
       "| chr2H15971 | chr2H15971.5 | chr2H:402864281-402873246:+ | OUN333_chr2HG06674 | OUN333_chr2HG06674.5 | ISO     | OUN333 | core;multiple | In;Ro;Sh | HOG0014921 | core;single | No |\n",
       "| chr2H15972 | chr2H15972.1 | chr2H:402871667-402872292:+ | OUN333_chr2HG06674 | OUN333_chr2HG06674.7 | ISO     | OUN333 | cloud;single  | NotDE    | HOG0014921 | core;single | No |\n",
       "\n"
      ],
      "text/plain": [
       "  PanBaRT20_gene_id PanBaRT20_transcript_id PSVCP20_pos_strand         \n",
       "1 chr2H15971        chr2H15971.1            chr2H:402864281-402873246:+\n",
       "2 chr2H15971        chr2H15971.1            chr2H:402864281-402873246:+\n",
       "3 chr2H15971        chr2H15971.1            chr2H:402864281-402873246:+\n",
       "4 chr2H15971        chr2H15971.2            chr2H:402864281-402873246:+\n",
       "5 chr2H15971        chr2H15971.3            chr2H:402864281-402873246:+\n",
       "6 chr2H15971        chr2H15971.5            chr2H:402864281-402873246:+\n",
       "7 chr2H15972        chr2H15972.1            chr2H:402871667-402872292:+\n",
       "  GsRTD_gene_id      GsRTD_transcript_id  Source_data Genotype Pan_category \n",
       "1 OUN333_chr2HG06674 OUN333_chr2HG06674.1 ISO&RNA     OUN333   core;multiple\n",
       "2 OUN333_chr2HG06674 OUN333_chr2HG06674.4 ISO&RNA     OUN333   core;multiple\n",
       "3 OUN333_chr2HG06674 OUN333_chr2HG06674.6 ISO&RNA     OUN333   core;multiple\n",
       "4 OUN333_chr2HG06674 OUN333_chr2HG06674.2 ISO         OUN333   core;multiple\n",
       "5 OUN333_chr2HG06674 OUN333_chr2HG06674.3 ISO         OUN333   core;multiple\n",
       "6 OUN333_chr2HG06674 OUN333_chr2HG06674.5 ISO         OUN333   core;multiple\n",
       "7 OUN333_chr2HG06674 OUN333_chr2HG06674.7 ISO         OUN333   cloud;single \n",
       "  PanBaRT20_DE_tissue Ortholog   Orth_category Pan_Orth_category_match\n",
       "1 In;Ro;Sh            HOG0014921 core;single   No                     \n",
       "2 In;Ro;Sh            HOG0014921 core;single   No                     \n",
       "3 In;Ro;Sh            HOG0014921 core;single   No                     \n",
       "4 In;Ro;Sh            HOG0014921 core;single   No                     \n",
       "5 In;Ro;Sh            HOG0014921 core;single   No                     \n",
       "6 In;Ro;Sh            HOG0014921 core;single   No                     \n",
       "7 NotDE               HOG0014921 core;single   No                     "
      ]
     },
     "metadata": {},
     "output_type": "display_data"
    }
   ],
   "source": [
    "# find out duplicated rows\n",
    "#dup1 <- hogs %>% filter(GsRTD_gene_id == \"Igri_chr6HG28688\") %>% distinct(PanBaRT20_gene_id)\n",
    "dup1 <- hogs %>% filter(GsRTD_gene_id == \"Igri_chr6HG28688\") %>% distinct()\n",
    "dup1\n",
    "dup2 <- hogs %>% filter(GsRTD_gene_id == \"OUN333_chr2HG06674\") %>% distinct()\n",
    "dup2"
   ]
  },
  {
   "cell_type": "code",
   "execution_count": 6,
   "id": "55fbc6d5-33a9-4d73-8933-d95fbfe8d993",
   "metadata": {
    "tags": []
   },
   "outputs": [
    {
     "data": {
      "text/html": [
       "<style>\n",
       ".list-inline {list-style: none; margin:0; padding: 0}\n",
       ".list-inline>li {display: inline-block}\n",
       ".list-inline>li:not(:last-child)::after {content: \"\\00b7\"; padding: 0 .5ex}\n",
       "</style>\n",
       "<ol class=list-inline><li>11838</li><li>297</li></ol>\n"
      ],
      "text/latex": [
       "\\begin{enumerate*}\n",
       "\\item 11838\n",
       "\\item 297\n",
       "\\end{enumerate*}\n"
      ],
      "text/markdown": [
       "1. 11838\n",
       "2. 297\n",
       "\n",
       "\n"
      ],
      "text/plain": [
       "[1] 11838   297"
      ]
     },
     "metadata": {},
     "output_type": "display_data"
    },
    {
     "data": {
      "text/html": [
       "<table class=\"dataframe\">\n",
       "<caption>A data.frame: 2 × 297</caption>\n",
       "<thead>\n",
       "\t<tr><th></th><th scope=col>Akashinriki_Ca1</th><th scope=col>Akashinriki_Ca2</th><th scope=col>Akashinriki_Ca3</th><th scope=col>Akashinriki_Co1</th><th scope=col>Akashinriki_Co2</th><th scope=col>Akashinriki_Co3</th><th scope=col>Akashinriki_In1</th><th scope=col>Akashinriki_In2</th><th scope=col>Akashinriki_In3</th><th scope=col>Akashinriki_Ro1</th><th scope=col>⋯</th><th scope=col>RGTPlanet_Co3</th><th scope=col>RGTPlanet_In1</th><th scope=col>RGTPlanet_In2</th><th scope=col>RGTPlanet_In3</th><th scope=col>RGTPlanet_Ro1</th><th scope=col>RGTPlanet_Ro2</th><th scope=col>RGTPlanet_Ro3</th><th scope=col>RGTPlanet_Sh1</th><th scope=col>RGTPlanet_Sh2</th><th scope=col>RGTPlanet_Sh3</th></tr>\n",
       "\t<tr><th></th><th scope=col>&lt;dbl&gt;</th><th scope=col>&lt;dbl&gt;</th><th scope=col>&lt;dbl&gt;</th><th scope=col>&lt;dbl&gt;</th><th scope=col>&lt;dbl&gt;</th><th scope=col>&lt;dbl&gt;</th><th scope=col>&lt;dbl&gt;</th><th scope=col>&lt;dbl&gt;</th><th scope=col>&lt;dbl&gt;</th><th scope=col>&lt;dbl&gt;</th><th scope=col>⋯</th><th scope=col>&lt;dbl&gt;</th><th scope=col>&lt;dbl&gt;</th><th scope=col>&lt;dbl&gt;</th><th scope=col>&lt;dbl&gt;</th><th scope=col>&lt;dbl&gt;</th><th scope=col>&lt;dbl&gt;</th><th scope=col>&lt;dbl&gt;</th><th scope=col>&lt;dbl&gt;</th><th scope=col>&lt;dbl&gt;</th><th scope=col>&lt;dbl&gt;</th></tr>\n",
       "</thead>\n",
       "<tbody>\n",
       "\t<tr><th scope=row>chr6H66186</th><td>25.49234</td><td>23.29047</td><td>29.87313</td><td>111.9747</td><td>110.7764</td><td>119.3126</td><td>8.915942</td><td>3.067054</td><td>18.138828</td><td>0</td><td>⋯</td><td>19.74645</td><td>0.082525</td><td>0.000000</td><td>0.000000</td><td>0</td><td>0</td><td>0</td><td>312.31639</td><td>274.37789</td><td>186.0209</td></tr>\n",
       "\t<tr><th scope=row>chr7H70574</th><td>20.25627</td><td>19.78008</td><td>23.47470</td><td>117.7028</td><td>118.0877</td><td>124.4923</td><td>7.249765</td><td>5.715173</td><td> 6.260837</td><td>0</td><td>⋯</td><td>21.28653</td><td>4.672086</td><td>2.732484</td><td>1.975738</td><td>0</td><td>0</td><td>0</td><td> 68.48766</td><td> 51.78224</td><td> 34.3321</td></tr>\n",
       "</tbody>\n",
       "</table>\n"
      ],
      "text/latex": [
       "A data.frame: 2 × 297\n",
       "\\begin{tabular}{r|lllllllllllllllllllll}\n",
       "  & Akashinriki\\_Ca1 & Akashinriki\\_Ca2 & Akashinriki\\_Ca3 & Akashinriki\\_Co1 & Akashinriki\\_Co2 & Akashinriki\\_Co3 & Akashinriki\\_In1 & Akashinriki\\_In2 & Akashinriki\\_In3 & Akashinriki\\_Ro1 & ⋯ & RGTPlanet\\_Co3 & RGTPlanet\\_In1 & RGTPlanet\\_In2 & RGTPlanet\\_In3 & RGTPlanet\\_Ro1 & RGTPlanet\\_Ro2 & RGTPlanet\\_Ro3 & RGTPlanet\\_Sh1 & RGTPlanet\\_Sh2 & RGTPlanet\\_Sh3\\\\\n",
       "  & <dbl> & <dbl> & <dbl> & <dbl> & <dbl> & <dbl> & <dbl> & <dbl> & <dbl> & <dbl> & ⋯ & <dbl> & <dbl> & <dbl> & <dbl> & <dbl> & <dbl> & <dbl> & <dbl> & <dbl> & <dbl>\\\\\n",
       "\\hline\n",
       "\tchr6H66186 & 25.49234 & 23.29047 & 29.87313 & 111.9747 & 110.7764 & 119.3126 & 8.915942 & 3.067054 & 18.138828 & 0 & ⋯ & 19.74645 & 0.082525 & 0.000000 & 0.000000 & 0 & 0 & 0 & 312.31639 & 274.37789 & 186.0209\\\\\n",
       "\tchr7H70574 & 20.25627 & 19.78008 & 23.47470 & 117.7028 & 118.0877 & 124.4923 & 7.249765 & 5.715173 &  6.260837 & 0 & ⋯ & 21.28653 & 4.672086 & 2.732484 & 1.975738 & 0 & 0 & 0 &  68.48766 &  51.78224 &  34.3321\\\\\n",
       "\\end{tabular}\n"
      ],
      "text/markdown": [
       "\n",
       "A data.frame: 2 × 297\n",
       "\n",
       "| <!--/--> | Akashinriki_Ca1 &lt;dbl&gt; | Akashinriki_Ca2 &lt;dbl&gt; | Akashinriki_Ca3 &lt;dbl&gt; | Akashinriki_Co1 &lt;dbl&gt; | Akashinriki_Co2 &lt;dbl&gt; | Akashinriki_Co3 &lt;dbl&gt; | Akashinriki_In1 &lt;dbl&gt; | Akashinriki_In2 &lt;dbl&gt; | Akashinriki_In3 &lt;dbl&gt; | Akashinriki_Ro1 &lt;dbl&gt; | ⋯ ⋯ | RGTPlanet_Co3 &lt;dbl&gt; | RGTPlanet_In1 &lt;dbl&gt; | RGTPlanet_In2 &lt;dbl&gt; | RGTPlanet_In3 &lt;dbl&gt; | RGTPlanet_Ro1 &lt;dbl&gt; | RGTPlanet_Ro2 &lt;dbl&gt; | RGTPlanet_Ro3 &lt;dbl&gt; | RGTPlanet_Sh1 &lt;dbl&gt; | RGTPlanet_Sh2 &lt;dbl&gt; | RGTPlanet_Sh3 &lt;dbl&gt; |\n",
       "|---|---|---|---|---|---|---|---|---|---|---|---|---|---|---|---|---|---|---|---|---|---|\n",
       "| chr6H66186 | 25.49234 | 23.29047 | 29.87313 | 111.9747 | 110.7764 | 119.3126 | 8.915942 | 3.067054 | 18.138828 | 0 | ⋯ | 19.74645 | 0.082525 | 0.000000 | 0.000000 | 0 | 0 | 0 | 312.31639 | 274.37789 | 186.0209 |\n",
       "| chr7H70574 | 20.25627 | 19.78008 | 23.47470 | 117.7028 | 118.0877 | 124.4923 | 7.249765 | 5.715173 |  6.260837 | 0 | ⋯ | 21.28653 | 4.672086 | 2.732484 | 1.975738 | 0 | 0 | 0 |  68.48766 |  51.78224 |  34.3321 |\n",
       "\n"
      ],
      "text/plain": [
       "           Akashinriki_Ca1 Akashinriki_Ca2 Akashinriki_Ca3 Akashinriki_Co1\n",
       "chr6H66186 25.49234        23.29047        29.87313        111.9747       \n",
       "chr7H70574 20.25627        19.78008        23.47470        117.7028       \n",
       "           Akashinriki_Co2 Akashinriki_Co3 Akashinriki_In1 Akashinriki_In2\n",
       "chr6H66186 110.7764        119.3126        8.915942        3.067054       \n",
       "chr7H70574 118.0877        124.4923        7.249765        5.715173       \n",
       "           Akashinriki_In3 Akashinriki_Ro1 ⋯ RGTPlanet_Co3 RGTPlanet_In1\n",
       "chr6H66186 18.138828       0               ⋯ 19.74645      0.082525     \n",
       "chr7H70574  6.260837       0               ⋯ 21.28653      4.672086     \n",
       "           RGTPlanet_In2 RGTPlanet_In3 RGTPlanet_Ro1 RGTPlanet_Ro2\n",
       "chr6H66186 0.000000      0.000000      0             0            \n",
       "chr7H70574 2.732484      1.975738      0             0            \n",
       "           RGTPlanet_Ro3 RGTPlanet_Sh1 RGTPlanet_Sh2 RGTPlanet_Sh3\n",
       "chr6H66186 0             312.31639     274.37789     186.0209     \n",
       "chr7H70574 0              68.48766      51.78224      34.3321     "
      ]
     },
     "metadata": {},
     "output_type": "display_data"
    }
   ],
   "source": [
    "# subset tpm table with 20let-HOGs\n",
    "tpm_geneID <- tpm %>% rownames_to_column(\"PanBaRT20_gene_id\")\n",
    "tpm_filt <- inner_join(hog20genesonly, tpm_geneID, by = \"PanBaRT20_gene_id\") %>% column_to_rownames(\"PanBaRT20_gene_id\")\n",
    "dim(tpm_filt)\n",
    "head(tpm_filt, 2)"
   ]
  },
  {
   "cell_type": "code",
   "execution_count": 7,
   "id": "9731babf-592e-43fe-b5b1-6af45482505a",
   "metadata": {},
   "outputs": [
    {
     "data": {
      "text/html": [
       "<table class=\"dataframe\">\n",
       "<caption>A data.frame: 2 × 79580</caption>\n",
       "<thead>\n",
       "\t<tr><th></th><th scope=col>chr1H00001</th><th scope=col>chr1H00002</th><th scope=col>chr1H00003</th><th scope=col>chr1H00004</th><th scope=col>chr1H00005</th><th scope=col>chr1H00006</th><th scope=col>chr1H00007</th><th scope=col>chr1H00008</th><th scope=col>chr1H00009</th><th scope=col>chr1H00010</th><th scope=col>⋯</th><th scope=col>chr7H79571</th><th scope=col>chr7H79572</th><th scope=col>chr7H79573</th><th scope=col>chr7H79574</th><th scope=col>chr7H79575</th><th scope=col>chr7H79576</th><th scope=col>chr7H79577</th><th scope=col>chr7H79578</th><th scope=col>chr7H79579</th><th scope=col>chr7H79580</th></tr>\n",
       "\t<tr><th></th><th scope=col>&lt;dbl&gt;</th><th scope=col>&lt;dbl&gt;</th><th scope=col>&lt;dbl&gt;</th><th scope=col>&lt;dbl&gt;</th><th scope=col>&lt;dbl&gt;</th><th scope=col>&lt;dbl&gt;</th><th scope=col>&lt;dbl&gt;</th><th scope=col>&lt;dbl&gt;</th><th scope=col>&lt;dbl&gt;</th><th scope=col>&lt;dbl&gt;</th><th scope=col>⋯</th><th scope=col>&lt;dbl&gt;</th><th scope=col>&lt;dbl&gt;</th><th scope=col>&lt;dbl&gt;</th><th scope=col>&lt;dbl&gt;</th><th scope=col>&lt;dbl&gt;</th><th scope=col>&lt;dbl&gt;</th><th scope=col>&lt;dbl&gt;</th><th scope=col>&lt;dbl&gt;</th><th scope=col>&lt;dbl&gt;</th><th scope=col>&lt;dbl&gt;</th></tr>\n",
       "</thead>\n",
       "<tbody>\n",
       "\t<tr><th scope=row>Akashinriki_Ca1</th><td>4.007573</td><td>130.42341</td><td>0</td><td>0</td><td>1.808930</td><td>5.673198</td><td>27.76783</td><td>25.03242</td><td>8.906746</td><td>214.8217</td><td>⋯</td><td>2.001052</td><td>0.713503</td><td>1.853821</td><td>0.475589</td><td>0</td><td>10.898248</td><td>25.31995</td><td>2.112613</td><td>0.058038</td><td>0</td></tr>\n",
       "\t<tr><th scope=row>Akashinriki_Ca2</th><td>3.927487</td><td> 95.90984</td><td>0</td><td>0</td><td>1.464428</td><td>5.194460</td><td>21.77769</td><td>24.80091</td><td>7.228023</td><td>195.0607</td><td>⋯</td><td>1.397187</td><td>0.264392</td><td>1.566389</td><td>0.209979</td><td>0</td><td> 8.656334</td><td>20.34395</td><td>1.324194</td><td>0.289481</td><td>0</td></tr>\n",
       "</tbody>\n",
       "</table>\n"
      ],
      "text/latex": [
       "A data.frame: 2 × 79580\n",
       "\\begin{tabular}{r|lllllllllllllllllllll}\n",
       "  & chr1H00001 & chr1H00002 & chr1H00003 & chr1H00004 & chr1H00005 & chr1H00006 & chr1H00007 & chr1H00008 & chr1H00009 & chr1H00010 & ⋯ & chr7H79571 & chr7H79572 & chr7H79573 & chr7H79574 & chr7H79575 & chr7H79576 & chr7H79577 & chr7H79578 & chr7H79579 & chr7H79580\\\\\n",
       "  & <dbl> & <dbl> & <dbl> & <dbl> & <dbl> & <dbl> & <dbl> & <dbl> & <dbl> & <dbl> & ⋯ & <dbl> & <dbl> & <dbl> & <dbl> & <dbl> & <dbl> & <dbl> & <dbl> & <dbl> & <dbl>\\\\\n",
       "\\hline\n",
       "\tAkashinriki\\_Ca1 & 4.007573 & 130.42341 & 0 & 0 & 1.808930 & 5.673198 & 27.76783 & 25.03242 & 8.906746 & 214.8217 & ⋯ & 2.001052 & 0.713503 & 1.853821 & 0.475589 & 0 & 10.898248 & 25.31995 & 2.112613 & 0.058038 & 0\\\\\n",
       "\tAkashinriki\\_Ca2 & 3.927487 &  95.90984 & 0 & 0 & 1.464428 & 5.194460 & 21.77769 & 24.80091 & 7.228023 & 195.0607 & ⋯ & 1.397187 & 0.264392 & 1.566389 & 0.209979 & 0 &  8.656334 & 20.34395 & 1.324194 & 0.289481 & 0\\\\\n",
       "\\end{tabular}\n"
      ],
      "text/markdown": [
       "\n",
       "A data.frame: 2 × 79580\n",
       "\n",
       "| <!--/--> | chr1H00001 &lt;dbl&gt; | chr1H00002 &lt;dbl&gt; | chr1H00003 &lt;dbl&gt; | chr1H00004 &lt;dbl&gt; | chr1H00005 &lt;dbl&gt; | chr1H00006 &lt;dbl&gt; | chr1H00007 &lt;dbl&gt; | chr1H00008 &lt;dbl&gt; | chr1H00009 &lt;dbl&gt; | chr1H00010 &lt;dbl&gt; | ⋯ ⋯ | chr7H79571 &lt;dbl&gt; | chr7H79572 &lt;dbl&gt; | chr7H79573 &lt;dbl&gt; | chr7H79574 &lt;dbl&gt; | chr7H79575 &lt;dbl&gt; | chr7H79576 &lt;dbl&gt; | chr7H79577 &lt;dbl&gt; | chr7H79578 &lt;dbl&gt; | chr7H79579 &lt;dbl&gt; | chr7H79580 &lt;dbl&gt; |\n",
       "|---|---|---|---|---|---|---|---|---|---|---|---|---|---|---|---|---|---|---|---|---|---|\n",
       "| Akashinriki_Ca1 | 4.007573 | 130.42341 | 0 | 0 | 1.808930 | 5.673198 | 27.76783 | 25.03242 | 8.906746 | 214.8217 | ⋯ | 2.001052 | 0.713503 | 1.853821 | 0.475589 | 0 | 10.898248 | 25.31995 | 2.112613 | 0.058038 | 0 |\n",
       "| Akashinriki_Ca2 | 3.927487 |  95.90984 | 0 | 0 | 1.464428 | 5.194460 | 21.77769 | 24.80091 | 7.228023 | 195.0607 | ⋯ | 1.397187 | 0.264392 | 1.566389 | 0.209979 | 0 |  8.656334 | 20.34395 | 1.324194 | 0.289481 | 0 |\n",
       "\n"
      ],
      "text/plain": [
       "                chr1H00001 chr1H00002 chr1H00003 chr1H00004 chr1H00005\n",
       "Akashinriki_Ca1 4.007573   130.42341  0          0          1.808930  \n",
       "Akashinriki_Ca2 3.927487    95.90984  0          0          1.464428  \n",
       "                chr1H00006 chr1H00007 chr1H00008 chr1H00009 chr1H00010 ⋯\n",
       "Akashinriki_Ca1 5.673198   27.76783   25.03242   8.906746   214.8217   ⋯\n",
       "Akashinriki_Ca2 5.194460   21.77769   24.80091   7.228023   195.0607   ⋯\n",
       "                chr7H79571 chr7H79572 chr7H79573 chr7H79574 chr7H79575\n",
       "Akashinriki_Ca1 2.001052   0.713503   1.853821   0.475589   0         \n",
       "Akashinriki_Ca2 1.397187   0.264392   1.566389   0.209979   0         \n",
       "                chr7H79576 chr7H79577 chr7H79578 chr7H79579 chr7H79580\n",
       "Akashinriki_Ca1 10.898248  25.31995   2.112613   0.058038   0         \n",
       "Akashinriki_Ca2  8.656334  20.34395   1.324194   0.289481   0         "
      ]
     },
     "metadata": {},
     "output_type": "display_data"
    }
   ],
   "source": [
    "trans_tpm <- as.data.frame(t(tpm))\n",
    "head(trans_tpm, 2)"
   ]
  },
  {
   "cell_type": "code",
   "execution_count": 11,
   "id": "9e9f9b4f-30cb-40d9-b8bc-8ee91a75fd3f",
   "metadata": {
    "tags": []
   },
   "outputs": [
    {
     "data": {
      "text/html": [
       "<table class=\"dataframe\">\n",
       "<caption>A data.frame: 2 × 4</caption>\n",
       "<thead>\n",
       "\t<tr><th></th><th scope=col>ID</th><th scope=col>Accession</th><th scope=col>Tissue</th><th scope=col>Batch</th></tr>\n",
       "\t<tr><th></th><th scope=col>&lt;chr&gt;</th><th scope=col>&lt;chr&gt;</th><th scope=col>&lt;chr&gt;</th><th scope=col>&lt;dbl&gt;</th></tr>\n",
       "</thead>\n",
       "<tbody>\n",
       "\t<tr><th scope=row>1</th><td>Akashinriki_Ca1</td><td>Akashinriki</td><td>Caryopsis</td><td>1</td></tr>\n",
       "\t<tr><th scope=row>2</th><td>Akashinriki_Ca2</td><td>Akashinriki</td><td>Caryopsis</td><td>2</td></tr>\n",
       "</tbody>\n",
       "</table>\n"
      ],
      "text/latex": [
       "A data.frame: 2 × 4\n",
       "\\begin{tabular}{r|llll}\n",
       "  & ID & Accession & Tissue & Batch\\\\\n",
       "  & <chr> & <chr> & <chr> & <dbl>\\\\\n",
       "\\hline\n",
       "\t1 & Akashinriki\\_Ca1 & Akashinriki & Caryopsis & 1\\\\\n",
       "\t2 & Akashinriki\\_Ca2 & Akashinriki & Caryopsis & 2\\\\\n",
       "\\end{tabular}\n"
      ],
      "text/markdown": [
       "\n",
       "A data.frame: 2 × 4\n",
       "\n",
       "| <!--/--> | ID &lt;chr&gt; | Accession &lt;chr&gt; | Tissue &lt;chr&gt; | Batch &lt;dbl&gt; |\n",
       "|---|---|---|---|---|\n",
       "| 1 | Akashinriki_Ca1 | Akashinriki | Caryopsis | 1 |\n",
       "| 2 | Akashinriki_Ca2 | Akashinriki | Caryopsis | 2 |\n",
       "\n"
      ],
      "text/plain": [
       "  ID              Accession   Tissue    Batch\n",
       "1 Akashinriki_Ca1 Akashinriki Caryopsis 1    \n",
       "2 Akashinriki_Ca2 Akashinriki Caryopsis 2    "
      ]
     },
     "metadata": {},
     "output_type": "display_data"
    },
    {
     "name": "stdout",
     "output_type": "stream",
     "text": [
      "Rows: 297\n",
      "Columns: 4\n",
      "$ ID        \u001b[3m\u001b[90m<chr>\u001b[39m\u001b[23m \"Akashinriki_Ca1\", \"Akashinriki_Ca2\", \"Akashinriki_Ca3\", \"Ak…\n",
      "$ Accession \u001b[3m\u001b[90m<chr>\u001b[39m\u001b[23m \"Akashinriki\", \"Akashinriki\", \"Akashinriki\", \"Akashinriki\", …\n",
      "$ Tissue    \u001b[3m\u001b[90m<chr>\u001b[39m\u001b[23m \"Caryopsis\", \"Caryopsis\", \"Caryopsis\", \"Coleoptiles\", \"Coleo…\n",
      "$ Batch     \u001b[3m\u001b[90m<dbl>\u001b[39m\u001b[23m 1, 2, 3, 1, 2, 3, 1, 2, 3, 1, 2, 3, 1, 2, 3, 1, 2, 3, 1, 2, …\n"
     ]
    },
    {
     "data": {
      "text/html": [
       "<style>\n",
       ".list-inline {list-style: none; margin:0; padding: 0}\n",
       ".list-inline>li {display: inline-block}\n",
       ".list-inline>li:not(:last-child)::after {content: \"\\00b7\"; padding: 0 .5ex}\n",
       "</style>\n",
       "<ol class=list-inline><li>20</li><li>1</li></ol>\n"
      ],
      "text/latex": [
       "\\begin{enumerate*}\n",
       "\\item 20\n",
       "\\item 1\n",
       "\\end{enumerate*}\n"
      ],
      "text/markdown": [
       "1. 20\n",
       "2. 1\n",
       "\n",
       "\n"
      ],
      "text/plain": [
       "[1] 20  1"
      ]
     },
     "metadata": {},
     "output_type": "display_data"
    }
   ],
   "source": [
    "# create metatable\n",
    "meta <- trans_tpm %>% rownames_to_column(\"ID\") %>%\n",
    "                        select(ID) %>%\n",
    "                        mutate(Accession = str_extract(ID, regex(\"[a-z0-9]+\", ignore_case = TRUE))) %>%\n",
    "                        mutate(Tissue = str_sub(str_extract(ID, regex(\"_[a-z]+\", ignore_case = TRUE)), -2)) %>%\n",
    "                        mutate(Batch = as.numeric(str_extract(ID, regex(\"[1-3]\")))) %>%\n",
    "                        mutate(Tissue = case_when(Tissue == \"Ca\" ~ \"Caryopsis\",\n",
    "                                                  Tissue == \"Co\" ~ \"Coleoptiles\",\n",
    "                                                  Tissue == \"Sh\" ~ \"Shoot\",\n",
    "                                                  Tissue == \"Ro\" ~ \"Root\",\n",
    "                                                  Tissue == \"In\" ~ \"Inflorescence\"))\n",
    "head(meta, 2)\n",
    "glimpse(meta)\n",
    "# save joined metatable for all accessions together\n",
    "write.csv(meta, file = \"PanBaRT20_geneTPM_meta.csv\", row.names = FALSE)\n",
    "# save project table with each accession mentioned once\n",
    "meta_acc <- meta %>% select(Accession) %>% distinct()\n",
    "dim(meta_acc)\n",
    "write.table(meta_acc, file = \"PanBaRT20_project_table.txt\", row.names = FALSE)\n",
    "# save accession-wise metatable\n",
    "acc <- unique(meta$Accession)\n",
    "for (ac in acc) {\n",
    "    subset_meta <- meta %>% filter(Accession == ac)\n",
    "    filename <- paste0(ac, \"_meta.csv\")\n",
    "    write.csv(subset_meta, file = filename, row.names = FALSE)\n",
    "    }"
   ]
  },
  {
   "cell_type": "code",
   "execution_count": 23,
   "id": "894bd694-dfbd-461b-be6e-713a6df76361",
   "metadata": {
    "tags": []
   },
   "outputs": [
    {
     "data": {
      "text/html": [
       "'Akashinriki'"
      ],
      "text/latex": [
       "'Akashinriki'"
      ],
      "text/markdown": [
       "'Akashinriki'"
      ],
      "text/plain": [
       "[1] \"Akashinriki\""
      ]
     },
     "metadata": {},
     "output_type": "display_data"
    }
   ],
   "source": [
    "meta$Accession[1]"
   ]
  },
  {
   "cell_type": "code",
   "execution_count": 24,
   "id": "aa2553c1-0fc5-458d-8fd1-742f3129daa9",
   "metadata": {
    "tags": []
   },
   "outputs": [
    {
     "data": {
      "text/html": [
       "<style>\n",
       ".list-inline {list-style: none; margin:0; padding: 0}\n",
       ".list-inline>li {display: inline-block}\n",
       ".list-inline>li:not(:last-child)::after {content: \"\\00b7\"; padding: 0 .5ex}\n",
       "</style>\n",
       "<ol class=list-inline><li>'Akashinriki'</li><li>'Barke'</li><li>'ZDM02064'</li><li>'ZDM01467'</li><li>'B1K'</li><li>'GoldenPromise'</li><li>'Hockett'</li><li>'HOR10350'</li><li>'HOR13821'</li><li>'HOR13942'</li><li>'HOR21599'</li><li>'HOR3081'</li><li>'HOR3365'</li><li>'HOR7552'</li><li>'HOR8148'</li><li>'HOR9043'</li><li>'Igri'</li><li>'Morex'</li><li>'OUN333'</li><li>'RGTPlanet'</li></ol>\n"
      ],
      "text/latex": [
       "\\begin{enumerate*}\n",
       "\\item 'Akashinriki'\n",
       "\\item 'Barke'\n",
       "\\item 'ZDM02064'\n",
       "\\item 'ZDM01467'\n",
       "\\item 'B1K'\n",
       "\\item 'GoldenPromise'\n",
       "\\item 'Hockett'\n",
       "\\item 'HOR10350'\n",
       "\\item 'HOR13821'\n",
       "\\item 'HOR13942'\n",
       "\\item 'HOR21599'\n",
       "\\item 'HOR3081'\n",
       "\\item 'HOR3365'\n",
       "\\item 'HOR7552'\n",
       "\\item 'HOR8148'\n",
       "\\item 'HOR9043'\n",
       "\\item 'Igri'\n",
       "\\item 'Morex'\n",
       "\\item 'OUN333'\n",
       "\\item 'RGTPlanet'\n",
       "\\end{enumerate*}\n"
      ],
      "text/markdown": [
       "1. 'Akashinriki'\n",
       "2. 'Barke'\n",
       "3. 'ZDM02064'\n",
       "4. 'ZDM01467'\n",
       "5. 'B1K'\n",
       "6. 'GoldenPromise'\n",
       "7. 'Hockett'\n",
       "8. 'HOR10350'\n",
       "9. 'HOR13821'\n",
       "10. 'HOR13942'\n",
       "11. 'HOR21599'\n",
       "12. 'HOR3081'\n",
       "13. 'HOR3365'\n",
       "14. 'HOR7552'\n",
       "15. 'HOR8148'\n",
       "16. 'HOR9043'\n",
       "17. 'Igri'\n",
       "18. 'Morex'\n",
       "19. 'OUN333'\n",
       "20. 'RGTPlanet'\n",
       "\n",
       "\n"
      ],
      "text/plain": [
       " [1] \"Akashinriki\"   \"Barke\"         \"ZDM02064\"      \"ZDM01467\"     \n",
       " [5] \"B1K\"           \"GoldenPromise\" \"Hockett\"       \"HOR10350\"     \n",
       " [9] \"HOR13821\"      \"HOR13942\"      \"HOR21599\"      \"HOR3081\"      \n",
       "[13] \"HOR3365\"       \"HOR7552\"       \"HOR8148\"       \"HOR9043\"      \n",
       "[17] \"Igri\"          \"Morex\"         \"OUN333\"        \"RGTPlanet\"    "
      ]
     },
     "metadata": {},
     "output_type": "display_data"
    },
    {
     "name": "stdout",
     "output_type": "stream",
     "text": [
      "[1] \"Akashinriki filtered genes with >0.5 for min 2 samples across all samples:11834\"\n",
      "[2] \"Akashinriki filtered genes with >0.5 for min 2 samples across all samples:15\"   \n",
      "[1] \"Barke filtered genes with >0.5 for min 2 samples across all samples:11833\"\n",
      "[2] \"Barke filtered genes with >0.5 for min 2 samples across all samples:15\"   \n",
      "[1] \"ZDM02064 filtered genes with >0.5 for min 2 samples across all samples:11832\"\n",
      "[2] \"ZDM02064 filtered genes with >0.5 for min 2 samples across all samples:15\"   \n",
      "[1] \"ZDM01467 filtered genes with >0.5 for min 2 samples across all samples:11830\"\n",
      "[2] \"ZDM01467 filtered genes with >0.5 for min 2 samples across all samples:15\"   \n",
      "[1] \"B1K filtered genes with >0.5 for min 2 samples across all samples:11829\"\n",
      "[2] \"B1K filtered genes with >0.5 for min 2 samples across all samples:15\"   \n",
      "[1] \"GoldenPromise filtered genes with >0.5 for min 2 samples across all samples:11832\"\n",
      "[2] \"GoldenPromise filtered genes with >0.5 for min 2 samples across all samples:15\"   \n",
      "[1] \"Hockett filtered genes with >0.5 for min 2 samples across all samples:11833\"\n",
      "[2] \"Hockett filtered genes with >0.5 for min 2 samples across all samples:15\"   \n",
      "[1] \"HOR10350 filtered genes with >0.5 for min 2 samples across all samples:11830\"\n",
      "[2] \"HOR10350 filtered genes with >0.5 for min 2 samples across all samples:14\"   \n",
      "[1] \"HOR13821 filtered genes with >0.5 for min 2 samples across all samples:11831\"\n",
      "[2] \"HOR13821 filtered genes with >0.5 for min 2 samples across all samples:15\"   \n",
      "[1] \"HOR13942 filtered genes with >0.5 for min 2 samples across all samples:11833\"\n",
      "[2] \"HOR13942 filtered genes with >0.5 for min 2 samples across all samples:15\"   \n",
      "[1] \"HOR21599 filtered genes with >0.5 for min 2 samples across all samples:11833\"\n",
      "[2] \"HOR21599 filtered genes with >0.5 for min 2 samples across all samples:15\"   \n",
      "[1] \"HOR3081 filtered genes with >0.5 for min 2 samples across all samples:11835\"\n",
      "[2] \"HOR3081 filtered genes with >0.5 for min 2 samples across all samples:15\"   \n",
      "[1] \"HOR3365 filtered genes with >0.5 for min 2 samples across all samples:11832\"\n",
      "[2] \"HOR3365 filtered genes with >0.5 for min 2 samples across all samples:15\"   \n",
      "[1] \"HOR7552 filtered genes with >0.5 for min 2 samples across all samples:11831\"\n",
      "[2] \"HOR7552 filtered genes with >0.5 for min 2 samples across all samples:14\"   \n",
      "[1] \"HOR8148 filtered genes with >0.5 for min 2 samples across all samples:11831\"\n",
      "[2] \"HOR8148 filtered genes with >0.5 for min 2 samples across all samples:14\"   \n",
      "[1] \"HOR9043 filtered genes with >0.5 for min 2 samples across all samples:11829\"\n",
      "[2] \"HOR9043 filtered genes with >0.5 for min 2 samples across all samples:15\"   \n",
      "[1] \"Igri filtered genes with >0.5 for min 2 samples across all samples:11833\"\n",
      "[2] \"Igri filtered genes with >0.5 for min 2 samples across all samples:15\"   \n",
      "[1] \"Morex filtered genes with >0.5 for min 2 samples across all samples:11832\"\n",
      "[2] \"Morex filtered genes with >0.5 for min 2 samples across all samples:15\"   \n",
      "[1] \"OUN333 filtered genes with >0.5 for min 2 samples across all samples:11833\"\n",
      "[2] \"OUN333 filtered genes with >0.5 for min 2 samples across all samples:15\"   \n",
      "[1] \"RGTPlanet filtered genes with >0.5 for min 2 samples across all samples:11831\"\n",
      "[2] \"RGTPlanet filtered genes with >0.5 for min 2 samples across all samples:15\"   \n"
     ]
    }
   ],
   "source": [
    "# divide accessions into separate tpm tables and save them\n",
    "# create vector of accession types\n",
    "acc <- unique(meta$Accession)\n",
    "acc\n",
    "# Extract subtables for matching column names\n",
    "subtables <- lapply(acc, function(name) {\n",
    "  matching_cols <- grep(paste0(\"^\", name), colnames(tpm_filt))\n",
    "  subtable <- tpm_filt[, matching_cols, drop = FALSE]\n",
    "  # filter each ort_accession_subtable for low-expressing genes\n",
    "  idx <- rowSums(subtable >= 0.5) >= 2\n",
    "  subtable <- subtable[idx,]\n",
    "  print(paste0(name, \" filtered genes with >0.5 for min 2 samples across all samples:\", dim(subtable)))\n",
    "  # Save each subtable in a separate file\n",
    "  file_name <- paste0(\"PanBaRT20_geneTPM_ort_filt_\", name, \".csv\")\n",
    "  write.csv(subtable, file = file_name, row.names = TRUE)\n",
    "})"
   ]
  },
  {
   "cell_type": "code",
   "execution_count": null,
   "id": "160a3bd4-964a-44e9-a458-43392340952d",
   "metadata": {},
   "outputs": [],
   "source": []
  },
  {
   "cell_type": "code",
   "execution_count": null,
   "id": "bb30c442-5459-457d-a7e2-8c8bb4a2ae39",
   "metadata": {},
   "outputs": [],
   "source": []
  },
  {
   "cell_type": "code",
   "execution_count": null,
   "id": "19211280-8cdf-48e3-aad1-7187af5a687a",
   "metadata": {},
   "outputs": [],
   "source": []
  },
  {
   "cell_type": "code",
   "execution_count": 49,
   "id": "4585610b-6006-4aeb-86c5-c5119270497c",
   "metadata": {
    "tags": []
   },
   "outputs": [
    {
     "data": {
      "text/plain": [
       "R version 4.2.3 (2023-03-15)\n",
       "Platform: x86_64-conda-linux-gnu (64-bit)\n",
       "Running under: Ubuntu 22.04.2 LTS\n",
       "\n",
       "Matrix products: default\n",
       "BLAS/LAPACK: /home/vanda/miniconda3/envs/r/lib/libopenblasp-r0.3.21.so\n",
       "\n",
       "locale:\n",
       " [1] LC_CTYPE=en_US.UTF-8       LC_NUMERIC=C              \n",
       " [3] LC_TIME=de_DE.UTF-8        LC_COLLATE=en_US.UTF-8    \n",
       " [5] LC_MONETARY=de_DE.UTF-8    LC_MESSAGES=en_US.UTF-8   \n",
       " [7] LC_PAPER=de_DE.UTF-8       LC_NAME=C                 \n",
       " [9] LC_ADDRESS=C               LC_TELEPHONE=C            \n",
       "[11] LC_MEASUREMENT=de_DE.UTF-8 LC_IDENTIFICATION=C       \n",
       "\n",
       "attached base packages:\n",
       "[1] stats     graphics  grDevices utils     datasets  methods   base     \n",
       "\n",
       "other attached packages:\n",
       " [1] lubridate_1.9.2 forcats_1.0.0   stringr_1.5.0   dplyr_1.1.1    \n",
       " [5] purrr_1.0.1     readr_2.1.4     tidyr_1.3.0     tibble_3.2.1   \n",
       " [9] ggplot2_3.4.1   tidyverse_2.0.0\n",
       "\n",
       "loaded via a namespace (and not attached):\n",
       " [1] pillar_1.9.0     compiler_4.2.3   base64enc_0.1-3  tools_4.2.3     \n",
       " [5] digest_0.6.31    uuid_1.1-0       timechange_0.2.0 jsonlite_1.8.4  \n",
       " [9] evaluate_0.20    lifecycle_1.0.3  gtable_0.3.3     pkgconfig_2.0.3 \n",
       "[13] rlang_1.1.0      IRdisplay_1.1    cli_3.6.1        IRkernel_1.3.2  \n",
       "[17] fastmap_1.1.1    repr_1.1.6       withr_2.5.0      hms_1.1.3       \n",
       "[21] generics_0.1.3   vctrs_0.6.1      grid_4.2.3       tidyselect_1.2.0\n",
       "[25] glue_1.6.2       R6_2.5.1         fansi_1.0.4      pbdZMQ_0.3-9    \n",
       "[29] tzdb_0.3.0       magrittr_2.0.3   scales_1.2.1     htmltools_0.5.5 \n",
       "[33] colorspace_2.1-0 utf8_1.2.3       stringi_1.7.12   munsell_0.5.0   \n",
       "[37] crayon_1.5.2    "
      ]
     },
     "metadata": {},
     "output_type": "display_data"
    }
   ],
   "source": [
    "sessionInfo()"
   ]
  },
  {
   "cell_type": "code",
   "execution_count": null,
   "id": "266e8a85-c51a-494a-88ca-81de65f04e2e",
   "metadata": {},
   "outputs": [],
   "source": []
  }
 ],
 "metadata": {
  "kernelspec": {
   "display_name": "R [conda env:r]",
   "language": "R",
   "name": "conda-env-r-r"
  },
  "language_info": {
   "codemirror_mode": "r",
   "file_extension": ".r",
   "mimetype": "text/x-r-source",
   "name": "R",
   "pygments_lexer": "r",
   "version": "4.2.3"
  }
 },
 "nbformat": 4,
 "nbformat_minor": 5
}
